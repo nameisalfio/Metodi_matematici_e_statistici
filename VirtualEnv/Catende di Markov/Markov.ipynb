{
 "cells": [
  {
   "cell_type": "markdown",
   "id": "9b8d9c03-a5e1-4a9f-b6ce-dbe18e31d4f2",
   "metadata": {},
   "source": [
    "# Esercizio\n",
    "\n",
    "Data la matrice di transizione\n",
    "<br>\n",
    "\\begin{bmatrix}\n",
    "0 & \\frac{1}{4} & \\frac{3}{4} \\\\\n",
    "0 & \\frac{1}{2} & \\frac{1}{2} \\\\\n",
    "\\frac{3}{4} & 0 & \\frac{1}{4} \\\\\n",
    "\\end{bmatrix}\n",
    "<br>\n",
    "dimostrare che ha un’unica distribuzione stazionaria π e determinarla sia analiticamente che con\n",
    "il metodo Monte Carlo confrontando infine i risultati.\n",
    "<br>"
   ]
  },
  {
   "cell_type": "markdown",
   "id": "e0de4522-6cba-4448-b0ba-e47ebad2b0fc",
   "metadata": {},
   "source": [
    "### Definiamo gli stati comunicanti\n",
    "- 1->2, 1->3\n",
    "- 2->2, 2->3\n",
    "- 3->1, 3->3\n",
    "\n",
    "Per transitività 3->2 quindi tutti gli stati comunicano tra loro, quindi la catena è **irriducibile**.<br>\n",
    "Inoltre p_22 e p_33 sono > 0 (essendoci almeno un elemento non nullo nella diagonale principale), quindi per il criterio di regolarità essa è **regolare**.<br>\n",
    "\n",
    "### Criterio di regolarità\n",
    "D'altra parte la catena è irriducibile e almeno un elemento nella diagonale è positivo. Quindi esiste un'unica distribuzione stazionaria.<br>\n",
    "\n",
    "### Teorema di Markov\n",
    "Per il teorema di Markov la catena ha un'unica distribuzione stazionaria dato che P è **regolare** .<br>"
   ]
  },
  {
   "cell_type": "code",
   "execution_count": 6,
   "id": "9459d73d-5361-45ce-8e17-f6ff4fc79d8b",
   "metadata": {},
   "outputs": [
    {
     "name": "stdout",
     "output_type": "stream",
     "text": [
      "Matrice P^2: \n",
      "[[0.5625 0.125  0.3125]\n",
      " [0.375  0.25   0.375 ]\n",
      " [0.1875 0.1875 0.625 ]]\n",
      "\n",
      "Ha tutti valori positivi, per tanto P è regolare per definizione (ulteriore prova)\n"
     ]
    }
   ],
   "source": [
    "import numpy as np\n",
    "\n",
    "P = np.array([\n",
    "    [0, 1/4, 3/4],\n",
    "    [0, 1/2, 1/2],\n",
    "    [3/4, 0, 1/4]\n",
    "])\n",
    "\n",
    "print(f'Matrice P^2: \\n{np.dot(P,P)}\\n')\n",
    "print('Ha tutti valori positivi, per tanto P è regolare per definizione (ulteriore prova)')"
   ]
  },
  {
   "cell_type": "markdown",
   "id": "d9b3a7c0-64f5-4297-997a-fe125424e9d4",
   "metadata": {},
   "source": [
    "## Metodo algebrico"
   ]
  },
  {
   "cell_type": "code",
   "execution_count": 46,
   "id": "667d5779-a1cc-4558-bc56-95af897ad55d",
   "metadata": {},
   "outputs": [
    {
     "name": "stdout",
     "output_type": "stream",
     "text": [
      "Autovalori: [-0.57569391  1.          0.32569391]\n",
      "\n",
      "Matrice le cui colonne dono gli autovettori: \n",
      "[[ 0.78010553 -0.57469577  0.55506939]\n",
      " [-0.18130286 -0.28734789 -0.79611302]\n",
      " [-0.59880267 -0.76626103  0.24104363]]\n",
      "\n",
      "Distribuzione stazionaria: [0.35294118 0.17647059 0.47058824]\n"
     ]
    }
   ],
   "source": [
    "lam, V = np.linalg.eig(P.T) # Trasposta perchè voglio i sinistri\n",
    "\n",
    "print(f'Autovalori: {lam}\\n')\n",
    "print(f'Matrice le cui colonne dono gli autovettori: \\n{V}\\n')\n",
    "\n",
    "# Per la distribuzione stazionaria prendo la colonna corrispondente all'autovalore 1 (la seconda)\n",
    "\n",
    "v = V[:,1]/np.sum(V[:,1]) # divido per la somma perchè voglio normalizzare\n",
    "print(f'Distribuzione stazionaria: {v}')"
   ]
  },
  {
   "cell_type": "markdown",
   "id": "3ecc2eb7-047a-4fd3-a616-8258329027fe",
   "metadata": {},
   "source": [
    "## Metodo Monte Carlo"
   ]
  },
  {
   "cell_type": "code",
   "execution_count": 53,
   "id": "9e3e1c2e-a1f1-4f03-a804-a9d5d3fbcede",
   "metadata": {},
   "outputs": [
    {
     "name": "stdout",
     "output_type": "stream",
     "text": [
      "Distribuzione stazionaria: [0.36 0.16 0.49]\n"
     ]
    }
   ],
   "source": [
    "n = 3 # dimensione della matrice\n",
    "F = np.zeros(n)\n",
    "j = np.random.randint(n) # da zero a n-1\n",
    "F[j] = 1\n",
    "N = 100\n",
    "for i in range(N):\n",
    "    j_multi = np.random.multinomial(1, P[j,:])\n",
    "    j = np.nonzero(j_multi)[0][0]\n",
    "    F[j] += 1\n",
    "v= F/N # per avere le probabilità\n",
    "print(f'Distribuzione stazionaria: {v}')"
   ]
  }
 ],
 "metadata": {
  "kernelspec": {
   "display_name": "Python 3 (ipykernel)",
   "language": "python",
   "name": "python3"
  },
  "language_info": {
   "codemirror_mode": {
    "name": "ipython",
    "version": 3
   },
   "file_extension": ".py",
   "mimetype": "text/x-python",
   "name": "python",
   "nbconvert_exporter": "python",
   "pygments_lexer": "ipython3",
   "version": "3.10.12"
  }
 },
 "nbformat": 4,
 "nbformat_minor": 5
}
