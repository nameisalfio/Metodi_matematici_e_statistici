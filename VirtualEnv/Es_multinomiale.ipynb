{
 "cells": [
  {
   "cell_type": "markdown",
   "id": "3d9e1e4c-41df-402d-886b-f66ab76fd4e4",
   "metadata": {},
   "source": [
    "# Esercizio sulla distribuzione multinomiale"
   ]
  },
  {
   "cell_type": "markdown",
   "id": "5d8b8916-61ab-4e53-973a-16343b8c3d34",
   "metadata": {},
   "source": [
    "Calcolare la probabilità che lanciando un dado non truccato 4 volte esca 3 volte 6 e 1 volta 2"
   ]
  },
  {
   "cell_type": "code",
   "execution_count": 14,
   "id": "b622aefe-ba45-45e2-8530-32578dc768f0",
   "metadata": {},
   "outputs": [
    {
     "data": {
      "text/plain": [
       "0.003086419753086426"
      ]
     },
     "execution_count": 14,
     "metadata": {},
     "output_type": "execute_result"
    }
   ],
   "source": [
    "from scipy.stats import multinomial\n",
    "\n",
    "n = 4\n",
    "w = [0, 1, 0, 0, 0, 3]  # Esiti\n",
    "q = [1/6, 1/6, 1/6, 1/6, 1/6, 1/6]  # Probabilità normalizzate per un dado non truccato\n",
    "\n",
    "p = multinomial.pmf(w, n, q)\n",
    "\n",
    "p"
   ]
  }
 ],
 "metadata": {
  "kernelspec": {
   "display_name": "Python 3 (ipykernel)",
   "language": "python",
   "name": "python3"
  },
  "language_info": {
   "codemirror_mode": {
    "name": "ipython",
    "version": 3
   },
   "file_extension": ".py",
   "mimetype": "text/x-python",
   "name": "python",
   "nbconvert_exporter": "python",
   "pygments_lexer": "ipython3",
   "version": "3.10.12"
  }
 },
 "nbformat": 4,
 "nbformat_minor": 5
}
