{
 "cells": [
  {
   "cell_type": "code",
   "execution_count": 1,
   "id": "183e77d2",
   "metadata": {},
   "outputs": [],
   "source": [
    "# Librerie \n",
    "\n",
    "import numpy as np\n",
    "import matplotlib.pyplot as plt"
   ]
  },
  {
   "cell_type": "markdown",
   "id": "9a648515",
   "metadata": {},
   "source": [
    "### Matrice di transizione e regolarità"
   ]
  },
  {
   "cell_type": "code",
   "execution_count": 2,
   "id": "60a0dd59",
   "metadata": {},
   "outputs": [
    {
     "name": "stdout",
     "output_type": "stream",
     "text": [
      "Matrice di transizione: \n",
      "[[0.         0.33333333 0.         0.33333333 0.33333333]\n",
      " [0.33333333 0.         0.33333333 0.         0.33333333]\n",
      " [0.         0.33333333 0.         0.33333333 0.33333333]\n",
      " [0.33333333 0.         0.33333333 0.         0.33333333]\n",
      " [0.25       0.25       0.25       0.25       0.        ]]\n",
      "\n",
      "Matrice di transizione al passo 2: \n",
      "[[0.30555556 0.08333333 0.30555556 0.08333333 0.22222222]\n",
      " [0.08333333 0.30555556 0.08333333 0.30555556 0.22222222]\n",
      " [0.30555556 0.08333333 0.30555556 0.08333333 0.22222222]\n",
      " [0.08333333 0.30555556 0.08333333 0.30555556 0.22222222]\n",
      " [0.16666667 0.16666667 0.16666667 0.16666667 0.33333333]]\n",
      "\n"
     ]
    }
   ],
   "source": [
    "P = np.array([[0, 1/3, 0, 1/3, 1/3],\n",
    "              [1/3, 0, 1/3, 0, 1/3],\n",
    "              [0, 1/3, 0, 1/3, 1/3],\n",
    "              [1/3, 0, 1/3, 0, 1/3],\n",
    "              [1/4, 1/4, 1/4, 1/4, 0]]) \n",
    "\n",
    "print(f'Matrice di transizione: \\n{P}\\n')\n",
    "print(f'Matrice di transizione al passo 2: \\n{P@P}\\n')\n",
    "\n",
    "# Avendo tutti valori non nulli al passo 2, P è regolare\n",
    "# Come ulteriore prova si ha che ogni stato comunica con ogni altro"
   ]
  },
  {
   "cell_type": "markdown",
   "id": "5a9fbb04",
   "metadata": {},
   "source": [
    "### Metodo algebrico"
   ]
  },
  {
   "cell_type": "code",
   "execution_count": 3,
   "id": "4500e753",
   "metadata": {},
   "outputs": [
    {
     "name": "stdout",
     "output_type": "stream",
     "text": [
      "Autovalori: \n",
      "[ 1.   -0.67 -0.33  0.    0.  ]\n",
      "\n",
      "Matrice le cui colonne sono gli autovettori: \n",
      "[[ 0.42  0.5   0.22  0.16  0.16]\n",
      " [ 0.42 -0.5   0.22 -0.66 -0.66]\n",
      " [ 0.42  0.5   0.22 -0.16 -0.16]\n",
      " [ 0.42 -0.5   0.22  0.66  0.66]\n",
      " [ 0.55 -0.   -0.89  0.    0.  ]]\n",
      "\n",
      "Distribuzione stazionaria: [0.19 0.19 0.19 0.19 0.25]\n"
     ]
    }
   ],
   "source": [
    "lam, V = np.linalg.eig(P.T)\n",
    "\n",
    "print(f'Autovalori: \\n{np.round(np.real(lam),2)}\\n')\n",
    "print(f'Matrice le cui colonne sono gli autovettori: \\n{np.round(np.real(V), 2)}\\n')\n",
    "\n",
    "v = V[:,0]/np.sum(V[:,0])\n",
    "print(f'Distribuzione stazionaria: {np.round(np.real(v), 2)}')"
   ]
  },
  {
   "cell_type": "markdown",
   "id": "3353dc62",
   "metadata": {},
   "source": [
    "### Metodo Monte Carlo"
   ]
  },
  {
   "cell_type": "code",
   "execution_count": 5,
   "id": "0384108b",
   "metadata": {},
   "outputs": [
    {
     "name": "stdout",
     "output_type": "stream",
     "text": [
      "Distribuzione stazionaria: [0.19 0.19 0.19 0.19 0.25]\n"
     ]
    }
   ],
   "source": [
    "n = P[0].size\n",
    "F = np.zeros(n)\n",
    "N = 100000\n",
    "\n",
    "j = np.random.randint(0, n)\n",
    "F[j] = 1\n",
    "\n",
    "for i in range(N):\n",
    "    multi = np.random.multinomial(1, P[j])\n",
    "    j = np.nonzero(multi)[0][0]\n",
    "    F[j] += 1\n",
    "    \n",
    "v = F/N\n",
    "print(f'Distribuzione stazionaria: {np.round(np.real(v), 2)}')"
   ]
  }
 ],
 "metadata": {
  "kernelspec": {
   "display_name": "Python 3 (ipykernel)",
   "language": "python",
   "name": "python3"
  },
  "language_info": {
   "codemirror_mode": {
    "name": "ipython",
    "version": 3
   },
   "file_extension": ".py",
   "mimetype": "text/x-python",
   "name": "python",
   "nbconvert_exporter": "python",
   "pygments_lexer": "ipython3",
   "version": "3.11.2"
  }
 },
 "nbformat": 4,
 "nbformat_minor": 5
}
