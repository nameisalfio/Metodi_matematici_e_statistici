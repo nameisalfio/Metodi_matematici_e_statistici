{
 "cells": [
  {
   "cell_type": "markdown",
   "id": "030e3c76-f173-440b-acf5-06ef22f84fea",
   "metadata": {},
   "source": [
    "# Esercizio\n",
    "\n",
    "Data la matrice di transizione\n",
    "<br>\n",
    "\\begin{bmatrix}\n",
    "0 & \\frac{1}{4} & \\frac{3}{4} \\\\\n",
    "0 & \\frac{1}{2} & \\frac{1}{2} \\\\\n",
    "\\frac{3}{4} & 0 & \\frac{1}{4} \\\\\n",
    "\\end{bmatrix}\n",
    "<br>\n",
    "- Dimostrare che ha un’unica distribuzione stazionaria **$\\pi$** ;\n",
    "- Determinarla analiticamente ;\n",
    "- Determinarla con il metodo Monte Carlo e confrontare i risultati ottenuti ;"
   ]
  },
  {
   "cell_type": "markdown",
   "id": "37ae72c9-bbbd-47ef-b292-4098c56cef9d",
   "metadata": {},
   "source": [
    "# Punto 1\n",
    "\n",
    "Allo stato attuale abbiamo i seguenti stati comunicanti:\n",
    "\n",
    "- 1->2, 1->3<br>\n",
    "- 2->2, 2->3<br>\n",
    "- 3->1, 3->3<br>\n",
    "\n",
    "Per transisitività si ha che anche i seguenti stati sono comunicanti:\n",
    "\n",
    "- 1->1 (poichè 1->3 e 3->1)<br>\n",
    "- 2->1 (poichè 2->3 e 3->1)<br>\n",
    "- 3->2 (poichè 3->1 e 1->2)<br>\n",
    "\n",
    "Dato che tutti gli stati comunicano tra loro P si dice **irriducibile**.\n",
    "\n",
    "Possiamo anche verificare che P sia **irriducibile** come segue:"
   ]
  },
  {
   "cell_type": "code",
   "execution_count": 1,
   "id": "5c16d75d-e011-4d52-89b4-9921cd2c7866",
   "metadata": {},
   "outputs": [
    {
     "name": "stdout",
     "output_type": "stream",
     "text": [
      "Matrice di transizione: \n",
      "\n",
      "[[0.   0.25 0.75]\n",
      " [0.   0.5  0.5 ]\n",
      " [0.75 0.   0.25]]\n",
      "\n",
      "Matrice di transizione al passo 2: \n",
      "\n",
      "[[0.5625 0.125  0.3125]\n",
      " [0.375  0.25   0.375 ]\n",
      " [0.1875 0.1875 0.625 ]]\n",
      "\n",
      "Poichè la matrice di transizione al passo 2 ha tutti valori positivi, essa sarà irriducibile\n"
     ]
    }
   ],
   "source": [
    "import numpy as np\n",
    "\n",
    "P = np.array([\n",
    "    [0, 1/4, 3/4],\n",
    "    [0, 1/2, 1/2],\n",
    "    [3/4, 0, 1/4]\n",
    "])\n",
    "\n",
    "print(f'Matrice di transizione: \\n\\n{P}\\n')\n",
    "print(f'Matrice di transizione al passo 2: \\n\\n{np.dot(P, P)}\\n')\n",
    "print('Poichè la matrice di transizione al passo 2 ha tutti valori positivi, essa sarà irriducibile')"
   ]
  },
  {
   "cell_type": "markdown",
   "id": "9862281b-bb14-42ae-be7f-8042452ce3f7",
   "metadata": {},
   "source": [
    "Vale la seguente\n",
    "\n",
    "### **Proprietà** : \n",
    "\n",
    "#### se P è irriducibile ed E è finito, allora la distribuzione stazionaria $\\pi$ è unica\n",
    "\n",
    "Possiamo inoltre affermare che P è regolare poichè vale il seguente\n",
    "\n",
    "### Criterio di regolarità :\n",
    "\n",
    "#### se P è irriducibile ed almeno un elemento nella diagonale principale risulta > 0, allora P è regolare"
   ]
  },
  {
   "cell_type": "markdown",
   "id": "019d3013-18e3-48b7-955b-b222c1d994f4",
   "metadata": {},
   "source": [
    "# Punto 2 \n",
    "\n",
    "## Metodo Algebrico"
   ]
  },
  {
   "cell_type": "code",
   "execution_count": 2,
   "id": "d5a423b3-1026-4b55-9ac9-a7eeff9f951f",
   "metadata": {},
   "outputs": [
    {
     "name": "stdout",
     "output_type": "stream",
     "text": [
      "Autovalori: [-0.57569391  1.          0.32569391]\n",
      "\n",
      "Matrice le cui colonne sono gli autovettori: \n",
      "\n",
      "[[ 0.78010553 -0.57469577  0.55506939]\n",
      " [-0.18130286 -0.28734789 -0.79611302]\n",
      " [-0.59880267 -0.76626103  0.24104363]]\n",
      "\n",
      "Distribuzione stazionaria: [0.353 0.176 0.471]\n"
     ]
    }
   ],
   "source": [
    "# eigenvalues restituisce una tupla contenente un array degli autovalori e una matrice degli autovettori.\n",
    "lam, V = np.linalg.eig(P.T) # P è trasposta perchè voglio gli autovettori sinistri\n",
    "\n",
    "print(f'Autovalori: {lam}\\n')\n",
    "print(f'Matrice le cui colonne sono gli autovettori: \\n\\n{V}\\n')\n",
    "\n",
    "# Per la distribuzione stazionaria prendo la colonna corrispondente all'autovalore 1 (la seconda)\n",
    "v = V[:,1]\n",
    "N = np.sum(V[:,1])\n",
    "v/=N # normalizzo\n",
    "print(f'Distribuzione stazionaria: {np.round(v, 3)}')"
   ]
  },
  {
   "cell_type": "markdown",
   "id": "ac8380a4-5635-4ef9-88db-f6005d4b0e8b",
   "metadata": {},
   "source": [
    "# Punto 3\n",
    "\n",
    "## Metodo Monte Carlo"
   ]
  },
  {
   "cell_type": "code",
   "execution_count": 3,
   "id": "5c21a072-7792-4d15-900f-dc9ec39114b4",
   "metadata": {},
   "outputs": [
    {
     "name": "stdout",
     "output_type": "stream",
     "text": [
      "Distribuzione stazionaria: [0.3516 0.1762 0.4723]\n"
     ]
    }
   ],
   "source": [
    "n = np.size(P[0]) # dimensione di E\n",
    "F = np.zeros(n) # Vettore della frequeza di realizzazione degli stati di E\n",
    "\n",
    "N = 10000\n",
    "j0 = np.random.randint(0, n) # Step 1\n",
    "F[j0] = 1\n",
    "\n",
    "for i in range(N):\n",
    "    jk = np.random.multinomial(1, P[j0,:]) # Step 2\n",
    "    j0 = np.nonzero(jk)[0][0]\n",
    "    F[j0] += 1\n",
    "\n",
    "v = F/N # normalizzo per ottenere le probabilità dalle frequenze\n",
    "print(f'Distribuzione stazionaria: {v}')"
   ]
  }
 ],
 "metadata": {
  "kernelspec": {
   "display_name": "Python 3 (ipykernel)",
   "language": "python",
   "name": "python3"
  },
  "language_info": {
   "codemirror_mode": {
    "name": "ipython",
    "version": 3
   },
   "file_extension": ".py",
   "mimetype": "text/x-python",
   "name": "python",
   "nbconvert_exporter": "python",
   "pygments_lexer": "ipython3",
   "version": "3.10.12"
  }
 },
 "nbformat": 4,
 "nbformat_minor": 5
}
