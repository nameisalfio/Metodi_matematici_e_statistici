{
 "cells": [
  {
   "cell_type": "markdown",
   "id": "030e3c76-f173-440b-acf5-06ef22f84fea",
   "metadata": {},
   "source": [
    "# Esercizio\n",
    "\n",
    "Data la matrice di transizione\n",
    "<br>\n",
    "\\begin{bmatrix}\n",
    "0 & \\frac{1}{4} & \\frac{3}{4} \\\\\n",
    "0 & \\frac{1}{2} & \\frac{1}{2} \\\\\n",
    "\\frac{3}{4} & 0 & \\frac{1}{4} \\\\\n",
    "\\end{bmatrix}\n",
    "<br>\n",
    "- Dimostrare che ha un’unica distribuzione stazionaria **$\\pi$** ;\n",
    "- Determinarla analiticamente ;\n",
    "- Determinarla con il metodo Monte Carlo e confrontare i risultati ottenuti ;"
   ]
  },
  {
   "cell_type": "markdown",
   "id": "37ae72c9-bbbd-47ef-b292-4098c56cef9d",
   "metadata": {},
   "source": [
    "# Punto 1\n",
    "\n",
    "Allo stato attuale abbiamo i seguenti stati comunicanti:\n",
    "\n",
    "- 1->2, 1->3<br>\n",
    "- 2->2, 2->3<br>\n",
    "- 3->1, 3->3<br>\n",
    "\n",
    "Per transisitività si ha che anche i seguenti stati sono comunicanti:\n",
    "\n",
    "- 1->1 (poichè 1->3 e 3->1)<br>\n",
    "- 2->1 (poichè 2->3 e 3->1)<br>\n",
    "- 3->2 (poichè 3->1 e 1->2)<br>\n",
    "\n",
    "Dato che tutti gli stati comunicano tra loro P si dice **irriducibile**.\n",
    "\n",
    "Possiamo verificare che P sia **regolare** come segue:\n"
   ]
  },
  {
   "cell_type": "code",
   "execution_count": 1,
   "id": "5c16d75d-e011-4d52-89b4-9921cd2c7866",
   "metadata": {},
   "outputs": [
    {
     "name": "stdout",
     "output_type": "stream",
     "text": [
      "Matrice di transizione: \n",
      "\n",
      "[[0.   0.25 0.75]\n",
      " [0.   0.5  0.5 ]\n",
      " [0.75 0.   0.25]]\n",
      "\n",
      "Matrice di transizione al passo 2: \n",
      "\n",
      "[[0.5625 0.125  0.3125]\n",
      " [0.375  0.25   0.375 ]\n",
      " [0.1875 0.1875 0.625 ]]\n",
      "\n",
      "Poichè la matrice di transizione al passo 2 ha tutti valori positivi, essa sarà regolare\n"
     ]
    }
   ],
   "source": [
    "import numpy as np\n",
    "\n",
    "P = np.array([\n",
    "    [0, 1/4, 3/4],\n",
    "    [0, 1/2, 1/2],\n",
    "    [3/4, 0, 1/4]\n",
    "])\n",
    "\n",
    "print(f'Matrice di transizione: \\n\\n{P}\\n')\n",
    "print(f'Matrice di transizione al passo 2: \\n\\n{np.dot(P, P)}\\n')\n",
    "print('Poichè la matrice di transizione al passo 2 ha tutti valori positivi, essa sarà regolare')"
   ]
  },
  {
   "cell_type": "markdown",
   "id": "9862281b-bb14-42ae-be7f-8042452ce3f7",
   "metadata": {},
   "source": [
    "Vale la seguente\n",
    "\n",
    "### Proprietà : \n",
    "\n",
    "se P è **irriducibile** ed E è finito, allora la distribuzione stazionaria $\\pi$ è unica\n",
    "\n",
    "Possiamo inoltre affermare che P è regolare poichè vale il seguente\n",
    "\n",
    "### Criterio di regolarità :\n",
    "\n",
    "se P è **irriducibile** ed almeno un elemento nella diagonale principale risulta > 0, allora P è regolare\n",
    "\n",
    "Possiamo applicare in oltre, pure il seguente teroema: \n",
    "\n",
    "### Teorema di Markov\n",
    "\n",
    "Se P è **regolare** ed E è finito, allora la catena ha un'unica distribuzione stazionaria $\\pi$"
   ]
  },
  {
   "cell_type": "markdown",
   "id": "019d3013-18e3-48b7-955b-b222c1d994f4",
   "metadata": {},
   "source": [
    "# Punto 2 \n",
    "\n",
    "## Metodo Algebrico"
   ]
  },
  {
   "cell_type": "code",
   "execution_count": 2,
   "id": "d5a423b3-1026-4b55-9ac9-a7eeff9f951f",
   "metadata": {},
   "outputs": [
    {
     "name": "stdout",
     "output_type": "stream",
     "text": [
      "Autovalori: [-0.57569391  1.          0.32569391]\n",
      "\n",
      "Matrice le cui colonne sono gli autovettori: \n",
      "\n",
      "[[ 0.78010553 -0.57469577  0.55506939]\n",
      " [-0.18130286 -0.28734789 -0.79611302]\n",
      " [-0.59880267 -0.76626103  0.24104363]]\n",
      "\n",
      "Distribuzione stazionaria: [0.353 0.176 0.471]\n"
     ]
    }
   ],
   "source": [
    "# eigenvalues restituisce una tupla contenente un array degli autovalori e una matrice degli autovettori.\n",
    "lam, V = np.linalg.eig(P.T) # P è trasposta perchè voglio gli autovettori sinistri\n",
    "\n",
    "print(f'Autovalori: {lam}\\n')\n",
    "print(f'Matrice le cui colonne sono gli autovettori: \\n\\n{V}\\n')\n",
    "\n",
    "# Per la distribuzione stazionaria prendo la colonna corrispondente all'autovalore 1 (la seconda)\n",
    "v = V[:,1]\n",
    "N = np.sum(V[:,1])\n",
    "v/=N # normalizzo\n",
    "print(f'Distribuzione stazionaria: {np.round(v, 3)}')"
   ]
  },
  {
   "cell_type": "markdown",
   "id": "ac8380a4-5635-4ef9-88db-f6005d4b0e8b",
   "metadata": {},
   "source": [
    "# Punto 3\n",
    "\n",
    "## Metodo Monte Carlo"
   ]
  },
  {
   "cell_type": "code",
   "execution_count": 3,
   "id": "5c21a072-7792-4d15-900f-dc9ec39114b4",
   "metadata": {},
   "outputs": [
    {
     "name": "stdout",
     "output_type": "stream",
     "text": [
      "Distribuzione stazionaria: [0.3565 0.1665 0.4771]\n"
     ]
    }
   ],
   "source": [
    "n = np.size(P[0]) # dimensione di E\n",
    "F = np.zeros(n) # Vettore della frequeza di realizzazione degli stati di E\n",
    "\n",
    "N = 10000\n",
    "j0 = np.random.randint(0, n) # Step 1\n",
    "F[j0] = 1\n",
    "\n",
    "for i in range(N):\n",
    "    jk = np.random.multinomial(1, P[j0,:]) # Step 2\n",
    "    j0 = np.nonzero(jk)[0][0]\n",
    "    F[j0] += 1\n",
    "\n",
    "v = F/N # normalizzo per ottenere le probabilità dalle frequenze\n",
    "print(f'Distribuzione stazionaria: {v}')"
   ]
  },
  {
   "cell_type": "markdown",
   "id": "1fc55aa4-493d-48e7-88f0-f4ae38e728f4",
   "metadata": {},
   "source": [
    "# Passeggiata aleatoria su un grafo\n",
    "\n",
    "Determinare la matrice di transizione della catena di Markov associata.\n",
    "- Dimostrare che la catena è regolare\n",
    "- Determinare la distribuzione invariante sia analiticamente che con il metodo Monte\n",
    "Carlo."
   ]
  },
  {
   "cell_type": "code",
   "execution_count": 4,
   "id": "5c4e981c-47ed-4219-882c-d4191d0cd2ca",
   "metadata": {},
   "outputs": [
    {
     "name": "stdout",
     "output_type": "stream",
     "text": [
      "Matrice di transizione: \n",
      "\n",
      "[[0.         0.33333333 0.         0.33333333 0.33333333]\n",
      " [0.33333333 0.         0.33333333 0.         0.33333333]\n",
      " [0.         0.33333333 0.         0.33333333 0.33333333]\n",
      " [0.33333333 0.         0.33333333 0.         0.33333333]\n",
      " [0.25       0.25       0.25       0.25       0.        ]]\n",
      "\n",
      "Matrice di transizione al passo 2: \n",
      "\n",
      "[[0.30555556 0.08333333 0.30555556 0.08333333 0.22222222]\n",
      " [0.08333333 0.30555556 0.08333333 0.30555556 0.22222222]\n",
      " [0.30555556 0.08333333 0.30555556 0.08333333 0.22222222]\n",
      " [0.08333333 0.30555556 0.08333333 0.30555556 0.22222222]\n",
      " [0.16666667 0.16666667 0.16666667 0.16666667 0.33333333]]\n",
      "\n",
      "Avendo tutti valori non nulli al passo 2, P è regolare.\n",
      "\n",
      "Inoltre, essendo E finito, dimostro che ha un'unica distribuzione stazionaria k\n",
      "\n",
      "k = k1+k2+k3+k4+k5 = 3+3+3+3+4 = 16\n",
      "v1=v2=v3=v4 = 3/16\n",
      "v5 = 4/16\n"
     ]
    }
   ],
   "source": [
    "import matplotlib.pyplot as plt\n",
    "\n",
    "P = np.array([[0, 1/3, 0, 1/3, 1/3],\n",
    "              [1/3, 0, 1/3, 0, 1/3],\n",
    "              [0, 1/3, 0, 1/3, 1/3],\n",
    "              [1/3, 0, 1/3, 0, 1/3],\n",
    "              [1/4, 1/4, 1/4, 1/4, 0]]) \n",
    "\n",
    "print(f'Matrice di transizione: \\n\\n{P}\\n')\n",
    "print(f'Matrice di transizione al passo 2: \\n\\n{P@P}\\n')\n",
    "\n",
    "print(\"Avendo tutti valori non nulli al passo 2, P è regolare.\\n\")\n",
    "print(\"Inoltre, essendo E finito, dimostro che ha un'unica distribuzione stazionaria k\\n\")\n",
    "print(\"k = k1+k2+k3+k4+k5 = 3+3+3+3+4 = 16\") # sommo il numero di adiacenti\n",
    "print(\"v1=v2=v3=v4 = 3/16\\nv5 = 4/16\") # numero di adiacenti/distribuzione stazionaria"
   ]
  },
  {
   "cell_type": "markdown",
   "id": "c7268bee-cd97-4557-9785-df3138b0a2fa",
   "metadata": {},
   "source": [
    "## Metodo algebrico"
   ]
  },
  {
   "cell_type": "code",
   "execution_count": 5,
   "id": "0b51e725-85d5-46d6-82d0-5408532cde1a",
   "metadata": {},
   "outputs": [
    {
     "name": "stdout",
     "output_type": "stream",
     "text": [
      "Autovalori: \n",
      "[ 1.   -0.67 -0.33  0.    0.  ]\n",
      "\n",
      "Matrice le cui colonne sono gli autovettori: \n",
      "[[ 0.42  0.5   0.22  0.26  0.26]\n",
      " [ 0.42 -0.5   0.22 -0.51 -0.51]\n",
      " [ 0.42  0.5   0.22 -0.26 -0.26]\n",
      " [ 0.42 -0.5   0.22  0.51  0.51]\n",
      " [ 0.55  0.   -0.89 -0.   -0.  ]]\n",
      "\n",
      "Distribuzione stazionaria: [0.19 0.19 0.19 0.19 0.25]\n"
     ]
    }
   ],
   "source": [
    "lam, V = np.linalg.eig(P.T)\n",
    "\n",
    "print(f'Autovalori: \\n{np.round(np.real(lam),2)}\\n')\n",
    "print(f'Matrice le cui colonne sono gli autovettori: \\n{np.round(np.real(V), 2)}\\n')\n",
    "\n",
    "v = V[:,0]/np.sum(V[:,0])\n",
    "print(f'Distribuzione stazionaria: {np.round(np.real(v), 2)}')"
   ]
  },
  {
   "cell_type": "markdown",
   "id": "88d7c7c7-6c89-40c0-95be-f3ee8a61f39e",
   "metadata": {},
   "source": [
    "## Metodo Monte Carlo"
   ]
  },
  {
   "cell_type": "code",
   "execution_count": 6,
   "id": "1ea568fb-7413-4f5a-bc0e-a67d5ae5cdc8",
   "metadata": {},
   "outputs": [
    {
     "name": "stdout",
     "output_type": "stream",
     "text": [
      "Distribuzione stazionaria: [0.19 0.19 0.19 0.19 0.25]\n"
     ]
    }
   ],
   "source": [
    "n = P[0].size\n",
    "F = np.zeros(n)\n",
    "N = 100000\n",
    "\n",
    "j = np.random.randint(0, n)\n",
    "F[j] = 1\n",
    "\n",
    "for i in range(N):\n",
    "    multi = np.random.multinomial(1, P[j])\n",
    "    j = np.nonzero(multi)[0][0]\n",
    "    F[j] += 1\n",
    "    \n",
    "v = F/N\n",
    "print(f'Distribuzione stazionaria: {np.round(np.real(v), 2)}')"
   ]
  },
  {
   "cell_type": "code",
   "execution_count": 7,
   "id": "029c06a8-ca31-4f27-b87f-776cdc538cc9",
   "metadata": {},
   "outputs": [],
   "source": [
    "def multinomiale(n, p):\n",
    "    M = np.zeros(len(p))\n",
    "    F = np.cumsum(p)\n",
    "    for _ in range(n):\n",
    "        xi = np.random.rand()\n",
    "        x = np.nonzero(xi < F)[0][0] # indice della partizione in cui ricade il numero random\n",
    "        M[x]+=1\n",
    "    return M"
   ]
  },
  {
   "cell_type": "code",
   "execution_count": 8,
   "id": "4fe5cf62-005f-4879-865e-613c18c5a648",
   "metadata": {},
   "outputs": [
    {
     "name": "stdout",
     "output_type": "stream",
     "text": [
      "Distribuzione stazionaria: [0.19 0.19 0.19 0.19 0.25]\n"
     ]
    }
   ],
   "source": [
    "n = P[0].size\n",
    "F = np.zeros(n)\n",
    "N = 100000\n",
    "\n",
    "j = np.random.randint(0, n)\n",
    "F[j] = 1\n",
    "\n",
    "for i in range(N):\n",
    "    multi = multinomiale(1, P[j])\n",
    "    j = np.nonzero(multi)[0][0]\n",
    "    F[j] += 1\n",
    "    \n",
    "v = F/N\n",
    "print(f'Distribuzione stazionaria: {np.round(np.real(v), 2)}')"
   ]
  },
  {
   "cell_type": "markdown",
   "id": "384ba888-d958-46c9-a510-4d114e407745",
   "metadata": {},
   "source": [
    "# Catene di nascita e di morte"
   ]
  },
  {
   "cell_type": "code",
   "execution_count": 23,
   "id": "b0f3411a-308b-43d3-9716-36c39878d2cd",
   "metadata": {},
   "outputs": [
    {
     "data": {
      "image/png": "[encoded data removed]",
      "text/plain": [
       "<Figure size 640x480 with 1 Axes>"
      ]
     },
     "metadata": {},
     "output_type": "display_data"
    }
   ],
   "source": [
    "n0,lam,mu,T = 100,1,5,5\n",
    "\n",
    "t = np.array([0])\n",
    "x = np.array([n0])\n",
    "time, i = 0,0\n",
    "while time <= T:\n",
    "    if x[i]==0:\n",
    "        break\n",
    "    r = np.random.rand()\n",
    "    time -= np.log(r)/(lam*x[i]+mu*x[i])\n",
    "    s = np.random.rand()\n",
    "    if s < lam/(lam+mu):\n",
    "        x = np.append(x, x[i]+1)\n",
    "    else:\n",
    "        x = np.append(x, x[i]-1)\n",
    "    t = np.append(t, time)\n",
    "    i += 1\n",
    "\n",
    "plt.plot(t, x)\n",
    "plt.show()"
   ]
  }
 ],
 "metadata": {
  "kernelspec": {
   "display_name": "Python 3 (ipykernel)",
   "language": "python",
   "name": "python3"
  },
  "language_info": {
   "codemirror_mode": {
    "name": "ipython",
    "version": 3
   },
   "file_extension": ".py",
   "mimetype": "text/x-python",
   "name": "python",
   "nbconvert_exporter": "python",
   "pygments_lexer": "ipython3",
   "version": "3.10.12"
  }
 },
 "nbformat": 4,
 "nbformat_minor": 5
}
