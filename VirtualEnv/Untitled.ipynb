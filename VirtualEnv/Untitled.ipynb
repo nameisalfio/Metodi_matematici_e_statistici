{
 "cells": [
  {
   "cell_type": "code",
   "execution_count": 1,
   "id": "188f28f8-61e3-4a63-889f-d248921c3448",
   "metadata": {},
   "outputs": [],
   "source": [
    "from scipy.stats import norm\n",
    "import numpy as np"
   ]
  },
  {
   "cell_type": "code",
   "execution_count": 2,
   "id": "da7390f0-15b1-49e4-9540-4fcdcf7e2fee",
   "metadata": {},
   "outputs": [],
   "source": [
    "n = 100\n",
    "p = 1/3\n",
    "mu = n*p\n",
    "sig = np.sqrt(n * p * (1-p))\n",
    "Xn = 69.5"
   ]
  },
  {
   "cell_type": "code",
   "execution_count": 6,
   "id": "89343403-70c4-4095-9c5b-05f8061c4e44",
   "metadata": {},
   "outputs": [
    {
     "data": {
      "text/plain": [
       "76.72108575874041"
      ]
     },
     "execution_count": 6,
     "metadata": {},
     "output_type": "execute_result"
    }
   ],
   "source": [
    "Sn = (Xn - mu)/sig*np.sqrt(n)\n",
    "Sn"
   ]
  },
  {
   "cell_type": "code",
   "execution_count": 8,
   "id": "8929e17b-76b0-4340-b94c-cef34edbca0b",
   "metadata": {},
   "outputs": [
    {
     "data": {
      "text/plain": [
       "0.0"
      ]
     },
     "execution_count": 8,
     "metadata": {},
     "output_type": "execute_result"
    }
   ],
   "source": [
    "prob = 1-norm.cdf(Sn)\n",
    "prob"
   ]
  },
  {
   "cell_type": "code",
   "execution_count": 11,
   "id": "0a62dba8-20a6-4725-a616-20c3cf6ed1bb",
   "metadata": {},
   "outputs": [
    {
     "data": {
      "text/plain": [
       "0.9999999999987201"
      ]
     },
     "execution_count": 11,
     "metadata": {},
     "output_type": "execute_result"
    }
   ],
   "source": [
    "a = norm.cdf(7)\n",
    "a"
   ]
  }
 ],
 "metadata": {
  "kernelspec": {
   "display_name": "Python 3 (ipykernel)",
   "language": "python",
   "name": "python3"
  },
  "language_info": {
   "codemirror_mode": {
    "name": "ipython",
    "version": 3
   },
   "file_extension": ".py",
   "mimetype": "text/x-python",
   "name": "python",
   "nbconvert_exporter": "python",
   "pygments_lexer": "ipython3",
   "version": "3.10.12"
  }
 },
 "nbformat": 4,
 "nbformat_minor": 5
}
