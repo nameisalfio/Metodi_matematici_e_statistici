{
 "cells": [
  {
   "cell_type": "markdown",
   "id": "fcb05007-5ef1-4f49-a0d6-cd200ff83214",
   "metadata": {},
   "source": [
    "# Esercizio sulla distribuzione Normale"
   ]
  },
  {
   "cell_type": "markdown",
   "id": "ab79228b-e3b3-4f5a-820a-c69a7d78a522",
   "metadata": {},
   "source": [
    "Un lago riceve acqua da due immissari e alimenta un emissario. Misurando la portata in base alla variazione di quota dell'acqua, i due immissari immettono con legge X1 ~ N(1,1) e X2 ~ N(2,2) mentre l'emissario viene alimentato con legge X3 ~ N(3/2,3). \n",
    "\n",
    "- Si determini la legge seguita dall'altezza dell'acqua. \n",
    "- Qual è la probabilità che la quota superi il livello di guardia pari a 2? \n",
    "- Qual è la probabilità che la quota sia inferiore a 0.5?"
   ]
  },
  {
   "cell_type": "code",
   "execution_count": 1,
   "id": "f27b2b59-68e9-42cf-b4ef-99603ef2a8bf",
   "metadata": {},
   "outputs": [],
   "source": [
    "# Punto 1\n",
    "\n",
    "# La legge seguita dall'altezza dell'acqua è Y = X1+X2-X3\n",
    "\n",
    "# E[Y] = E[X1] + E[X2] - E[X3]\n",
    "#      = 1 + 2 - 3/2 = 3/2 \n",
    "\n",
    "# VAR(Y) = VAR(X1) + VAR(X2) - VAR(X3)\n",
    "#      = 1 + 2 + (-1^2)*3 = \n",
    "#      = 1 + 2 + 3 = 6\n",
    "\n",
    "# quindi Y ~ N(3/2, 6)"
   ]
  },
  {
   "cell_type": "code",
   "execution_count": 2,
   "id": "615c6c7a-cbb2-4c61-bbde-94b5969ee5f9",
   "metadata": {},
   "outputs": [
    {
     "data": {
      "text/plain": [
       "0.4191282431929131"
      ]
     },
     "execution_count": 2,
     "metadata": {},
     "output_type": "execute_result"
    }
   ],
   "source": [
    "# Punto 2\n",
    "\n",
    "# cumulative = funzione di ripartizione cdf\n",
    "# mass o density = probabilità pmf cdf\n",
    "\n",
    "import numpy as np\n",
    "from scipy.stats import norm\n",
    "\n",
    "mu = 3/2\n",
    "sig2 = 6 \n",
    "sig = np.sqrt(sig2)\n",
    "x = 2\n",
    "\n",
    "p2 = 1 - norm.cdf(x, mu, sig) #come input vuole la deviazione standard e non la varianza\n",
    "p2"
   ]
  },
  {
   "cell_type": "code",
   "execution_count": 3,
   "id": "83febd71-138d-4efd-a3d3-7d9ced10beb2",
   "metadata": {},
   "outputs": [
    {
     "data": {
      "text/plain": [
       "0.34154569915480437"
      ]
     },
     "execution_count": 3,
     "metadata": {},
     "output_type": "execute_result"
    }
   ],
   "source": [
    "p3 = norm.cdf(0.5, mu, sig)\n",
    "p3"
   ]
  }
 ],
 "metadata": {
  "kernelspec": {
   "display_name": "Python 3 (ipykernel)",
   "language": "python",
   "name": "python3"
  },
  "language_info": {
   "codemirror_mode": {
    "name": "ipython",
    "version": 3
   },
   "file_extension": ".py",
   "mimetype": "text/x-python",
   "name": "python",
   "nbconvert_exporter": "python",
   "pygments_lexer": "ipython3",
   "version": "3.10.12"
  }
 },
 "nbformat": 4,
 "nbformat_minor": 5
}
