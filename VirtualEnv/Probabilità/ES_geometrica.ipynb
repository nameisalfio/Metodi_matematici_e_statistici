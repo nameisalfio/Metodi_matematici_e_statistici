{
 "cells": [
  {
   "cell_type": "markdown",
   "id": "225e2a3f-8006-4732-8429-a0d0ded20eb9",
   "metadata": {},
   "source": [
    "# Esercizio sulla distribuzione geometrica"
   ]
  },
  {
   "cell_type": "markdown",
   "id": "293bc60a-9021-45cf-9012-c26bf602015e",
   "metadata": {},
   "source": [
    "Lancio di un dado non truccato\n",
    "\n",
    "1) Quale è la probabilità che esca 6 per la prima volta al terzo lancio?\n",
    "2) Sapendo che nei primi 3 lanci non si è verificato alcun 6, quale è la probabilità che esca 6 per la prima volta al quinto tentativo ?"
   ]
  },
  {
   "cell_type": "code",
   "execution_count": 2,
   "id": "0a62eb4c-f9fe-4b58-8e7a-1430534d5d96",
   "metadata": {},
   "outputs": [
    {
     "data": {
      "text/plain": [
       "0.11574074074074076"
      ]
     },
     "metadata": {},
     "output_type": "display_data"
    }
   ],
   "source": [
    "# Punto 1\n",
    "\n",
    "from scipy.stats import geom\n",
    "\n",
    "p = 1/6\n",
    "T = 3    # T-> Numero di tentativi prima del primo successo\n",
    "\n",
    "p1 = geom.pmf(T, p)\n",
    "\n",
    "display(p1)"
   ]
  },
  {
   "cell_type": "code",
   "execution_count": 3,
   "id": "9e2d3af1-254a-4bdd-ac4c-e04091981cc4",
   "metadata": {},
   "outputs": [
    {
     "data": {
      "text/plain": [
       "0.11574074074074076"
      ]
     },
     "metadata": {},
     "output_type": "display_data"
    }
   ],
   "source": [
    "# Punto 1 alternativo\n",
    "\n",
    "p1 = p * pow((1-p), T-1)\n",
    "\n",
    "display(p1)"
   ]
  },
  {
   "cell_type": "code",
   "execution_count": 4,
   "id": "7cf36328-d70b-444a-8fdc-d7076c2e141b",
   "metadata": {},
   "outputs": [
    {
     "data": {
      "text/plain": [
       "0.1388888888888889"
      ]
     },
     "metadata": {},
     "output_type": "display_data"
    }
   ],
   "source": [
    "# Punto 2\n",
    "\n",
    "# P(T = 5 | T > 3) -> P (T = 2)\n",
    "T = 2\n",
    "p2 = geom.pmf(T, p)\n",
    "\n",
    "display(p2)"
   ]
  },
  {
   "cell_type": "code",
   "execution_count": 5,
   "id": "51b043b4-8c16-441a-8c26-6b8c1f88a25e",
   "metadata": {},
   "outputs": [
    {
     "data": {
      "text/plain": [
       "0.1388888888888889"
      ]
     },
     "metadata": {},
     "output_type": "display_data"
    }
   ],
   "source": [
    "# Punto 2 alternativo\n",
    "\n",
    "T = 2\n",
    "p2 = p * pow((1-p), T-1)\n",
    "\n",
    "display(p2)"
   ]
  }
 ],
 "metadata": {
  "kernelspec": {
   "display_name": "Python 3 (ipykernel)",
   "language": "python",
   "name": "python3"
  },
  "language_info": {
   "codemirror_mode": {
    "name": "ipython",
    "version": 3
   },
   "file_extension": ".py",
   "mimetype": "text/x-python",
   "name": "python",
   "nbconvert_exporter": "python",
   "pygments_lexer": "ipython3",
   "version": "3.10.13"
  }
 },
 "nbformat": 4,
 "nbformat_minor": 5
}
