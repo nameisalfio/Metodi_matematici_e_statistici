{
 "cells": [
  {
   "cell_type": "markdown",
   "id": "bd31cc78-0925-4044-b25f-c28c686fabeb",
   "metadata": {},
   "source": [
    "# Esercizio sulla distribuzione di Poisson"
   ]
  },
  {
   "cell_type": "markdown",
   "id": "bb3af978-dc47-425f-a693-092654c9ca2b",
   "metadata": {},
   "source": [
    "Dato un libro di 500 pagine e sapendo che ci sono 300 errori sparsi a caso:\n",
    "\n",
    "1) Qual'è la probablità che data una pagina a caso ci siano almeno due errori?"
   ]
  },
  {
   "cell_type": "code",
   "execution_count": 1,
   "id": "a3629395-0585-4e0a-8f32-15e5e8228931",
   "metadata": {},
   "outputs": [
    {
     "data": {
      "text/plain": [
       "0.12190138224955771"
      ]
     },
     "metadata": {},
     "output_type": "display_data"
    }
   ],
   "source": [
    "# Punto 1\n",
    "\n",
    "from scipy.stats import poisson\n",
    "\n",
    "L = 300/500 # Lambda : numero medio di successi che ci si aspetta\n",
    "\n",
    "# Sommo le probabilità che la pagina contenga esattamente 0 e 1 errore \n",
    "p1 = 1 - (poisson.pmf(0, L) + poisson.pmf(1, L))\n",
    "\n",
    "display(p1)"
   ]
  },
  {
   "cell_type": "code",
   "execution_count": 2,
   "id": "93876c41-bd46-4701-b1c3-7fda1901c431",
   "metadata": {},
   "outputs": [
    {
     "data": {
      "text/plain": [
       "0.1219013822495576"
      ]
     },
     "metadata": {},
     "output_type": "display_data"
    }
   ],
   "source": [
    "p1 = 1 - poisson.cdf(1, L) # 1 P(X <= 1)\n",
    "\n",
    "display(p1)"
   ]
  }
 ],
 "metadata": {
  "kernelspec": {
   "display_name": "Python 3 (ipykernel)",
   "language": "python",
   "name": "python3"
  },
  "language_info": {
   "codemirror_mode": {
    "name": "ipython",
    "version": 3
   },
   "file_extension": ".py",
   "mimetype": "text/x-python",
   "name": "python",
   "nbconvert_exporter": "python",
   "pygments_lexer": "ipython3",
   "version": "3.10.13"
  }
 },
 "nbformat": 4,
 "nbformat_minor": 5
}
