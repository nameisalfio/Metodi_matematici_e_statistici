{
 "cells": [
  {
   "cell_type": "markdown",
   "id": "0b56e48b-b6d3-4d00-b762-49a96f9e341d",
   "metadata": {},
   "source": [
    "# Esercizio sulla distribuzione uniforme"
   ]
  },
  {
   "cell_type": "markdown",
   "id": "5c7bc87a-b248-4a4f-b15a-9d5e72c1265f",
   "metadata": {},
   "source": [
    "Il numero di pezzi guasti di una fornitura segue una legge B(2, p) ove p è una v.a di legge U( [0.5, 1] ). \n",
    "- Qual’è la probabilità che un solo pezzo si guasti ?"
   ]
  },
  {
   "cell_type": "code",
   "execution_count": 36,
   "id": "96ddc315-82d6-42f7-847f-2c55300af1bf",
   "metadata": {},
   "outputs": [
    {
     "data": {
      "text/plain": [
       "0.0"
      ]
     },
     "execution_count": 36,
     "metadata": {},
     "output_type": "execute_result"
    }
   ],
   "source": [
    "from scipy.integrate import quad\n",
    "from scipy.stats import binom\n",
    "from scipy.stats import uniform\n",
    "\n",
    "# P(X=X, Y=y) = P_X|Y (X|Y) P (Y=y)\n",
    "\n",
    "n = 2\n",
    "a = 0.5\n",
    "b = 1\n",
    "x = 1 # --> k\n",
    "y = 1 # --> p\n",
    "\n",
    "fy = uniform.pdf(y, a, b-a) # P(Y=1) ovvero la probabilità che ...\n",
    "\n",
    "P_XY = binom.pmf(x, n, y) # P_X|Y (X|Y) ovvero la probabilità che ...\n",
    "\n",
    "# Definisci la funzione che vuoi integrare\n",
    "def integrand(p):\n",
    "    return binom.pmf(y, n, p)\n",
    "\n",
    "result,_ = quad(integrand, a, b) # ritorna una tupla, scarto l'errore\n",
    "\n",
    "p1 = fy * result \n",
    "\n",
    "p1"
   ]
  }
 ],
 "metadata": {
  "kernelspec": {
   "display_name": "Python 3 (ipykernel)",
   "language": "python",
   "name": "python3"
  },
  "language_info": {
   "codemirror_mode": {
    "name": "ipython",
    "version": 3
   },
   "file_extension": ".py",
   "mimetype": "text/x-python",
   "name": "python",
   "nbconvert_exporter": "python",
   "pygments_lexer": "ipython3",
   "version": "3.10.12"
  }
 },
 "nbformat": 4,
 "nbformat_minor": 5
}
