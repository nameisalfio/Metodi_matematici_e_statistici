{
 "cells": [
  {
   "cell_type": "markdown",
   "id": "c2d74d4e-fc91-4385-90cc-e6a2a5d9b894",
   "metadata": {},
   "source": [
    "# Teroria del limire centrale"
   ]
  },
  {
   "cell_type": "markdown",
   "id": "83e3cf98-ef64-460c-85f2-01bc3abe892a",
   "metadata": {},
   "source": [
    "Si consideri un esame di ammissione composto da 10 domande, ciascuna con 3 risposte di cui una sola esatta. Per essere ammessi occorre fornire almeno il 70% di risposte esatte.\n",
    "\n",
    "- Quale è la probabilità di superare il test rispondendo a caso?\n",
    "- Quale è la probabilità di superare il test rispondendo a caso, se le domande fossero 100?"
   ]
  },
  {
   "cell_type": "code",
   "execution_count": 1,
   "id": "188f28f8-61e3-4a63-889f-d248921c3448",
   "metadata": {},
   "outputs": [],
   "source": [
    "from scipy.stats import binom\n",
    "from scipy.stats import norm\n",
    "import numpy as np"
   ]
  },
  {
   "cell_type": "code",
   "execution_count": 2,
   "id": "da7390f0-15b1-49e4-9540-4fcdcf7e2fee",
   "metadata": {},
   "outputs": [
    {
     "data": {
      "text/plain": [
       "0.019661636945587535"
      ]
     },
     "execution_count": 2,
     "metadata": {},
     "output_type": "execute_result"
    }
   ],
   "source": [
    "# Sia X la v.a che conta il numero di risposte esatte\n",
    "\n",
    "n = 10\n",
    "p = 1/3\n",
    "\n",
    "# P(X >= 7)\n",
    "p_1 = sum(binom.pmf(k, n, p) for k in range(7, 10)) # P(X >= 7) \n",
    "\n",
    "# oppure 1 - P(X < 7) \n",
    "p_1 = 1 - sum(binom.pmf(k, n, p) for k in range(0, 7)) \n",
    "\n",
    "# oppure uso la funzione di ripartizione (escludo il 7)\n",
    "p_1 = 1 - binom.cdf(6, n, p)\n",
    "\n",
    "p_1"
   ]
  },
  {
   "cell_type": "code",
   "execution_count": 3,
   "id": "2aeb6a3c-354f-4335-b708-2ab483c5369a",
   "metadata": {},
   "outputs": [
    {
     "data": {
      "text/plain": [
       "7.704947790898586e-14"
      ]
     },
     "execution_count": 3,
     "metadata": {},
     "output_type": "execute_result"
    }
   ],
   "source": [
    "n = 100\n",
    "\n",
    "# 1 - P(X < 70)\n",
    "p_2 = 1 - sum(binom.pmf(k, n, p) for k in range(0, 70)) \n",
    "\n",
    "p_2"
   ]
  },
  {
   "cell_type": "markdown",
   "id": "8c7f4205-b217-4af7-b0cd-8b9b59909ea2",
   "metadata": {},
   "source": [
    "#### Nel secondo caso, essendo n > 30 e verificate le regole empiriche, si può applicare l'approsimazione Normale :\n",
    "\n",
    "- n * p >= 5\n",
    "- n * (1-p)> = 5"
   ]
  },
  {
   "cell_type": "code",
   "execution_count": 8,
   "id": "d017658a-9dc2-4e89-a417-67c4a2e06109",
   "metadata": {},
   "outputs": [
    {
     "data": {
      "text/plain": [
       "0.0"
      ]
     },
     "execution_count": 8,
     "metadata": {},
     "output_type": "execute_result"
    }
   ],
   "source": [
    "# Calcolo l'approssimazione normale P(X > 70)\n",
    "\n",
    "Xn = 69.5 # non 70 poichè è una legge continua\n",
    "mu = n * p\n",
    "sig = np.sqrt(n * p * (1-p)) # Dev. standard \n",
    "\n",
    "Sn = ((Xn - mu) / sig) * np.sqrt(n)\n",
    "p_2_norm = 1 - norm.cdf(Sn) \n",
    "\n",
    "p_2_norm"
   ]
  }
 ],
 "metadata": {
  "kernelspec": {
   "display_name": "Python 3 (ipykernel)",
   "language": "python",
   "name": "python3"
  },
  "language_info": {
   "codemirror_mode": {
    "name": "ipython",
    "version": 3
   },
   "file_extension": ".py",
   "mimetype": "text/x-python",
   "name": "python",
   "nbconvert_exporter": "python",
   "pygments_lexer": "ipython3",
   "version": "3.10.12"
  }
 },
 "nbformat": 4,
 "nbformat_minor": 5
}
