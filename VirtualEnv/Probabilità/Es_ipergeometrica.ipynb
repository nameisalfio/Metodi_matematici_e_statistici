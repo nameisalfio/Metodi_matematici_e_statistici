{
 "cells": [
  {
   "cell_type": "markdown",
   "id": "e9da2396-d1ff-48c9-9eea-fa49f19cd77c",
   "metadata": {},
   "source": [
    "# Esercizio sulla distribuzione ipergeometrica"
   ]
  },
  {
   "cell_type": "markdown",
   "id": "e82fb3be-83d4-44a4-b045-e63da77637fb",
   "metadata": {},
   "source": [
    "La memoria di un pc è composta da 30 hard-disk, ognuno dei quali contiene 100 file. Un programma dovrà accedere a 28 di questi file (tutti diversi)\n",
    "\n",
    "1) Quale è la probabilità che non ci siano file provenienti dall' hard-disk #1 ?\n",
    "2) Quale è la probabilità del punto precedente se i file possono ripresentarsi ?"
   ]
  },
  {
   "cell_type": "code",
   "execution_count": 40,
   "id": "5ead01b9-0074-452b-a779-2f8b0d4c4f6d",
   "metadata": {},
   "outputs": [
    {
     "data": {
      "text/plain": [
       "0.38534529585883975"
      ]
     },
     "metadata": {},
     "output_type": "display_data"
    }
   ],
   "source": [
    "# Punto 1\n",
    "\n",
    "from scipy.special import binom\n",
    "\n",
    "# in totale ho 30*100 = 3000 file\n",
    "# definisco successo l'estrazione di un file dall'hard-disk no.1\n",
    "# impongo di ottenere 0 successi\n",
    "\n",
    "b = 100\n",
    "r = 2900\n",
    "n = 28\n",
    "k = 0\n",
    "\n",
    "p1 = (binom(b,k) * binom(r, n-k)) / binom(b+r, n)\n",
    "\n",
    "display(p1)"
   ]
  },
  {
   "cell_type": "code",
   "execution_count": 41,
   "id": "b370034a-903c-434b-aa81-70b6c6b72c5b",
   "metadata": {},
   "outputs": [
    {
     "data": {
      "text/plain": [
       "0.38534529585831134"
      ]
     },
     "metadata": {},
     "output_type": "display_data"
    }
   ],
   "source": [
    "# Punto 1 alternativa\n",
    "\n",
    "from scipy.stats import hypergeom\n",
    "\n",
    "p1 = hypergeom.pmf(k, b + r, b, n) # (0, 3000, 100, 28)\n",
    "\n",
    "display(p1)"
   ]
  },
  {
   "cell_type": "code",
   "execution_count": 42,
   "id": "9ff4922b-1d13-4d46-9251-8b73821915af",
   "metadata": {},
   "outputs": [
    {
     "data": {
      "text/plain": [
       "0.3870337242752073"
      ]
     },
     "metadata": {},
     "output_type": "display_data"
    }
   ],
   "source": [
    "# Punto 2\n",
    "\n",
    "from scipy.stats import binom\n",
    "\n",
    "p = 1/30 # 1 hard-dosk su 30 mi da successo\n",
    "p2 = binom.pmf(k, n, p)\n",
    "\n",
    "display(p2)"
   ]
  },
  {
   "cell_type": "code",
   "execution_count": 43,
   "id": "c5b0f93d-5acb-472d-b638-5e918407addf",
   "metadata": {},
   "outputs": [
    {
     "data": {
      "image/png": "[encoded data removed]",
      "text/plain": [
       "<Figure size 640x480 with 1 Axes>"
      ]
     },
     "metadata": {},
     "output_type": "display_data"
    }
   ],
   "source": [
    "import numpy as np\n",
    "import matplotlib.pyplot as plt\n",
    "\n",
    "b = 100\n",
    "r = 2900\n",
    "n = 28\n",
    "\n",
    "x = np.arange(0, n+1)\n",
    "y = hypergeom.cdf(x, b+r, b, n)\n",
    "plt.plot(x, y, '-o')\n",
    "plt.show()"
   ]
  }
 ],
 "metadata": {
  "kernelspec": {
   "display_name": "Python 3 (ipykernel)",
   "language": "python",
   "name": "python3"
  },
  "language_info": {
   "codemirror_mode": {
    "name": "ipython",
    "version": 3
   },
   "file_extension": ".py",
   "mimetype": "text/x-python",
   "name": "python",
   "nbconvert_exporter": "python",
   "pygments_lexer": "ipython3",
   "version": "3.10.13"
  }
 },
 "nbformat": 4,
 "nbformat_minor": 5
}
