{
 "cells": [
  {
   "cell_type": "markdown",
   "id": "fcb05007-5ef1-4f49-a0d6-cd200ff83214",
   "metadata": {},
   "source": [
    "# Esercizio sulla distribuzione Normale"
   ]
  },
  {
   "cell_type": "markdown",
   "id": "ab79228b-e3b3-4f5a-820a-c69a7d78a522",
   "metadata": {},
   "source": [
    "Consegna"
   ]
  },
  {
   "cell_type": "code",
   "execution_count": 4,
   "id": "f27b2b59-68e9-42cf-b4ef-99603ef2a8bf",
   "metadata": {},
   "outputs": [
    {
     "data": {
      "text/plain": [
       "0.4191282431929131"
      ]
     },
     "metadata": {},
     "output_type": "display_data"
    }
   ],
   "source": [
    "# cumulative = funzione di ripartizione cdf\n",
    "# mass o density = probabilità pmf cdf\n",
    "\n",
    "import numpy as np\n",
    "from scipy.stats import norm\n",
    "\n",
    "p2 = 1 - norm.cdf(1/(2*np.sqrt(6)))\n",
    "display(p2)"
   ]
  },
  {
   "cell_type": "code",
   "execution_count": 7,
   "id": "78ba59e8-5dfe-4f25-bce7-c1bb34e64f86",
   "metadata": {},
   "outputs": [
    {
     "data": {
      "text/plain": [
       "0.4191282431929131"
      ]
     },
     "metadata": {},
     "output_type": "display_data"
    }
   ],
   "source": [
    "# oppure\n",
    "p2 = 1 - norm.cdf(2, 3/2, np.sqrt(6)) #come input vuole la deviazione standard e non la varianza (radice di 6)\n",
    "display(p2)"
   ]
  },
  {
   "cell_type": "code",
   "execution_count": 8,
   "id": "83febd71-138d-4efd-a3d3-7d9ced10beb2",
   "metadata": {},
   "outputs": [
    {
     "data": {
      "text/plain": [
       "0.34154569915480437"
      ]
     },
     "metadata": {},
     "output_type": "display_data"
    }
   ],
   "source": [
    "p3 = norm.cdf(-1/np.sqrt(6)) #mette di default 0 e 1 in media e devizione quando la uso con un solo parametro\n",
    "display(p3)"
   ]
  }
 ],
 "metadata": {
  "kernelspec": {
   "display_name": "Python 3 (ipykernel)",
   "language": "python",
   "name": "python3"
  },
  "language_info": {
   "codemirror_mode": {
    "name": "ipython",
    "version": 3
   },
   "file_extension": ".py",
   "mimetype": "text/x-python",
   "name": "python",
   "nbconvert_exporter": "python",
   "pygments_lexer": "ipython3",
   "version": "3.10.12"
  }
 },
 "nbformat": 4,
 "nbformat_minor": 5
}
