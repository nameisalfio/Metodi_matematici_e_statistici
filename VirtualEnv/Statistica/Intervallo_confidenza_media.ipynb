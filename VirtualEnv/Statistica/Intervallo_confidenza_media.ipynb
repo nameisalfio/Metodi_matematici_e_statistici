{
 "cells": [
  {
   "cell_type": "markdown",
   "id": "48b5a135-908d-4778-876a-1e9ae8b057cf",
   "metadata": {},
   "source": [
    "# Intervallo di confidenza per la media (varianza nota)\n",
    "\n",
    "Si vuole testare un dispositivo con uno strumento che fornice delle misure di voltaggio. <br>Si eseguono 9 misurazioni registrando i valori in volt 11, 13.2, 12.3, 10.9, 13, 10.5, 12.3, 13, 13.15.\n",
    "E` nota la precisione dello strumento e si ha σ = 1 V.\n",
    "- Si determinino gli intervalli di confidenza al 95% e al 99%.\n",
    "- Determinare gli stessi intervalli di confidenza nel caso in cui si avesse σ = 1.4 V.\n",
    "- Sempre con precisione σ = 1 V, determinare gli stessi intervalli con la stessa media delle misure ma supponendo che essa provenga da un campione di 20 misurazioni."
   ]
  },
  {
   "cell_type": "code",
   "execution_count": 16,
   "id": "bbad7cb1-df87-43a3-8b87-6904740b5b56",
   "metadata": {},
   "outputs": [],
   "source": [
    "import numpy as np\n",
    "from scipy.stats import norm, t, probplot, chi2\n",
    "import matplotlib.pyplot as plt"
   ]
  },
  {
   "cell_type": "markdown",
   "id": "b4be74f0-80bc-40de-89ec-bbaece2c781a",
   "metadata": {},
   "source": [
    "### Punto 1"
   ]
  },
  {
   "cell_type": "code",
   "execution_count": 17,
   "id": "63729d7f-c670-4c29-a150-e3cf6a7da68f",
   "metadata": {},
   "outputs": [
    {
     "name": "stdout",
     "output_type": "stream",
     "text": [
      "Media: 12.15\n",
      "\n",
      "Phi: 1.959963984540054\n",
      "Intervallo al 95% --> left: 11.496678671819982 - right: 12.803321328180019\n",
      "\n",
      "Phi: 2.5758293035489004\n",
      "Intervallo al 99% --> left: 11.291390232150366 - right: 13.008609767849634\n",
      "\n"
     ]
    }
   ],
   "source": [
    "x = np.array([11, 13.2, 12.3, 10.9, 13, 10.5, 12.3, 13, 13.15])\n",
    "n = x.size\n",
    "\n",
    "media = np.mean(x) # media campionaria\n",
    "print(f'Media: {media}\\n')\n",
    "dev_std = 1\n",
    "\n",
    "alpha = 1-0.95\n",
    "phi = norm.ppf(1-alpha/2) # sottointeseo 1 e 0 come media e deviazione\n",
    "print(f'Phi: {phi}')\n",
    "\n",
    "# PAG 40\n",
    "left = media - dev_std/np.sqrt(n)*phi\n",
    "right = media + dev_std/np.sqrt(n)*phi\n",
    "print(f'Intervallo al 95% --> left: {left} - right: {right}\\n') # Con una probabilità al 95% ricade qui\n",
    "\n",
    "alpha = 1-0.99\n",
    "phi = norm.ppf(1-alpha/2)\n",
    "print(f'Phi: {phi}')\n",
    "\n",
    "left = media - dev_std/np.sqrt(n)*phi\n",
    "right = media + dev_std/np.sqrt(n)*phi\n",
    "print(f'Intervallo al 99% --> left: {left} - right: {right}\\n') # Con una probabilità al 95% ricade qui"
   ]
  },
  {
   "cell_type": "markdown",
   "id": "6bb38f74-b7f5-4abc-abed-3e86bfa78372",
   "metadata": {},
   "source": [
    "### Punto 2"
   ]
  },
  {
   "cell_type": "code",
   "execution_count": 18,
   "id": "d5b2430e-dc5b-47f9-b127-d4e288dddb7d",
   "metadata": {},
   "outputs": [
    {
     "name": "stdout",
     "output_type": "stream",
     "text": [
      "Phi: 1.959963984540054\n",
      "Intervallo al 95% --> left: 11.235350140547975 - right: 13.064649859452025\n",
      "\n",
      "Phi: 2.5758293035489004\n",
      "Intervallo al 99% --> left: 10.947946325010513 - right: 13.352053674989488\n",
      "\n"
     ]
    }
   ],
   "source": [
    "dev_std = 1.4\n",
    "\n",
    "alpha = 1-0.95\n",
    "phi = norm.ppf(1-alpha/2)\n",
    "print(f'Phi: {phi}')\n",
    "\n",
    "left = media - dev_std/np.sqrt(n)*phi\n",
    "right = media + dev_std/np.sqrt(n)*phi\n",
    "print(f'Intervallo al 95% --> left: {left} - right: {right}\\n') # Con una probabilità al 95% ricade qui\n",
    "\n",
    "alpha = 1-0.99\n",
    "phi = norm.ppf(1-alpha/2)\n",
    "print(f'Phi: {phi}')\n",
    "\n",
    "left = media - dev_std/np.sqrt(n)*phi\n",
    "right = media + dev_std/np.sqrt(n)*phi\n",
    "print(f'Intervallo al 99% --> left: {left} - right: {right}\\n') # Con una probabilità al 95% ricade qui"
   ]
  },
  {
   "cell_type": "markdown",
   "id": "1676ea92-0b1d-46ca-ab82-63ec905f7996",
   "metadata": {},
   "source": [
    "### Punto 3"
   ]
  },
  {
   "cell_type": "code",
   "execution_count": 19,
   "id": "e47e212c-968f-44fe-9444-0eea9ad9491b",
   "metadata": {},
   "outputs": [
    {
     "name": "stdout",
     "output_type": "stream",
     "text": [
      "Phi: 1.959963984540054\n",
      "Intervallo al 95% --> left: 11.71173872971171 - right: 12.58826127028829\n",
      "\n",
      "Phi: 2.5758293035489004\n",
      "Intervallo al 99% --> left: 11.574027057882873 - right: 12.725972942117128\n",
      "\n"
     ]
    }
   ],
   "source": [
    "dev_std = 1\n",
    "n = 20\n",
    "\n",
    "alpha = 1-0.95\n",
    "phi = norm.ppf(1-alpha/2)\n",
    "print(f'Phi: {phi}')\n",
    "\n",
    "left = media - dev_std/np.sqrt(n)*phi\n",
    "right = media + dev_std/np.sqrt(n)*phi\n",
    "print(f'Intervallo al 95% --> left: {left} - right: {right}\\n') # Con una probabilità al 95% ricade qui\n",
    "\n",
    "alpha = 1-0.99\n",
    "phi = norm.ppf(1-alpha/2)\n",
    "print(f'Phi: {phi}')\n",
    "\n",
    "left = media - dev_std/np.sqrt(n)*phi\n",
    "right = media + dev_std/np.sqrt(n)*phi\n",
    "print(f'Intervallo al 99% --> left: {left} - right: {right}\\n') # Con una probabilità al 95% ricade qui"
   ]
  },
  {
   "cell_type": "markdown",
   "id": "c6d9b366-341b-4407-a58d-1148e8d231fa",
   "metadata": {},
   "source": [
    "# Intervallo di confidenza per la media (varianza ignota)\n",
    "\n",
    "Viene effettuato un test di rottura di un certo materiale ottenendo i seguenti valori in megapascal (MPa).<br>\n",
    "19.8 10.1 14.9 7.5 15.4 15.4 15.4 18.5 7.9 12.7 11.9 11.4 11.4 14.1 17.6 16.7 15.8 19.5 8.8 13.6 11.9 11.4\n",
    "\n",
    "- Dopo aver verificato graficamente che il campione proviene da una popolazione distribuita approssimativamente in modo normale, determinare l’intervallo di confidenza al 95% per la media."
   ]
  },
  {
   "cell_type": "code",
   "execution_count": 20,
   "id": "96f3fb78-bb1b-46f8-9e88-a75995815fa9",
   "metadata": {},
   "outputs": [
    {
     "name": "stdout",
     "output_type": "stream",
     "text": [
      "Media campionaria: 13.713636363636363\n",
      "Deviazione standard campionaria: 3.553575724942475\n"
     ]
    },
    {
     "data": {
      "image/png": "[encoded data removed]",
      "text/plain": [
       "<Figure size 640x480 with 1 Axes>"
      ]
     },
     "metadata": {},
     "output_type": "display_data"
    }
   ],
   "source": [
    "x = np.array([19.8, 10.1, 14.9, 7.5, 15.4, 15.4, 15.4, 18.5, 7.9, 12.7, 11.9, \n",
    "              11.4, 11.4, 14.1, 17.6, 16.7, 15.8, 19.5, 8.8, 13.6, 11.9, 11.4])\n",
    "\n",
    "media = np.mean(x)\n",
    "print(f'Media campionaria: {media}')\n",
    "\n",
    "# Calcolo S_quadro (stimatore non distorto) poichè non è nota la varianza\n",
    "S = np.std(x, ddof=1)\n",
    "print(f'Deviazione standard campionaria: {S}')\n",
    "\n",
    "plt.boxplot(x)\n",
    "plt.show()"
   ]
  },
  {
   "cell_type": "markdown",
   "id": "c9055923-3b6b-4e3a-bbab-91e8c7d061f7",
   "metadata": {},
   "source": [
    "### Punto 2"
   ]
  },
  {
   "cell_type": "code",
   "execution_count": 21,
   "id": "736ef496-20ce-4506-b348-d984774b7613",
   "metadata": {},
   "outputs": [
    {
     "data": {
      "image/png": "[encoded data removed]",
      "text/plain": [
       "<Figure size 640x480 with 1 Axes>"
      ]
     },
     "metadata": {},
     "output_type": "display_data"
    },
    {
     "name": "stdout",
     "output_type": "stream",
     "text": [
      "T: 2.079613844727662\n",
      "Intervallo al 95% --> left: 12.138069152904343 - right: 15.289203574368383\n",
      "\n"
     ]
    }
   ],
   "source": [
    "# Verifico che segue una normale \n",
    "fig, ax= plt.subplots(1,1)\n",
    "probplot(x, dist=norm, plot=ax)\n",
    "plt.show()\n",
    "\n",
    "# Si può assumere la distribuzione della popolazione approssimativamente normale\n",
    "n = x.size\n",
    "\n",
    "alpha = 1-0.95\n",
    "T = t.ppf(1-alpha/2, n-1) # n-1 = gradi di libertà\n",
    "print(f'T: {T}')\n",
    "\n",
    "# PAG 42\n",
    "left = media - S/np.sqrt(n)*T\n",
    "right = media + S/np.sqrt(n)*T\n",
    "print(f'Intervallo al 95% --> left: {left} - right: {right}\\n') # Con una probabilità al 95% ricade qui"
   ]
  },
  {
   "cell_type": "markdown",
   "id": "cb34cb88-f664-4a3d-9d4b-40f90db58d99",
   "metadata": {},
   "source": [
    "# Esercizi sull'intervallo di confidenza per la varianza"
   ]
  },
  {
   "cell_type": "markdown",
   "id": "e4a125c3-38a1-41af-b0d5-332ee9585f9b",
   "metadata": {},
   "source": [
    "Un macchinario riempie automaticamente delle bottiglie. Da un campione di 20 misurazioni si ottengono i seguenti valori (in litri):<br> 2.05, 2.04, 1.98, 1.96, 2.03, 2.01, 1.97, 1.99, 2.01, 2.05 1.96, 1.95, 2.04, 2.01, 1.97, 1.96, 2.02, 2.04, 1.98, 1.94<br>\n",
    "Se la varianza fosse troppo grande, la proporzione di bottiglie sotto o sovrariempite sarebbe non accettabile.\n",
    "- Calcolare l’intervallo di confidenza al 95% per il limite superiore per la deviazione standard."
   ]
  },
  {
   "cell_type": "code",
   "execution_count": 27,
   "id": "84fcec0e-4f03-4a66-99d5-c0ea7a9583a1",
   "metadata": {},
   "outputs": [
    {
     "name": "stdout",
     "output_type": "stream",
     "text": [
      "Deviazione standard campionaria: 0.036\n",
      "Limite superiore: 0.029\n",
      "Varianza campionaria: 0.001\n",
      "La proporzione delle bottiglie è accettabile\n"
     ]
    }
   ],
   "source": [
    "x = np.array([2.05, 2.04, 1.98, 1.96, 2.03, 2.01, 1.97, 1.99, 2.01, 2.05, 1.96, 1.95, 2.04, 2.01, 1.97, 1.96, 2.02, 2.04, 1.98, 1.94])\n",
    "n = x.size\n",
    "\n",
    "alpha = 0.05\n",
    "\n",
    "S = np.std(x, ddof=1)\n",
    "S2 = S**2\n",
    "print(f'Deviazione standard campionaria: {S:.3f}')\n",
    "\n",
    "# PAG 45\n",
    "chi = chi2.ppf(1-alpha, n-1)\n",
    "sig2 = S2 * (n-1) / chi\n",
    "upper_limit = np.sqrt(sig2)\n",
    "\n",
    "print(f'Limite superiore: {upper_limit:.3f}')\n",
    "print(f'Varianza campionaria: {S2:.3f}')\n",
    "\n",
    "cond = S2 <= upper_limit\n",
    "print(\"La proporzione delle bottiglie è accettabile\" if cond else \"La proporzione delle bottiglie non è accettabile\")\n",
    "\n",
    "# Dato che la varianza non supera il limite superiore dell'intervallo di confidenza \n",
    "# per la varianza la proporzione delle bottiglie è accettabile"
   ]
  }
 ],
 "metadata": {
  "kernelspec": {
   "display_name": "Python 3 (ipykernel)",
   "language": "python",
   "name": "python3"
  },
  "language_info": {
   "codemirror_mode": {
    "name": "ipython",
    "version": 3
   },
   "file_extension": ".py",
   "mimetype": "text/x-python",
   "name": "python",
   "nbconvert_exporter": "python",
   "pygments_lexer": "ipython3",
   "version": "3.10.13"
  }
 },
 "nbformat": 4,
 "nbformat_minor": 5
}
