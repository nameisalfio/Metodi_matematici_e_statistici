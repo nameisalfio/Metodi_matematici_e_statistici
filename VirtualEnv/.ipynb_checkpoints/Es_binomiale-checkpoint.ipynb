{
 "cells": [
  {
   "cell_type": "markdown",
   "id": "89ae2dcd-4800-4eb2-b836-a47fd0624405",
   "metadata": {},
   "source": [
    "# Esercizio sulla distribuzione binomiale"
   ]
  },
  {
   "cell_type": "markdown",
   "id": "26608c55-a5a4-4bf5-bc1b-d8b4b2dc7b6a",
   "metadata": {},
   "source": [
    "Una ditta produce lampadine , di cui il 5% difettose e le vende in confezioni da 4.\n",
    "\n",
    "1) Quale è la probabilità che in una confezione ci sia una sola lampadina difettosa?\n",
    "2) Quale è la probabilità che ci siano al più due pezzi difettosi?\n",
    "3) Se ogni scatola contenesse 40 pezzi, quanti pezzi difettosi ci sarebbero in media?"
   ]
  },
  {
   "cell_type": "code",
   "execution_count": 7,
   "id": "c6cc6b93-c4b3-4058-b395-460984c4deb3",
   "metadata": {},
   "outputs": [
    {
     "data": {
      "text/plain": [
       "0.171475"
      ]
     },
     "metadata": {},
     "output_type": "display_data"
    }
   ],
   "source": [
    "# Punto1\n",
    "\n",
    "from scipy.special import binom\n",
    "\n",
    "p = 0.05\n",
    "n = 4\n",
    "k = 1\n",
    "\n",
    "p_es1 = binom(n,k) * pow(p,k) * pow(1-p, n-k)   # oppure p**k\n",
    "\n",
    "display(p_es1)"
   ]
  },
  {
   "cell_type": "code",
   "execution_count": 4,
   "id": "76d012d5-9c9c-443b-8deb-c0c88205245e",
   "metadata": {},
   "outputs": [
    {
     "data": {
      "text/plain": [
       "0.9995187499999998"
      ]
     },
     "metadata": {},
     "output_type": "display_data"
    }
   ],
   "source": [
    "# Punto2\n",
    "\n",
    "k = 0\n",
    "p0 = binom(n,k) * pow(p,k) * pow(1-p, n-k)\n",
    "\n",
    "k = 1\n",
    "p1 = binom(n,k) * pow(p,k) * pow(1-p, n-k)\n",
    "\n",
    "k = 2\n",
    "p2 = binom(n,k) * pow(p,k) * pow(1-p, n-k)\n",
    "\n",
    "p_es2 = p0 + p1+ p2\n",
    "\n",
    "display(p_es2)"
   ]
  },
  {
   "cell_type": "code",
   "execution_count": 5,
   "id": "bb45d520-93d2-41be-b263-53b1169e5baa",
   "metadata": {},
   "outputs": [
    {
     "data": {
      "text/plain": [
       "0.99951875"
      ]
     },
     "metadata": {},
     "output_type": "display_data"
    }
   ],
   "source": [
    "# Soluzione alternativa al punto 2\n",
    "\n",
    "from scipy.stats import binom    # da adesso binom contiene la distribuzione\n",
    "\n",
    "p_es2 = pmf(0,n,p) + pmf(1,n,p) + pmf(2,n,p) # ad ogni invocazione vario il valore di k\n",
    "\n",
    "display(p_es2)"
   ]
  },
  {
   "cell_type": "code",
   "execution_count": 6,
   "id": "66479d76-c66d-4509-98b6-c50ee0371520",
   "metadata": {},
   "outputs": [
    {
     "data": {
      "text/plain": [
       "2.0"
      ]
     },
     "metadata": {},
     "output_type": "display_data"
    }
   ],
   "source": [
    "# Punto3\n",
    "\n",
    "n = 40\n",
    "avg = n * p\n",
    "\n",
    "display(avg)"
   ]
  }
 ],
 "metadata": {
  "kernelspec": {
   "display_name": "Python 3 (ipykernel)",
   "language": "python",
   "name": "python3"
  },
  "language_info": {
   "codemirror_mode": {
    "name": "ipython",
    "version": 3
   },
   "file_extension": ".py",
   "mimetype": "text/x-python",
   "name": "python",
   "nbconvert_exporter": "python",
   "pygments_lexer": "ipython3",
   "version": "3.10.12"
  }
 },
 "nbformat": 4,
 "nbformat_minor": 5
}
