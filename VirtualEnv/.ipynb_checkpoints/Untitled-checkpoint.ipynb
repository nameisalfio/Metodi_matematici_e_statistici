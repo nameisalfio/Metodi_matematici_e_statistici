{
 "cells": [
  {
   "cell_type": "code",
   "execution_count": 1,
   "id": "188f28f8-61e3-4a63-889f-d248921c3448",
   "metadata": {},
   "outputs": [],
   "source": [
    "from scipy.stats import norm\n",
    "import numpy as np"
   ]
  },
  {
   "cell_type": "code",
   "execution_count": 2,
   "id": "da7390f0-15b1-49e4-9540-4fcdcf7e2fee",
   "metadata": {},
   "outputs": [],
   "source": [
    "n = 100\n",
    "p = 1/3\n",
    "mu = n*p\n",
    "sig = np.sqrt(n * p * (1-p))\n",
    "Xn = 69.5"
   ]
  },
  {
   "cell_type": "code",
   "execution_count": null,
   "id": "89343403-70c4-4095-9c5b-05f8061c4e44",
   "metadata": {},
   "outputs": [],
   "source": [
    "Sn = (Xn - mu)/sig*"
   ]
  }
 ],
 "metadata": {
  "kernelspec": {
   "display_name": "Python 3 (ipykernel)",
   "language": "python",
   "name": "python3"
  },
  "language_info": {
   "codemirror_mode": {
    "name": "ipython",
    "version": 3
   },
   "file_extension": ".py",
   "mimetype": "text/x-python",
   "name": "python",
   "nbconvert_exporter": "python",
   "pygments_lexer": "ipython3",
   "version": "3.10.12"
  }
 },
 "nbformat": 4,
 "nbformat_minor": 5
}
