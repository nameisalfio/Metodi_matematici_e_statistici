{
 "cells": [
  {
   "cell_type": "markdown",
   "id": "62bdd17d-f90b-46bf-b066-e4874bb709d3",
   "metadata": {},
   "source": [
    "## Esercizio 1\n",
    "\n",
    "Un’azienda meccanica produce cuscinetti. Essi hanno una vita media 1500 ore con scarto\n",
    "quadratico medio di 200 ore. Assumendo che la vita media dei cuscinetti sia distribuita\n",
    "secondo una normale calcolare, per un lotto di 500 cuscinetti\n",
    "\n",
    "a) Quanti cuscinetti saranno funzionanti dopo 1800 ore;<br>\n",
    "b) Quanti cuscinetti saranno funzionanti nell’intervallo compreso tra 1000 e 1600 ore."
   ]
  },
  {
   "cell_type": "code",
   "execution_count": 7,
   "id": "f6edbe6e-f543-458c-bbab-479355f1b2b8",
   "metadata": {},
   "outputs": [
    {
     "name": "stdout",
     "output_type": "stream",
     "text": [
      "Numero di cuscinetti: 33.404\n",
      "Numero di cuscinetti: 343\n"
     ]
    }
   ],
   "source": [
    "from scipy.stats import norm\n",
    "import numpy as np\n",
    "\n",
    "mu = 1500\n",
    "sig = 200\n",
    "n = 500\n",
    "\n",
    "x = 1800\n",
    "P = norm.sf(x, mu, sig)*n\n",
    "print(f'Numero di cuscinetti: {P:.3f}')\n",
    "\n",
    "x1 = 1000\n",
    "x2 = 1600\n",
    "P = (norm.cdf(x2, mu, sig) - norm.cdf(x1, mu, sig))*n\n",
    "print(f'Numero di cuscinetti: {int(np.round(P))}')"
   ]
  },
  {
   "cell_type": "markdown",
   "id": "46ec1f00-b64b-43b3-914f-1567d04957f1",
   "metadata": {},
   "source": [
    "## Esercizio 2\n",
    "Un’ industria meccanica produce cuscinetti e, durante i mesi di consumo, si è\n",
    "registrata la seguente tabella di vendita (in migliaia di pezzi)\n",
    "\n",
    "Con quale livello di significatività si può affermare che sia stato rispettato l’obiettivo\n",
    "delle seguenti percentuali di vendita gennaio 11 %, febbraio 25 %, marzo 40 %,\n",
    "aprile 20 %, maggio 4 % ?"
   ]
  },
  {
   "cell_type": "code",
   "execution_count": 20,
   "id": "0ad9f5b9-3fc8-49ca-9ec3-d8af10d05bd2",
   "metadata": {},
   "outputs": [
    {
     "name": "stdout",
     "output_type": "stream",
     "text": [
      "Non ho abbastanza elementi per rigettare l'ipotesi nulla\n"
     ]
    }
   ],
   "source": [
    "from scipy.stats import chi2\n",
    "\n",
    "# Si imposta un test del chi-quadro\n",
    "# H0: i dati rispettano la multinomiale\n",
    "# H1: i dati non seguono la multinomiale\n",
    "\n",
    "N = np.array([13, 37, 44, 30, 11])\n",
    "n = np.sum(N)\n",
    "m = n.size\n",
    "p = np.array([0.11, 0.25, 0.4, 0.2, 0.04])\n",
    "\n",
    "E = n*p\n",
    "Tn = np.sum(((N-E)**2)/E)\n",
    "alpha = 0.05\n",
    "CHI = chi2.ppf(1-alpha, m-1)\n",
    "\n",
    "cond = Tn > CHI\n",
    "print(\"Rigetto l'ipotesi nulla\" if cond else \"Non ho abbastanza elementi per rigettare l'ipotesi nulla\")"
   ]
  }
 ],
 "metadata": {
  "kernelspec": {
   "display_name": "Python 3 (ipykernel)",
   "language": "python",
   "name": "python3"
  },
  "language_info": {
   "codemirror_mode": {
    "name": "ipython",
    "version": 3
   },
   "file_extension": ".py",
   "mimetype": "text/x-python",
   "name": "python",
   "nbconvert_exporter": "python",
   "pygments_lexer": "ipython3",
   "version": "3.10.12"
  },
  "widgets": {
   "application/vnd.jupyter.widget-state+json": {
    "state": {},
    "version_major": 2,
    "version_minor": 0
   }
  }
 },
 "nbformat": 4,
 "nbformat_minor": 5
}
