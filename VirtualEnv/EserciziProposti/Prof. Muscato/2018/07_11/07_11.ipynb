{
 "cells": [
  {
   "cell_type": "markdown",
   "id": "82bc074c-6dc7-47ca-a2cd-8eaddbb171a5",
   "metadata": {},
   "source": [
    "## Esercizio 1\n",
    "Nella tabella che segue riportiamo le frequenze di pulsazione (in battiti/minuto) di un\n",
    "campione di 10 studenti del primo anno\n",
    "\n",
    "Supponiamo che questo campione sia estratto da una popolazione distribuita secondo una\n",
    "normale di parametri incogniti. \n",
    "- Si calcoli la media campionaria, la deviazione standard campionaria e l’intervallo di confidenza con livello di fiducia 0,1. \n",
    "- Quanti individui deve contenere il campione affinchè l’intervallo di confidenza sia ampio 5 pulsazioni al minuto\n",
    "con livello di fiducia 0,1 ?"
   ]
  },
  {
   "cell_type": "code",
   "execution_count": 11,
   "id": "04ce718b-f077-4e58-8d1b-d666158dc6ed",
   "metadata": {},
   "outputs": [
    {
     "name": "stdout",
     "output_type": "stream",
     "text": [
      "Media: 68.700\n",
      "Deviazione: 8.667\n",
      "Intervallo di confidenza: ]63.676, 73.724[\n",
      "Dimensione del campione: 31\n"
     ]
    }
   ],
   "source": [
    "import numpy as np\n",
    "from scipy.stats import t\n",
    "\n",
    "x = np.array([59, 72, 58, 65, 77, 83, 72, 77, 62, 62])\n",
    "n = x.size\n",
    "\n",
    "mu = np.mean(x)\n",
    "print(f'Media: {mu:.3f}')\n",
    "\n",
    "sig = np.std(x, ddof=1)\n",
    "print(f'Deviazione: {sig:.3f}')\n",
    "\n",
    "alpha = 0.1\n",
    "T = t.ppf(1-alpha/2, n-1)\n",
    "\n",
    "A = mu-sig/np.sqrt(n)*T\n",
    "B = mu+sig/np.sqrt(n)*T\n",
    "print(f'Intervallo di confidenza: ]{A:.3f}, {B:.3f}[')\n",
    "\n",
    "beta = 0.1\n",
    "PHI_alpha = t.ppf(1-alpha/2, n-1)\n",
    "PHI_beta = t.ppf(1-beta, n-1)\n",
    "\n",
    "delta = 5\n",
    "dim_camp = (PHI_alpha+PHI_beta)**2 * (sig**2/delta**2)\n",
    "print(f\"Dimensione del campione: {int(dim_camp)}\")"
   ]
  },
  {
   "cell_type": "code",
   "execution_count": null,
   "id": "38ad168e-740b-49cf-a5b0-0905e05978c5",
   "metadata": {},
   "outputs": [],
   "source": []
  }
 ],
 "metadata": {
  "kernelspec": {
   "display_name": "Python 3 (ipykernel)",
   "language": "python",
   "name": "python3"
  },
  "language_info": {
   "codemirror_mode": {
    "name": "ipython",
    "version": 3
   },
   "file_extension": ".py",
   "mimetype": "text/x-python",
   "name": "python",
   "nbconvert_exporter": "python",
   "pygments_lexer": "ipython3",
   "version": "3.10.12"
  },
  "widgets": {
   "application/vnd.jupyter.widget-state+json": {
    "state": {},
    "version_major": 2,
    "version_minor": 0
   }
  }
 },
 "nbformat": 4,
 "nbformat_minor": 5
}
