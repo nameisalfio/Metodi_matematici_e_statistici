{
 "cells": [
  {
   "cell_type": "markdown",
   "id": "37ad5f19-667f-47a8-b6bf-28ca19983c5f",
   "metadata": {},
   "source": [
    "## Esercizio 1\n",
    "Sei palline sono lanciate indipendentemente in tre scatole di differenti A, B, C. Per ogni pallina la probabilità di entrare in una scatola è 1/3.<br>\n",
    "Calcolare la probabilità che la scatola A contenga:\n",
    "\n",
    "A. esattamente 4 palline;<br>\n",
    "B. almeno due palline;<br>\n",
    "C. almeno 5 palline."
   ]
  },
  {
   "cell_type": "code",
   "execution_count": 1,
   "id": "2f26d17b-7144-486a-8e33-efcc89ff856f",
   "metadata": {},
   "outputs": [
    {
     "name": "stdout",
     "output_type": "stream",
     "text": [
      "Punto A: 0.082\n",
      "Punto B: 0.649\n",
      "Punto C: 0.018\n"
     ]
    }
   ],
   "source": [
    "from scipy.stats import binom\n",
    "\n",
    "n = 6\n",
    "p = 1/3\n",
    "\n",
    "A = binom.pmf(4, n, p)\n",
    "print(f'Punto A: {A:.3f}')\n",
    "\n",
    "B = binom.sf(1, n, p)\n",
    "print(f'Punto B: {B:.3f}')\n",
    "\n",
    "C = binom.sf(4, n, p)\n",
    "print(f'Punto C: {C:.3f}')"
   ]
  },
  {
   "cell_type": "markdown",
   "id": "1802686c-c7ea-4262-a1c8-f1634662dcd1",
   "metadata": {},
   "source": [
    "## Esercizio 2\n",
    "Il punteggio ottenuto dagli studenti in un compito in classe segue una legge normale N(μ, σ 2) con μ = 7.5 e σ 2 = 4.\n",
    "\n",
    "A. Qual é la probabilità che uno studente prenda un voto inferiore a 4?<br>\n",
    "B. Se al compito partecipano 30 studenti, qual è la probabilità che ci sia un voto inferiore a 4?"
   ]
  },
  {
   "cell_type": "code",
   "execution_count": 2,
   "id": "5c8c31fe-eeaf-40f7-84bf-dfec7db614b5",
   "metadata": {},
   "outputs": [
    {
     "name": "stdout",
     "output_type": "stream",
     "text": [
      "Punto A: 0.040\n",
      "Punto B: 0.969\n"
     ]
    }
   ],
   "source": [
    "mu = 7.5\n",
    "sig = 2\n",
    "\n",
    "from scipy.stats import norm\n",
    "\n",
    "A = norm.cdf(4, mu, sig)\n",
    "print(f'Punto A: {A:.3f}')\n",
    "\n",
    "n = 30\n",
    "p = A\n",
    "B = binom.cdf(3, n, p)\n",
    "print(f'Punto B: {B:.3f}')"
   ]
  },
  {
   "cell_type": "markdown",
   "id": "fb40492d-da36-4246-a5fb-3562842a469e",
   "metadata": {},
   "source": [
    "## Esercizio 3"
   ]
  },
  {
   "cell_type": "raw",
   "id": "c149b079-4e40-4f16-b1d2-d955d3576c76",
   "metadata": {},
   "source": [
    "Al pronto soccorso di un ospedale si presentano mediamente 5 pazienti all’ora, distribuiti\r\n",
    "secondo la legge di Poisson. Inoltre, la gravità dei casi viene catalogata con quattro codici:\r\n",
    "rosso, giallo, verde e bianco (in ordine decrescente di gravià\n",
    ")\n",
    "\n",
    ". Il codice rosso si preseant R\r\n",
    "vlt e  su100, il codice giallo metà volte del rosso, il verde ed il bianco (in proporzioni\r\n",
    "uguali) metà volte dela\n",
    "- l\n",
    "\n",
    "lo. Qual è la probabilità che, in un dato intervallo di ua’ r   si\r\n",
    "presentino più di due persone da codice rosso?"
   ]
  },
  {
   "cell_type": "code",
   "execution_count": 2,
   "id": "39b8663f-bcb6-49dc-a03a-1de8b38fc928",
   "metadata": {},
   "outputs": [
    {
     "name": "stdout",
     "output_type": "stream",
     "text": [
      "Probabilità di avere un paziente in un ora: 0.875\n",
      "Probabilità di più di 2 codici rossi in un ora: 0.456\n"
     ]
    }
   ],
   "source": [
    "from scipy.stats import poisson\n",
    "\n",
    "lam = 5 \n",
    "\n",
    "p = poisson.sf(2, lam)\n",
    "print(f'Probabilità di avere un paziente in un ora: {p:.3f}')\n",
    "\n",
    "p = poisson.sf(2, lam/2)\n",
    "print(f'Probabilità di più di 2 codici rossi in un ora: {p:.3f}')"
   ]
  }
 ],
 "metadata": {
  "kernelspec": {
   "display_name": "Python 3 (ipykernel)",
   "language": "python",
   "name": "python3"
  },
  "language_info": {
   "codemirror_mode": {
    "name": "ipython",
    "version": 3
   },
   "file_extension": ".py",
   "mimetype": "text/x-python",
   "name": "python",
   "nbconvert_exporter": "python",
   "pygments_lexer": "ipython3",
   "version": "3.10.12"
  },
  "widgets": {
   "application/vnd.jupyter.widget-state+json": {
    "state": {},
    "version_major": 2,
    "version_minor": 0
   }
  }
 },
 "nbformat": 4,
 "nbformat_minor": 5
}
