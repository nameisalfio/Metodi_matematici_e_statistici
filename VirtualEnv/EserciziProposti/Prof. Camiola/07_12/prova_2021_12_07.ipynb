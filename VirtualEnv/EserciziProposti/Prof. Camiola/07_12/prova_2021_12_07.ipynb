{
 "cells": [
  {
   "cell_type": "markdown",
   "id": "afaf35ca-ac03-416d-921a-bf53253c7293",
   "metadata": {},
   "source": [
    "# Problema 1"
   ]
  },
  {
   "cell_type": "markdown",
   "id": "616a82a6-ab07-4442-8483-0d0925f749a3",
   "metadata": {},
   "source": [
    "Una macchina confeziona sacchetti di caramelle del peso medio di 200g e scarto quadratico medio di 10g.<br> \n",
    "Supponendo che la distribuzione sia normale, calcolare:\n",
    "1. La percentuale di sacchetti che pesano più di 220g;\n",
    "2. La percentuale di sacchetti che pesano più di 190g;\n",
    "3. Supponendo di scartare i sacchetti con peso inferiore a 185g, su 1000 sacchetti quanti ne verranno scartati?"
   ]
  },
  {
   "cell_type": "code",
   "execution_count": 3,
   "id": "544ea859-eb4e-4fd8-9381-5485c3ccd295",
   "metadata": {},
   "outputs": [
    {
     "name": "stdout",
     "output_type": "stream",
     "text": [
      "Percentuale di sacchetti che pesano più di 220g: 2.28%\n"
     ]
    }
   ],
   "source": [
    "from scipy.stats import norm\n",
    "\n",
    "bound = 220\n",
    "p = 1-norm.cdf(bound, 200, 10)\n",
    "print(f'Percentuale di sacchetti che pesano più di {bound}g: {p*100:.2f}%')"
   ]
  },
  {
   "cell_type": "code",
   "execution_count": 4,
   "id": "f44e4b1e-954d-4b89-885c-bcb3071995fc",
   "metadata": {},
   "outputs": [
    {
     "name": "stdout",
     "output_type": "stream",
     "text": [
      "Percentuale di sacchetti che pesano più di 190g: 84.13%\n"
     ]
    }
   ],
   "source": [
    "bound = 190\n",
    "p = 1-norm.cdf(bound, 200, 10)\n",
    "print(f'Percentuale di sacchetti che pesano più di {bound}g: {p*100:.2f}%')"
   ]
  },
  {
   "cell_type": "code",
   "execution_count": 5,
   "id": "19ddd337-bcdf-486d-82b1-c7a88672b309",
   "metadata": {},
   "outputs": [
    {
     "name": "stdout",
     "output_type": "stream",
     "text": [
      "Numero di sacchetti scartati: 66.81\n"
     ]
    }
   ],
   "source": [
    "bound = 185\n",
    "n = 1000\n",
    "p = norm.cdf(bound, 200, 10)\n",
    "amount = n * p\n",
    "print(f'Numero di sacchetti scartati: {amount:.2f}')"
   ]
  },
  {
   "cell_type": "markdown",
   "id": "038c431d-44d1-4f82-ad9a-877b2da84e64",
   "metadata": {},
   "source": [
    "# Problema 2"
   ]
  },
  {
   "cell_type": "markdown",
   "id": "b72ba98c-f669-42e2-a08b-3ecffde70e19",
   "metadata": {},
   "source": [
    "La seguente tabella raccoglie i dati relativi alle temperature medie invernali registrate negli ultimi 10 anni in una città italiana\n",
    "Si determinino:\n",
    "1. I coefficienti della retta di regressione;\n",
    "2. Il coefficiente di Pearson;\n",
    "3. Il valore della temperatura previsto per l’anno 2022\n",
    "   \n",
    "L’analisi di regressione conduce ad asserire che i dati seguano l’andamento rettilineo e che vi è la tendenza della temperatura a\n",
    "crescere begli anni? (Si giustifichi la risposta)"
   ]
  },
  {
   "cell_type": "code",
   "execution_count": 22,
   "id": "25901181-c3f6-4cb8-83a2-5db988325ef7",
   "metadata": {},
   "outputs": [
    {
     "data": {
      "image/png": "[encoded data removed]",
      "text/plain": [
       "<Figure size 640x480 with 1 Axes>"
      ]
     },
     "metadata": {},
     "output_type": "display_data"
    }
   ],
   "source": [
    "import numpy as np\n",
    "import matplotlib.pyplot as plt\n",
    "\n",
    "data = np.array([[2010, 10],\n",
    "                 [2011, 11],\n",
    "                 [2012, 10.5],\n",
    "                 [2013, 12],\n",
    "                 [2014, 10],\n",
    "                 [2015, 12],\n",
    "                 [2016, 11],\n",
    "                 [2017, 13]])\n",
    "\n",
    "x = data[:, 0]\n",
    "y = data[:, 1]\n",
    "k = 2 # numero di parametri indipendenti + 1 (termine costante)\n",
    "n = x.size\n",
    "\n",
    "x1 = np.ones(n)\n",
    "x2 = x\n",
    "X = np.zeros((n, k))\n",
    "X[:,0] = x1\n",
    "X[:,1] = x2\n",
    "\n",
    "XX = np.linalg.pinv(X)\n",
    "b = XX@y\n",
    "Y = b[0] + b[1]*x\n",
    "\n",
    "plt.plot(x, y, 'o')\n",
    "plt.plot(x, Y)\n",
    "plt.show()"
   ]
  },
  {
   "cell_type": "code",
   "execution_count": 21,
   "id": "246ae2b0-c423-4b06-bbf1-53f3a4615145",
   "metadata": {},
   "outputs": [
    {
     "name": "stdout",
     "output_type": "stream",
     "text": [
      "Coefficiente di Pearson: 0.642\n"
     ]
    }
   ],
   "source": [
    "# Si consideri il coefficiente di Pearson come la radice quadrata del coefficiente di determinazione\n",
    "\n",
    "y_hat = X@b\n",
    "y_bar = np.mean(y)\n",
    "\n",
    "R2 = np.sum((y_hat-y_bar)**2)/np.sum((y-y_bar)**2)\n",
    "R = np.sqrt(R2)\n",
    "print(f'Coefficiente di Pearson: {R:.3f}')"
   ]
  },
  {
   "cell_type": "code",
   "execution_count": 26,
   "id": "731543fc-835b-4650-8cc5-65920f5c40e8",
   "metadata": {},
   "outputs": [
    {
     "name": "stdout",
     "output_type": "stream",
     "text": [
      "Valore di temperatura previsto per l'anno 2022 : 13.57°\n"
     ]
    }
   ],
   "source": [
    "x_star = 2022\n",
    "Y = b[0] + b[1]*x_star\n",
    "print(f\"Valore di temperatura previsto per l'anno {x_star} : {Y:.2f}°\")"
   ]
  }
 ],
 "metadata": {
  "kernelspec": {
   "display_name": "Python 3 (ipykernel)",
   "language": "python",
   "name": "python3"
  },
  "language_info": {
   "codemirror_mode": {
    "name": "ipython",
    "version": 3
   },
   "file_extension": ".py",
   "mimetype": "text/x-python",
   "name": "python",
   "nbconvert_exporter": "python",
   "pygments_lexer": "ipython3",
   "version": "3.10.12"
  }
 },
 "nbformat": 4,
 "nbformat_minor": 5
}
