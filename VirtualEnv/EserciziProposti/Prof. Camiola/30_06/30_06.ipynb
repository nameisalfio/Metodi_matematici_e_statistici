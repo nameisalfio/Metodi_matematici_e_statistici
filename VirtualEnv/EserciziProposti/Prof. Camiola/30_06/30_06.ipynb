{
 "cells": [
  {
   "cell_type": "markdown",
   "id": "c97a2721-a1ff-4b0a-a5f8-3a6149cad2a3",
   "metadata": {},
   "source": [
    "## Esercizio 1\n",
    "Un test consiste di 10 domande a risposta multipla: 4 risposte possibili per ogni\n",
    "domanda, di cui una sola esatta. Per superare il test occorre rispondere esattamente ad\n",
    "almeno 8 domande. Qual è la probabilità di superare il test rispondendo a caso alle\n",
    "domande?"
   ]
  },
  {
   "cell_type": "code",
   "execution_count": 1,
   "id": "5bd5fd3d-9064-4560-aa15-82f7c27be38c",
   "metadata": {},
   "outputs": [
    {
     "name": "stdout",
     "output_type": "stream",
     "text": [
      "P: 0.0004\n"
     ]
    }
   ],
   "source": [
    "from scipy.stats import binom\n",
    "\n",
    "n = 10\n",
    "p = 1/4\n",
    "P = binom.sf(7, n, p) # P(X>7) \n",
    "\n",
    "print(f'P: {P:.4f}')"
   ]
  },
  {
   "cell_type": "markdown",
   "id": "fc60be31-281b-46b2-a9b0-8206ef919c1c",
   "metadata": {},
   "source": [
    "## Esercizio 2\n",
    "\n",
    "Si considerino i seguenti dati campionari raccolti per stimare il tempo che impiega un\n",
    "computer a processare i dati: x è il numero di dati e y il tempo in secondi impiegato dal\n",
    "computer per processarli.\n",
    "\n",
    "- Si calcoli il cofficiente di correlazione tra le variabili;\n",
    "- Si scriva l’equazione della retta di regressione;\n",
    "- Si calcoli il tempo previsto per processare 200, 300, 400 dati."
   ]
  },
  {
   "cell_type": "code",
   "execution_count": 2,
   "id": "090ecb29-4076-4bef-8c59-730ca1c9f432",
   "metadata": {},
   "outputs": [
    {
     "name": "stdout",
     "output_type": "stream",
     "text": [
      "Coefficiente di correlazione: 0.990\n"
     ]
    }
   ],
   "source": [
    "import numpy as np\n",
    "import matplotlib.pyplot as plt\n",
    "\n",
    "x = np.array([105, 511, 401, 622, 330]) # dati\n",
    "y = np.array([44, 214, 193, 299, 143]) # tempo per processarli\n",
    "y_bar = np.mean(y)\n",
    "\n",
    "n = x.size\n",
    "k = 2\n",
    "x1 = np.ones(n)\n",
    "x2 = x\n",
    "\n",
    "X = np.zeros((n, k))\n",
    "X[:, 0] = x1\n",
    "X[:, 1] = x2\n",
    "\n",
    "XX = np.linalg.pinv(X)\n",
    "b = XX@y\n",
    "y_hat = X@b\n",
    "\n",
    "R2 = np.sum((y_hat-y_bar)**2)/np.sum((y-y_bar)**2)\n",
    "R = np.sqrt(R2)\n",
    "print(f'Coefficiente di correlazione: {R:.3f}')"
   ]
  },
  {
   "cell_type": "code",
   "execution_count": 3,
   "id": "33db80bd-c1a9-4d61-b524-125ab9a5eb76",
   "metadata": {},
   "outputs": [
    {
     "data": {
      "image/png": "[encoded data removed]",
      "text/plain": [
       "<Figure size 640x480 with 1 Axes>"
      ]
     },
     "metadata": {},
     "output_type": "display_data"
    }
   ],
   "source": [
    "Y = b[0] + b[1]*x2 # retta di regressione\n",
    "\n",
    "plt.plot(x, y, 'o')\n",
    "plt.plot(x, Y)\n",
    "plt.show()"
   ]
  },
  {
   "cell_type": "code",
   "execution_count": 4,
   "id": "5b1dd86d-51c7-4e49-b81a-0c1d6d42c1f3",
   "metadata": {},
   "outputs": [
    {
     "name": "stdout",
     "output_type": "stream",
     "text": [
      "Valore di tempo previsto per processare 200 dati: 86.500\n",
      "Valore di tempo previsto per processare 300 dati: 134.023\n",
      "Valore di tempo previsto per processare 400 dati: 181.546\n"
     ]
    }
   ],
   "source": [
    "x_star = np.array([200, 300, 400])\n",
    "Y = np.zeros(x_star.size)\n",
    "\n",
    "for i in range(Y.size):\n",
    "    Y[i] = b[0] + b[1]*x_star[i]\n",
    "    print(f'Valore di tempo previsto per processare {x_star[i]} dati: {Y[i]:.3f}')"
   ]
  }
 ],
 "metadata": {
  "kernelspec": {
   "display_name": "Python 3 (ipykernel)",
   "language": "python",
   "name": "python3"
  },
  "language_info": {
   "codemirror_mode": {
    "name": "ipython",
    "version": 3
   },
   "file_extension": ".py",
   "mimetype": "text/x-python",
   "name": "python",
   "nbconvert_exporter": "python",
   "pygments_lexer": "ipython3",
   "version": "3.10.12"
  },
  "widgets": {
   "application/vnd.jupyter.widget-state+json": {
    "state": {},
    "version_major": 2,
    "version_minor": 0
   }
  }
 },
 "nbformat": 4,
 "nbformat_minor": 5
}
