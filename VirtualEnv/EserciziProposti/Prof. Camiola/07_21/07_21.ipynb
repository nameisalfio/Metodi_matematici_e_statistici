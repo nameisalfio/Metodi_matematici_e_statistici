{
 "cells": [
  {
   "cell_type": "markdown",
   "id": "72a55cd9-f96d-4b9d-947f-18805e174c44",
   "metadata": {},
   "source": [
    "## Esercizio 1"
   ]
  },
  {
   "cell_type": "code",
   "execution_count": 1,
   "id": "31524e6b-596e-4eeb-8043-7ac2439b6880",
   "metadata": {},
   "outputs": [
    {
     "name": "stdout",
     "output_type": "stream",
     "text": [
      "Rigetto l'ipotesi nulla\n"
     ]
    }
   ],
   "source": [
    "import numpy as np\n",
    "from scipy.stats import norm\n",
    "\n",
    "n = 51\n",
    "mu0 = 500\n",
    "mu = 492\n",
    "sig = np.sqrt(220)\n",
    "alpha = 0.05\n",
    "\n",
    "# Si imposta un test sulla media \n",
    "# Test unilatero a sinistra\n",
    "# H0: mu = mu0\n",
    "# H1: mu < mu0\n",
    "\n",
    "Z0 = (mu-mu0)/sig * np.sqrt(n)\n",
    "PHI = norm.ppf(alpha)\n",
    "\n",
    "cond = Z0 < PHI\n",
    "print(\"Rigetto l'ipotesi nulla\" if cond else \"Non ho abbastanza elementi per rigettare\")"
   ]
  },
  {
   "cell_type": "markdown",
   "id": "ceba07e4-cc16-4d58-804a-52f8b18b6a4e",
   "metadata": {},
   "source": [
    "## Esercizio 2"
   ]
  },
  {
   "cell_type": "code",
   "execution_count": 7,
   "id": "bcd81979-4f55-4e7b-8062-ccd793d095f1",
   "metadata": {},
   "outputs": [
    {
     "name": "stdout",
     "output_type": "stream",
     "text": [
      "Probabilità: 0.095\n",
      "Probabilità: 0.009\n"
     ]
    }
   ],
   "source": [
    "from scipy.stats import expon\n",
    "\n",
    "x = 10\n",
    "lam = 100\n",
    "\n",
    "p = expon.cdf(x, scale=lam)\n",
    "print(f'Probabilità: {p:.3f}')\n",
    "\n",
    "# La probabilità che si guastino in parallelo è data dall'intersezione di p ed \n",
    "# un secondo p uguale al primo, per tanto\n",
    "\n",
    "print(f'Probabilità: {p*p:.3f}')"
   ]
  }
 ],
 "metadata": {
  "kernelspec": {
   "display_name": "Python 3 (ipykernel)",
   "language": "python",
   "name": "python3"
  },
  "language_info": {
   "codemirror_mode": {
    "name": "ipython",
    "version": 3
   },
   "file_extension": ".py",
   "mimetype": "text/x-python",
   "name": "python",
   "nbconvert_exporter": "python",
   "pygments_lexer": "ipython3",
   "version": "3.10.12"
  }
 },
 "nbformat": 4,
 "nbformat_minor": 5
}
