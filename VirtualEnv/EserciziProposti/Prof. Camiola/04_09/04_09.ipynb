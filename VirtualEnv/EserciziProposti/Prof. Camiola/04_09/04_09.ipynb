{
 "cells": [
  {
   "cell_type": "markdown",
   "id": "e0656e9c-84d5-4064-9b69-c0c0d6354a1d",
   "metadata": {},
   "source": [
    "## Esercizio 1\n",
    "\n",
    "Un test diagnostico di una certa malattia ha accuratezza η , con 0 < η < 1 , sia\n",
    "quando le persone sono malate che quando sono sane. <br>\n",
    "Se p è la frazione della popolazione che presenta la malattia, determinare la probabilità che una persona sia malata se risulta positiva al test. <br>\n",
    "Calcolare quindi tale probabilità nel caso η = 95 % e p = 0.005."
   ]
  },
  {
   "cell_type": "markdown",
   "id": "b71c04fd-c141-466b-94c6-2039d0b61aee",
   "metadata": {},
   "source": [
    "Si considerano i seguenti eventi:\n",
    "\n",
    "- m : essere affetti dalla malattia\n",
    "- s : non essere affetti dalla malattia\n",
    "- t : essere positivo al test\n",
    "- f : essere negativi al test\n",
    "\n",
    "Voglio calcolare P(m | t)<br><br>\n",
    "Per il **teorema di Bayes** si ha che : $P(m|t) = \\frac{P(t|m) \\cap P(t)}{P(m)}$<br>\n",
    "\n",
    "- P(m) = 0.005\n",
    "\n",
    "Per il **teorema della probabilità** totali:<br>\n",
    "\n",
    "- $P(t) = P(t|m) \\cdot P(m) + P(t|s) \\cdot P(s)$\n",
    "- P(t|m) = $\\eta$"
   ]
  },
  {
   "cell_type": "code",
   "execution_count": 1,
   "id": "fde451aa-eca3-45d8-8a0f-220b81517011",
   "metadata": {},
   "outputs": [
    {
     "name": "stdout",
     "output_type": "stream",
     "text": [
      "Probabilità di essere positivi al test: 0.05\n"
     ]
    },
    {
     "data": {
      "text/plain": [
       "0.0871559633027523"
      ]
     },
     "execution_count": 1,
     "metadata": {},
     "output_type": "execute_result"
    }
   ],
   "source": [
    "p_t = 0.95 * 0.005 + 0.05 * 0.995\n",
    "print(f'Probabilità di essere positivi al test: {p_t:.2f}')\n",
    "\n",
    "p_m = 0.005\n",
    "p_tm = 0.95\n",
    "\n",
    "p_mt = (p_tm*p_m)/p_t\n",
    "p_mt"
   ]
  },
  {
   "cell_type": "markdown",
   "id": "896e24be-73fe-4a38-ba9f-d10c388ab4d3",
   "metadata": {},
   "source": [
    "## Esercizio 2\n",
    "\n",
    "In una schedina del totocalcio a 13 partite i tre simboli 1, X, 2 compaiono con\n",
    "probabilità 0.46, 0.28, 0.26 rispettivamente. Calcolare la probabilità che in una\n",
    "schedina\n",
    "\n",
    "1. il 2 compaia più di 3 volte;\n",
    "2. il simbolo X non compaia mai."
   ]
  },
  {
   "cell_type": "code",
   "execution_count": 2,
   "id": "9db15552-12bd-424b-b383-3740458c6787",
   "metadata": {},
   "outputs": [
    {
     "name": "stdout",
     "output_type": "stream",
     "text": [
      "Probabilità: 44.93%\n"
     ]
    }
   ],
   "source": [
    "from scipy.stats import binom\n",
    "\n",
    "p1 = 0.46\n",
    "px = 0.28\n",
    "p2 = 0.26\n",
    "n = 13\n",
    "\n",
    "# Sia X la v.a che conta il numero di volte che compare il 2\n",
    "\n",
    "k = 3\n",
    "p = binom.sf(k, n, p2)\n",
    "print(f'Probabilità: {p*100:.2f}%')"
   ]
  },
  {
   "cell_type": "code",
   "execution_count": 3,
   "id": "9090d1ea-e3bf-44a7-803c-c8a07171ad7e",
   "metadata": {},
   "outputs": [
    {
     "name": "stdout",
     "output_type": "stream",
     "text": [
      "Probabilità: 1.4%\n"
     ]
    }
   ],
   "source": [
    "# Sia X la v.a che conta il numero di volte che compare il X\n",
    "\n",
    "k = 0\n",
    "p = binom.pmf(k, n, px)\n",
    "print(f'Probabilità: {p*100:.1f}%')"
   ]
  },
  {
   "cell_type": "markdown",
   "id": "173402bf-642a-4415-b55a-fbd9c73603d1",
   "metadata": {},
   "source": [
    "## Esercizio 3\n",
    "\n",
    "Siano X e Y due variabili aleatorie continue che prendono valori nell’intervallo\n",
    "[0,1] e sia f (x, y) = a(x + 2y) la densità congiunta. Si chiede di:\n",
    "1. Calcolare a ed usare il valore ottenuto nelle domande successive;\n",
    "2. calcolare le densità marginali;\n",
    "3. dire se le variabili X e Y sono indipendenti."
   ]
  },
  {
   "cell_type": "code",
   "execution_count": 31,
   "id": "68f5f9bd-f543-468e-8c56-cd022c899236",
   "metadata": {},
   "outputs": [],
   "source": [
    "# Mi serve Pione "
   ]
  },
  {
   "cell_type": "markdown",
   "id": "9e607d43-37bf-4c96-a741-6bf43392932f",
   "metadata": {},
   "source": [
    "## Esercizio 4\n",
    "\n",
    "Su un campione casuale di 40 elementi proveniente da una popolazione normale si\n",
    "è ottenuta una media pari a 11.2. Considerando nota la varianza (σ = 8) ,\n",
    "veri care che la media della popolazione sia uguale a 10 con un livello di\n",
    "signi catività α = 0.10."
   ]
  },
  {
   "cell_type": "code",
   "execution_count": 11,
   "id": "837c240c-e03d-45ef-aa6a-a1deda46058d",
   "metadata": {},
   "outputs": [
    {
     "name": "stdout",
     "output_type": "stream",
     "text": [
      "Rigetto l'ipotesi nulla\n"
     ]
    }
   ],
   "source": [
    "import numpy as np\n",
    "from scipy.stats import norm\n",
    "\n",
    "n = 40\n",
    "mu = 11.2\n",
    "sig2 = 8\n",
    "sig = np.sqrt(sig2)\n",
    "mu0 = 10\n",
    "alpha = 0.10\n",
    "\n",
    "# Si imposta un test bilatero\n",
    "# H0: mu = mu0\n",
    "# H1: mu <> mu0\n",
    "\n",
    "Z0 = (mu-mu0)/sig * np.sqrt(n)\n",
    "phi = norm.ppf(1-alpha/2)\n",
    "\n",
    "cond = np.abs(Z0) > phi\n",
    "print(\"Rigetto l'ipotesi nulla\" if cond else \"Non ho abbastanza elementi per rigettare l'ipotesi\")"
   ]
  },
  {
   "cell_type": "markdown",
   "id": "7ce1a688-5037-4cd1-839b-1a058c5fb7d1",
   "metadata": {},
   "source": [
    "## Esercizio 5\n",
    "L’ossigeno consumato da una persona che cammina è funzione della sua velocità.\n",
    "La seguente tabella riporta il volume di ossigeno consumato a varie velocità di\n",
    "cammino. Ipotizzando una relazione lineare, scrivere l’equazione della retta di\n",
    "regressione."
   ]
  },
  {
   "cell_type": "code",
   "execution_count": 26,
   "id": "bb54bbe8-a95f-4e1e-b317-b53444a2bb4a",
   "metadata": {},
   "outputs": [
    {
     "name": "stdout",
     "output_type": "stream",
     "text": [
      "Stimatori per b0 e b1: [-13.621   0.664]\n",
      "\n"
     ]
    },
    {
     "data": {
      "image/png": "[encoded data removed]",
      "text/plain": [
       "<Figure size 640x480 with 1 Axes>"
      ]
     },
     "metadata": {},
     "output_type": "display_data"
    }
   ],
   "source": [
    "x = np.array([19.5, 22.1, 24.3, 25.7, 26.1, 28.5, 30.0, 32.1, 32.7, 32.7, 35.0])\n",
    "y = np.arange(11)\n",
    "\n",
    "n = x.size\n",
    "k = 2\n",
    "\n",
    "x1 = np.ones(n)\n",
    "x2 = x\n",
    "X = np.zeros((n, k))\n",
    "X[:,0] = x1\n",
    "X[:,1] = x2\n",
    "\n",
    "XX = np.linalg.pinv(X)\n",
    "b = XX@y\n",
    "print(f'Stimatori per b0 e b1: {np.round(b, 3)}\\n')\n",
    "\n",
    "Y = b[0]*x1 + b[1]*x2\n",
    "\n",
    "import matplotlib.pyplot as plt\n",
    "\n",
    "plt.title(\"Retta di regressione lineare\")\n",
    "plt.plot(x, y, 'o')\n",
    "plt.plot(x, Y)\n",
    "plt.show()"
   ]
  }
 ],
 "metadata": {
  "kernelspec": {
   "display_name": "Python 3 (ipykernel)",
   "language": "python",
   "name": "python3"
  },
  "language_info": {
   "codemirror_mode": {
    "name": "ipython",
    "version": 3
   },
   "file_extension": ".py",
   "mimetype": "text/x-python",
   "name": "python",
   "nbconvert_exporter": "python",
   "pygments_lexer": "ipython3",
   "version": "3.10.12"
  }
 },
 "nbformat": 4,
 "nbformat_minor": 5
}
