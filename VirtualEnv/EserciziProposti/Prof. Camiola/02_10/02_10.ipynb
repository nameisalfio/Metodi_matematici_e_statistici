{
 "cells": [
  {
   "cell_type": "markdown",
   "id": "9e71588a-e3a8-42ca-a841-5b81e8c611bc",
   "metadata": {},
   "source": [
    "## Esercizio 1\n",
    "La probabilità di centrare un bersaglio è pari all’ 80 % . \n",
    "- Qual è il numero medio di prove per effettuare un centro?\n",
    "- Qual è la deviazione standard?\n",
    "- Qual è la probabilità di effettuare un centro dopo 10 prove?"
   ]
  },
  {
   "cell_type": "code",
   "execution_count": 12,
   "id": "a520c641-fcbc-427c-bcfe-5e17ae51ce56",
   "metadata": {},
   "outputs": [
    {
     "name": "stdout",
     "output_type": "stream",
     "text": [
      "Tentativi necessari per effettuare un centro: 1.25\n",
      "Deviazione standard: 0.40\n",
      "Probabilità: 0.9999998976\n"
     ]
    }
   ],
   "source": [
    "from scipy.stats import binom\n",
    "import numpy as np\n",
    "\n",
    "p = 0.8\n",
    "n = 1/p\n",
    "print(f\"Tentativi necessari per effettuare un centro: {n}\")\n",
    "\n",
    "sig = np.sqrt(p*(1-p))\n",
    "print(f\"Deviazione standard: {sig:.2f}\")\n",
    "\n",
    "n = 10\n",
    "k = 1\n",
    "P = binom.sf(k-1, n, p) #almeno un centro\n",
    "print(f\"Probabilità: {P}\")"
   ]
  },
  {
   "cell_type": "markdown",
   "id": "7d0ebd54-a3bc-480b-98fe-8e66d665e360",
   "metadata": {},
   "source": [
    "## Esercizio 2\n",
    "In una città di 50000 abitanti se ne ammalano in media 100 l’anno. \n",
    "- Calcolare la probabilità che se ne ammalino 200.\n",
    "- Sono possibili più modi per risolvere il quesito?"
   ]
  },
  {
   "cell_type": "code",
   "execution_count": 16,
   "id": "9a43d54d-34f3-4e6f-a199-95e2e2087485",
   "metadata": {},
   "outputs": [
    {
     "name": "stdout",
     "output_type": "stream",
     "text": [
      "Probabilità: 4.2755099166278566e-19\n",
      "Probabilità: 4.716970602793046e-19\n"
     ]
    }
   ],
   "source": [
    "n = 50000\n",
    "mu = 100\n",
    "p = mu/n\n",
    "x = 200\n",
    "\n",
    "P = binom.pmf(x, n, p)\n",
    "print(f\"Probabilità: {P}\")\n",
    "\n",
    "# oppure \n",
    "from scipy.stats import poisson\n",
    "\n",
    "lam = mu\n",
    "P = poisson.pmf(x, lam)\n",
    "print(f\"Probabilità: {P}\")"
   ]
  },
  {
   "cell_type": "markdown",
   "id": "ebf478c7-203d-44ab-bb36-fffd163029d6",
   "metadata": {},
   "source": [
    "## Esercizio 3\n",
    "La precisione di una macchina che produce componenti di dimensioni specificate viene\n",
    "tenuta sotto controllo con verifiche campionarie: la dimensione specificata è\n",
    "μ = 3.5 mm. \n",
    "- Se, su 100 pezzi prodotti, si è riscontrata una media campionaria pari a\n",
    "3.42 mm e una varianza campionaria pari a 0.2209 mm 2 , il processo va considerato\n",
    "“sotto controllo” o “fuori controllo”?\n",
    "\n",
    "- Rispondere alla stessa domanda supponendo che le statistiche siano state rilevate su un campione di ampiezza 60."
   ]
  },
  {
   "cell_type": "markdown",
   "id": "11151a99-a13d-419c-9b3b-86fdecdc556d",
   "metadata": {},
   "source": [
    "Si imposta un test (bilatero) sulla media a varianza nota:\n",
    "\n",
    "- $H0: \\mu = \\mu_0$\n",
    "- $H1: \\mu \\ne \\mu_0$"
   ]
  },
  {
   "cell_type": "code",
   "execution_count": 23,
   "id": "0bbb4f9a-5ba9-40fb-9d30-caeb08c6dd73",
   "metadata": {},
   "outputs": [
    {
     "name": "stdout",
     "output_type": "stream",
     "text": [
      "Non ho abbastanza elementi per riggettare l'ipotesi nulla con una dimensione campionaria di 100 elementi\n",
      "Non ho abbastanza elementi per riggettare l'ipotesi nulla con una dimensione campionaria di 60 elementi"
     ]
    }
   ],
   "source": [
    "from scipy.stats import norm\n",
    "\n",
    "mu0 = 3.5\n",
    "n = 100\n",
    "mu = 3.42\n",
    "sig2 = 0.2209\n",
    "sig = np.sqrt(sig2)\n",
    "\n",
    "alpha = 0.05\n",
    "PHI = norm.ppf(1-alpha/2)\n",
    "Z0 = (mu-mu0)/sig * np.sqrt(n)\n",
    "\n",
    "cond = np.abs(Z0) > PHI\n",
    "print(\"Rigetto l'ipotesi nulla\" if cond else \"Non ho abbastanza elementi per riggettare l'ipotesi nulla\", end=f\" con una dimensione campionaria di {n} elementi\\n\")\n",
    "\n",
    "n = 60\n",
    "PHI = norm.ppf(1-alpha/2)\n",
    "Z0 = (mu-mu0)/sig * np.sqrt(n)\n",
    "\n",
    "cond = np.abs(Z0) > PHI\n",
    "print(\"Rigetto l'ipotesi nulla\" if cond else \"Non ho abbastanza elementi per riggettare l'ipotesi nulla\", end=f\" con una dimensione campionaria di {n} elementi\")"
   ]
  }
 ],
 "metadata": {
  "kernelspec": {
   "display_name": "Python 3 (ipykernel)",
   "language": "python",
   "name": "python3"
  },
  "language_info": {
   "codemirror_mode": {
    "name": "ipython",
    "version": 3
   },
   "file_extension": ".py",
   "mimetype": "text/x-python",
   "name": "python",
   "nbconvert_exporter": "python",
   "pygments_lexer": "ipython3",
   "version": "3.10.12"
  },
  "widgets": {
   "application/vnd.jupyter.widget-state+json": {
    "state": {},
    "version_major": 2,
    "version_minor": 0
   }
  }
 },
 "nbformat": 4,
 "nbformat_minor": 5
}
