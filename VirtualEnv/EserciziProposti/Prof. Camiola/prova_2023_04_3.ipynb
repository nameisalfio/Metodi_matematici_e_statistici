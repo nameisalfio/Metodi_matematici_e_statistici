{
 "cells": [
  {
   "cell_type": "markdown",
   "id": "f6944a25-bb31-4e3f-b72a-178f38122eaf",
   "metadata": {},
   "source": [
    "## Esercizio 1\n",
    "\n",
    "Si considerino tre scatole, indicate con A1, A2 e A3, contenenti la prima due monete da 50\n",
    "centesimi, la seconda una da 50 e una da 100, la terza due monete da 100 centesimi. \n",
    "Si scelga a caso una delle tre scatole e da questa si estragga una moneta (con probabilità\n",
    "uguale per le due monete). \n",
    "- Se la moneta estratta è da 50 centesimi, qual è la probabilità che la seconda moneta sia ancora da 50 centesimi?"
   ]
  },
  {
   "cell_type": "code",
   "execution_count": 7,
   "id": "03ba9fe1-04d1-4307-8b19-c37faf66f14a",
   "metadata": {},
   "outputs": [
    {
     "name": "stdout",
     "output_type": "stream",
     "text": [
      "Probabilità: 0.667\n"
     ]
    }
   ],
   "source": [
    "from scipy.stats import hypergeom\n",
    "\n",
    "# Sia X la v.a che conta il numero di monete da 50 estratte\n",
    "\n",
    "k = 1\n",
    "b = 3-1\n",
    "r = 3-2\n",
    "n = 1\n",
    "\n",
    "p = hypergeom.pmf(k, b+r, b, n)\n",
    "print(f'Probabilità: {p:.3f}')"
   ]
  },
  {
   "cell_type": "code",
   "execution_count": 11,
   "id": "e93b8d3e-3b14-416a-946f-bebafcd6c318",
   "metadata": {},
   "outputs": [
    {
     "name": "stdout",
     "output_type": "stream",
     "text": [
      "Probabilità: 0.667\n"
     ]
    }
   ],
   "source": [
    "Bayes = lambda A,B : (A*B)/B\n",
    "\n",
    "A = 2/3\n",
    "B = 3/6\n",
    "\n",
    "p = Bayes(A, B)\n",
    "print(f'Probabilità: {p:.3f}')"
   ]
  },
  {
   "cell_type": "markdown",
   "id": "84c2907c-440c-4b2a-af44-2a77a834c96d",
   "metadata": {},
   "source": [
    "## Esercizio 2\n",
    "\n",
    "Di una variabile aleatoria $X \\sim G(p)$ si sa che P(X $\\le$ 10) = 0.9. Quanto vale p ?"
   ]
  }
 ],
 "metadata": {
  "kernelspec": {
   "display_name": "Python 3 (ipykernel)",
   "language": "python",
   "name": "python3"
  },
  "language_info": {
   "codemirror_mode": {
    "name": "ipython",
    "version": 3
   },
   "file_extension": ".py",
   "mimetype": "text/x-python",
   "name": "python",
   "nbconvert_exporter": "python",
   "pygments_lexer": "ipython3",
   "version": "3.10.12"
  }
 },
 "nbformat": 4,
 "nbformat_minor": 5
}
