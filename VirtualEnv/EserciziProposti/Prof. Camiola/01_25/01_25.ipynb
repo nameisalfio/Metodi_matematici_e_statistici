{
 "cells": [
  {
   "cell_type": "markdown",
   "id": "f96d23ab-4d2f-422a-9bfd-abe6cc954a70",
   "metadata": {},
   "source": [
    "## Esercizio 1\n",
    "Un’urna contiene 12 palline nere e 4 bianche. Ne vengono estratte 6 senza rimpiazzo.\n",
    "Qual è la probabilità di estrarne al più 2 bianche?"
   ]
  },
  {
   "cell_type": "code",
   "execution_count": 1,
   "id": "6ad1fe89-8b10-4ef2-b36b-0de82a5b5b7a",
   "metadata": {},
   "outputs": [
    {
     "name": "stdout",
     "output_type": "stream",
     "text": [
      "P: 0.882\n"
     ]
    }
   ],
   "source": [
    "from scipy.stats import hypergeom\n",
    "\n",
    "n = 6\n",
    "k = 2\n",
    "b = 4\n",
    "r = 12\n",
    "\n",
    "P = hypergeom.cdf(k, b+r, b, n)\n",
    "print(f\"P: {P:.3f}\")"
   ]
  },
  {
   "cell_type": "markdown",
   "id": "1e1a343f-1328-4eb2-89c6-434c5359a0b2",
   "metadata": {},
   "source": [
    "## Esercizio 2\n",
    "Nel testare un nuovo tipo di vernice antiruggine si scopre che il 26 % dei campioni viene\n",
    "rovinato se lasciato sotto la pioggia. Dati 30 campioni sottoposti al test, calcolare la\n",
    "probabilità che il numero di campioni che falliscono il test sia:\n",
    "\n",
    "1. compreso tra 11 e 19;<br>\n",
    "2. maggiore di 20;<br>\n",
    "3. minore di 10."
   ]
  },
  {
   "cell_type": "code",
   "execution_count": 2,
   "id": "f03216f5-b1f2-4b9d-be06-5c7a852898b7",
   "metadata": {},
   "outputs": [
    {
     "name": "stdout",
     "output_type": "stream",
     "text": [
      "Compreso tra 11 e 19 : 0.132\n"
     ]
    }
   ],
   "source": [
    "from scipy.stats import binom\n",
    "\n",
    "p = 26/100\n",
    "n = 30\n",
    "\n",
    "p1 =  binom.cdf(19, n, p) - binom.cdf(10, n, p)\n",
    "print(f\"Compreso tra 11 e 19 : {p1:.3f}\")"
   ]
  },
  {
   "cell_type": "code",
   "execution_count": 3,
   "id": "970ca7af-cc6a-496a-8f56-2acf6cdf4aa5",
   "metadata": {},
   "outputs": [
    {
     "name": "stdout",
     "output_type": "stream",
     "text": [
      "Maggiore di 20 : 0.0000006\n"
     ]
    }
   ],
   "source": [
    "p2 = binom.sf(20, n, p)\n",
    "print(f\"Maggiore di 20 : {p2:.7f}\")"
   ]
  },
  {
   "cell_type": "code",
   "execution_count": 4,
   "id": "f3cd5b29-26c6-4223-ad59-250825abb4f8",
   "metadata": {},
   "outputs": [
    {
     "name": "stdout",
     "output_type": "stream",
     "text": [
      "Minore di 10 : 0.868\n"
     ]
    }
   ],
   "source": [
    "p3 = binom.cdf(10, n, p)\n",
    "print(f\"Minore di 10 : {p3:.3f}\")"
   ]
  },
  {
   "cell_type": "markdown",
   "id": "8555c8c0-23f2-4fe9-a11e-2ac1e8a37036",
   "metadata": {},
   "source": [
    "## Esercizio 3\n",
    "Il numero medio di clienti che in un’ora arrivano in un centro di assistenza è 10.\n",
    "Supponendo che il numero di arrivi segua una legge di Poisson, calcolare:<br>\n",
    "1. la probabilità che più di 15 clienti arrivino in 2 ore;<br>\n",
    "2. il numero medio di arrivi in 2 ore.<br>"
   ]
  },
  {
   "cell_type": "code",
   "execution_count": 5,
   "id": "907100cb-c50c-4202-b13f-106a09f9750c",
   "metadata": {},
   "outputs": [
    {
     "name": "stdout",
     "output_type": "stream",
     "text": [
      "Probabilità che più di 15 clienti arrivino in 2 ore: 0.843\n",
      "Numero medio di arrivi in 2 ore: 20\n"
     ]
    }
   ],
   "source": [
    "from scipy.stats import poisson\n",
    "\n",
    "k = 15\n",
    "lam = 10\n",
    "P = poisson.sf(k, lam*2)\n",
    "print(f\"Probabilità che più di 15 clienti arrivino in 2 ore: {P:.3f}\")\n",
    "\n",
    "n = lam*2\n",
    "print(f'Numero medio di arrivi in 2 ore: {n}')"
   ]
  },
  {
   "cell_type": "markdown",
   "id": "da44b3d4-7d4c-4854-8a37-e1c22a2260c8",
   "metadata": {},
   "source": [
    "## Esercizio 4\r\n",
    "Un ricercatore conclude che i topi vivono in media 40 mesi quando la loro dieta viene\r\n",
    "ridotta e arricchita con delle vitamine e proteine. Assumendo che la vita di questi topi sia\r\n",
    "distribuita come una distribuzione normale con deviazione standard 6.3 mesi, calcolare la\r\n",
    "probabilità che un qualsiasi topo viva per un numero di m\n",
    "\n",
    "1. maggiore di 32;<br>\n",
    "2. minore di 28;<br>\n",
    "3. compreso tra 37 e 49;ltati)."
   ]
  },
  {
   "cell_type": "markdown",
   "id": "64783e6e-ab6a-4dc4-b252-87156a73fca2",
   "metadata": {},
   "source": [
    "Un’altro ricercatore, variando la dieta, ottiene una vita media di 35 mesi e deviazione\n",
    "standard 4.3 mesi, si può concludere che la prima dieta sia efficace? (Il candidato scelga\n",
    "il tipo di test da eseguire e ne giusti chi i risultati)."
   ]
  },
  {
   "cell_type": "code",
   "execution_count": 6,
   "id": "1ddc3e61-75a5-47bb-8902-8e5409929b0a",
   "metadata": {},
   "outputs": [
    {
     "name": "stdout",
     "output_type": "stream",
     "text": [
      "P: 0.898\n",
      "P: 0.028\n",
      "P: 0.606\n"
     ]
    }
   ],
   "source": [
    "mu = 40\n",
    "sig = 6.3\n",
    "\n",
    "from scipy.stats import norm\n",
    "\n",
    "P = norm.sf(32, mu, sig)\n",
    "print(f\"P: {P:.3f}\")\n",
    "\n",
    "P = norm.cdf(28, mu, sig)\n",
    "print(f\"P: {P:.3f}\")\n",
    "\n",
    "P = norm.cdf(49, mu, sig) - norm.cdf(37, mu, sig)\n",
    "print(f\"P: {P:.3f}\")"
   ]
  },
  {
   "cell_type": "code",
   "execution_count": 15,
   "id": "8a94f375-a3f1-49f0-b5fc-c5d661e1cff2",
   "metadata": {},
   "outputs": [
    {
     "name": "stdout",
     "output_type": "stream",
     "text": [
      "Rigetto l'ipotesi nulla\n"
     ]
    }
   ],
   "source": [
    "import numpy as np\n",
    "from scipy.stats import t\n",
    "\n",
    "mu1 = mu\n",
    "mu2 = 35\n",
    "\n",
    "sig1 = sig\n",
    "sig2 = 4.3\n",
    "\n",
    "# Imposto un test sulla media per dati accoppiati\n",
    "# Test unilatero a destra\n",
    "# H0: mu_d <> 0\n",
    "# H1: mu_d > 0\n",
    "\n",
    "alpha = 0.05\n",
    "n = 3\n",
    "D = mu1-mu2\n",
    "S = sig1-sig2\n",
    "\n",
    "T0 = D/S * np.sqrt(n)\n",
    "T = t.ppf(1-alpha, n-1)\n",
    "\n",
    "cond = T0 > T\n",
    "print(\"Rigetto l'ipotesi nulla\" if cond else \"Non ho abbastanza elementi per rigettare\")"
   ]
  }
 ],
 "metadata": {
  "kernelspec": {
   "display_name": "Python 3 (ipykernel)",
   "language": "python",
   "name": "python3"
  },
  "language_info": {
   "codemirror_mode": {
    "name": "ipython",
    "version": 3
   },
   "file_extension": ".py",
   "mimetype": "text/x-python",
   "name": "python",
   "nbconvert_exporter": "python",
   "pygments_lexer": "ipython3",
   "version": "3.10.12"
  },
  "widgets": {
   "application/vnd.jupyter.widget-state+json": {
    "state": {},
    "version_major": 2,
    "version_minor": 0
   }
  }
 },
 "nbformat": 4,
 "nbformat_minor": 5
}
