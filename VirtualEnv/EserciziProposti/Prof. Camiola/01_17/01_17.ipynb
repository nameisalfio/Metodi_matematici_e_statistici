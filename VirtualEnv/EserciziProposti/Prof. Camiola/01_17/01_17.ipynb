{
 "cells": [
  {
   "cell_type": "markdown",
   "id": "d43f5cbb-8ad6-4791-bd40-1c8922595034",
   "metadata": {},
   "source": [
    "## Esercizio 1\n",
    "Si esaminano 50 pezzi prodotti da due macchine (che indichiamo con A e B) e si contano\n",
    "i pezzi difettosi. I risultati sono i seguenti:\n",
    "\n",
    "1. Si calcoli la probabilità che un pezzo scelto a caso sia difettoso;<br>\n",
    "2. Si calcoli la probabilità che un pezzo scelto a caso tra quelli difettosi provenga dalla\n",
    "macchina B;<br>\n",
    "3. Si dica, giusti cando la risposta, se gli eventi “il pezzo è difettoso” e “il pezzo proviene\n",
    "dalla macchina A” si possono ritenere indipendenti;<br>\n",
    "4. Come si può stabilire se una macchina è preferibile all’altra?"
   ]
  },
  {
   "cell_type": "markdown",
   "id": "0e89c50c-bddd-444c-bb95-cb6afeee54b3",
   "metadata": {},
   "source": [
    "### Punto 1\n",
    "\n",
    "Consideriamo gli eventi:\n",
    "- DA: Pezzo difettoso prodotto da A\n",
    "- DB: Pezzo difettoso prodotto da B\n",
    "- A: Pezzo prodotto da A\n",
    "- B: Pezzo prodotto da B\n",
    "\n",
    "Per il teorema delle probabilità totali si ha che la prima richiesta è dato da:\n",
    "\n",
    "$P1 = P(DA) \\cdot P(A) + P(DB) \\cdot P(B)$"
   ]
  },
  {
   "cell_type": "code",
   "execution_count": 1,
   "id": "5a6565d0-b524-42af-b4eb-026ed71ac500",
   "metadata": {},
   "outputs": [
    {
     "name": "stdout",
     "output_type": "stream",
     "text": [
      "P1: 0.2\n"
     ]
    }
   ],
   "source": [
    "DA = 4/20\n",
    "DB = 6/30\n",
    "A = 20/50\n",
    "B = 30/50\n",
    "\n",
    "P1 = DA*A + DB*B\n",
    "print(f'P1: {P1}')"
   ]
  },
  {
   "cell_type": "markdown",
   "id": "7c6b976d-c938-44b3-a078-67ccda3ff9f3",
   "metadata": {},
   "source": [
    "### Punto 2\n",
    "\n",
    "Consideriamo gli eventi\n",
    "- D: Pezzo difettoso\n",
    "- B: Pezzo prodotto da B\n",
    "\n",
    "Per il teorema di Bayes si ha:\n",
    "\n",
    "P(B|D) = $\\frac{P(D|B) \\cdot P(B)}{P(D)}$"
   ]
  },
  {
   "cell_type": "code",
   "execution_count": 2,
   "id": "3c6771f8-3678-4b4e-881f-d2f8ab5786d2",
   "metadata": {},
   "outputs": [
    {
     "name": "stdout",
     "output_type": "stream",
     "text": [
      "P(B|D): 0.6\n"
     ]
    }
   ],
   "source": [
    "D = P1\n",
    "\n",
    "P2 = (DB * B) / D\n",
    "print(f'P(B|D): {P2}')"
   ]
  },
  {
   "cell_type": "markdown",
   "id": "753936e6-cea7-4d06-8c26-567aae6ccdb7",
   "metadata": {},
   "source": [
    "### Punto 3\n",
    "\n",
    "Gli eventi sono indipendenti se e solo se \n",
    "\n",
    "$P(D) \\cdot P(A)= P(D \\cap A) $\n",
    "\n",
    "Attenzionando la probabilità che un pezzo è sia difettoso che proveniente da A:<br>\n",
    "$P(D \\cap A) = \\frac{4}{50} \\approx 0.08$"
   ]
  },
  {
   "cell_type": "code",
   "execution_count": 16,
   "id": "39bf8f79-faad-4d67-9ee7-f6754d11dcfb",
   "metadata": {},
   "outputs": [
    {
     "name": "stdout",
     "output_type": "stream",
     "text": [
      "Gli eventi sono indipendenti\n"
     ]
    }
   ],
   "source": [
    "D_and_A = round(D*A, 16)\n",
    "cond = D_and_A == 4/50\n",
    "print(\"Gli eventi sono indipendenti\" if cond else \"Gli eventi non sono indipendenti\")"
   ]
  },
  {
   "cell_type": "markdown",
   "id": "99350168-8f5b-45b5-85c1-95b6aa1228f6",
   "metadata": {},
   "source": [
    "### Punto 4"
   ]
  },
  {
   "cell_type": "markdown",
   "id": "1de7f713-d2f2-4f2c-b71d-9ab1cf1d29c7",
   "metadata": {},
   "source": [
    "Si può pensare di preferire la macchina che, in percentuale, produce meno pezzi difettosi:"
   ]
  },
  {
   "cell_type": "code",
   "execution_count": 4,
   "id": "0ea686bd-aac1-444a-b8e3-8ef53494a083",
   "metadata": {},
   "outputs": [
    {
     "name": "stdout",
     "output_type": "stream",
     "text": [
      "Si preferisce B\n"
     ]
    }
   ],
   "source": [
    "cond = DA < DB\n",
    "print(\"Si preferisce A\" if cond else \"Si preferisce B\")"
   ]
  },
  {
   "cell_type": "markdown",
   "id": "25545b7e-7acc-4141-9680-d849c5a36eb2",
   "metadata": {},
   "source": [
    "## Esercizio 2\n",
    "Sia Λ il numero medio di meteoriti che ogni anno raggiungono la superficie terrestre. Di\n",
    "queste solo una frazione p raggiunge la superficie terrestre. Indicando con q la frazione di\n",
    "superficie terrestre abitata, si calcoli la probabilità che almeno due meteoriti cadano su\n",
    "una zona abitata. Si assumano i seguenti valori: Λ = 10^4, p = 3 ⋅ 10^−5, q = 0.1."
   ]
  },
  {
   "cell_type": "code",
   "execution_count": 5,
   "id": "d7c34d98-429b-401a-9bee-96c14dd922ef",
   "metadata": {},
   "outputs": [
    {
     "name": "stdout",
     "output_type": "stream",
     "text": [
      "P: 0.00044\n"
     ]
    }
   ],
   "source": [
    "from scipy.stats import poisson\n",
    "\n",
    "Lam = pow(10, 4)\n",
    "p = 3 * pow(10, -5)\n",
    "q = 0.1\n",
    "\n",
    "lam = Lam * p * q\n",
    "P = poisson.sf(1, lam)\n",
    "\n",
    "print(f'P: {P:.5f}')"
   ]
  },
  {
   "cell_type": "markdown",
   "id": "8ecfcafc-1cd7-4fc9-8c5b-1c84eb5c6deb",
   "metadata": {},
   "source": [
    "## Esercizio 3\n",
    "Campionando da una popolazione normale, si sono osservati i seguenti valori:<br>\n",
    "2.0, -1.8, 3.0, -4.1, 4.9, -5.\n",
    "\n",
    "Si verifichi, al livello di signi catività del 5%, l’ipotesi che il valore atteso sia nullo."
   ]
  },
  {
   "cell_type": "markdown",
   "id": "aeadbc74-3b03-4b70-8266-c99cfbbefa04",
   "metadata": {},
   "source": [
    "Si imposta un test sulla media a varianza ignota:\n",
    "\n",
    "- $H0: \\mu = \\mu_0$\n",
    "- $H1: \\mu \\ne \\mu_0$"
   ]
  },
  {
   "cell_type": "code",
   "execution_count": 6,
   "id": "1b553360-e7c0-4f3b-99e6-a3a7c6df732d",
   "metadata": {},
   "outputs": [
    {
     "name": "stdout",
     "output_type": "stream",
     "text": [
      "Non ho abbastanza elementi per riggettare l'ipotesi nulla\n"
     ]
    }
   ],
   "source": [
    "from scipy.stats import t\n",
    "import numpy as np\n",
    "\n",
    "x = np.array([2.0, -1.8, 3.0, -4.1, 4.9, -5])\n",
    "n = x.size\n",
    "mu = np.mean(x)\n",
    "mu0 = 0\n",
    "sig = np.std(x, ddof=1)\n",
    "\n",
    "alpha = 0.05\n",
    "T = t.ppf(1-alpha/2, n-1)\n",
    "T0 = (mu-mu0)/sig * np.sqrt(n)\n",
    "\n",
    "cond = np.abs(T0) > T\n",
    "print(\"Rigetto l'ipotesi nulla\" if cond else \"Non ho abbastanza elementi per riggettare l'ipotesi nulla\")"
   ]
  }
 ],
 "metadata": {
  "kernelspec": {
   "display_name": "Python 3 (ipykernel)",
   "language": "python",
   "name": "python3"
  },
  "language_info": {
   "codemirror_mode": {
    "name": "ipython",
    "version": 3
   },
   "file_extension": ".py",
   "mimetype": "text/x-python",
   "name": "python",
   "nbconvert_exporter": "python",
   "pygments_lexer": "ipython3",
   "version": "3.10.12"
  },
  "widgets": {
   "application/vnd.jupyter.widget-state+json": {
    "state": {},
    "version_major": 2,
    "version_minor": 0
   }
  }
 },
 "nbformat": 4,
 "nbformat_minor": 5
}
