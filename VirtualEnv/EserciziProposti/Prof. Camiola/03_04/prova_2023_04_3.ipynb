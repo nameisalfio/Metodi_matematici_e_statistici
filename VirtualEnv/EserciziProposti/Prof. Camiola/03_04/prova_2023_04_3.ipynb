{
 "cells": [
  {
   "cell_type": "markdown",
   "id": "f6944a25-bb31-4e3f-b72a-178f38122eaf",
   "metadata": {},
   "source": [
    "## Esercizio 1\n",
    "\n",
    "Si considerino tre scatole, indicate con A1, A2 e A3, contenenti la prima due monete da 50\n",
    "centesimi, la seconda una da 50 e una da 100, la terza due monete da 100 centesimi. \n",
    "Si scelga a caso una delle tre scatole e da questa si estragga una moneta (con probabilità\n",
    "uguale per le due monete). \n",
    "- Se la moneta estratta è da 50 centesimi, qual è la probabilità che la seconda moneta sia ancora da 50 centesimi?"
   ]
  },
  {
   "cell_type": "code",
   "execution_count": 1,
   "id": "03ba9fe1-04d1-4307-8b19-c37faf66f14a",
   "metadata": {},
   "outputs": [
    {
     "name": "stdout",
     "output_type": "stream",
     "text": [
      "Probabilità: 0.667\n"
     ]
    }
   ],
   "source": [
    "from scipy.stats import hypergeom\n",
    "\n",
    "# Sia X la v.a che conta il numero di monete da 50 estratte\n",
    "\n",
    "k = 1\n",
    "b = 2 # 3-1\n",
    "r = 1 # 3-2\n",
    "n = 1\n",
    "\n",
    "p = hypergeom.pmf(k, b+r, b, n)\n",
    "print(f'Probabilità: {p:.3f}')"
   ]
  },
  {
   "cell_type": "code",
   "execution_count": 2,
   "id": "e93b8d3e-3b14-416a-946f-bebafcd6c318",
   "metadata": {},
   "outputs": [
    {
     "name": "stdout",
     "output_type": "stream",
     "text": [
      "Probabilità: 0.667\n"
     ]
    }
   ],
   "source": [
    "Bayes = lambda A,B : (A*B)/B\n",
    "\n",
    "A = 2/3\n",
    "B = 3/6\n",
    "\n",
    "p = Bayes(A, B)\n",
    "print(f'Probabilità: {p:.3f}')"
   ]
  },
  {
   "cell_type": "markdown",
   "id": "84c2907c-440c-4b2a-af44-2a77a834c96d",
   "metadata": {},
   "source": [
    "## Esercizio 2\n",
    "\n",
    "Di una variabile aleatoria $X \\sim G(p)$ si sa che P(X $\\le$ 10) = 0.9. Quanto vale p ?"
   ]
  },
  {
   "cell_type": "code",
   "execution_count": 3,
   "id": "16cbad2d-3fb2-4e08-a1f3-4e7b1bc0d9ab",
   "metadata": {},
   "outputs": [
    {
     "name": "stdout",
     "output_type": "stream",
     "text": [
      "Probabilità: 20.6%\n"
     ]
    }
   ],
   "source": [
    "# P(T <= k) = 1 - (1-p)^k \n",
    "# da cui p = 1-0.1^(1/10)\n",
    "\n",
    "p = 1-pow(0.1, 1/10)\n",
    "print(f'Probabilità: {p*100:.1f}%')"
   ]
  },
  {
   "cell_type": "markdown",
   "id": "9be4fc12-064b-4bca-a39d-d39e7d7e2dce",
   "metadata": {},
   "source": [
    "## Esercizio 3\n",
    "\n",
    "Un’azienda produce filo elettrico confezionato in matasse della lunghezza nominale di 10\n",
    "metri. In realtà la lunghezza di ogni matassa (misurata in metri) è una variabile aleatoria $X \\sim N(10.1, 0.2)$.<br>\n",
    "Le matasse aventi lunghezza inferiore alla lunghezza nominale vengono vendute a prezzo\n",
    "ribassato. \n",
    "- Qual è la percentuale di queste matasse?\n",
    "- Presa una matassa venduta a prezzo pieno, qual è la probabilità che la sua lunghezza non\n",
    "superi 10.5 metri?"
   ]
  },
  {
   "cell_type": "code",
   "execution_count": 9,
   "id": "3d6e9818-ac35-406b-83a0-ac612134add6",
   "metadata": {},
   "outputs": [
    {
     "name": "stdout",
     "output_type": "stream",
     "text": [
      "Probabilità: 41.2%\n"
     ]
    }
   ],
   "source": [
    "from scipy.stats import norm\n",
    "import numpy as np\n",
    "\n",
    "mu = 10.1\n",
    "sig = np.sqrt(0.2)\n",
    "x = 10\n",
    "\n",
    "# P(X <= 10)\n",
    "p = norm.cdf(x, mu, sig)\n",
    "print(f'Probabilità: {p*100:.1f}%')"
   ]
  },
  {
   "cell_type": "code",
   "execution_count": 10,
   "id": "ab14189a-d198-4247-9ee5-60be1c65030a",
   "metadata": {},
   "outputs": [
    {
     "name": "stdout",
     "output_type": "stream",
     "text": [
      "Probabilità: 40.3%\n"
     ]
    }
   ],
   "source": [
    "# P(X <= 10.5) - P(X <= 10) --> P(10 <= X <= 10.5)\n",
    "\n",
    "x1 = 10.5\n",
    "x2 = 10\n",
    "p = norm.cdf(x1, mu, sig) - norm.cdf(x2, mu, sig)\n",
    "print(f'Probabilità: {p*100:.1f}%')"
   ]
  },
  {
   "cell_type": "markdown",
   "id": "d94d948e-bb8f-4d12-a5a3-b615e319b504",
   "metadata": {},
   "source": [
    "## Esercizio 4\n",
    "\n",
    "I seguenti valori provengono da una distribuzione $X \\sim N(\\mu, 0.8)$:\n",
    "\n",
    "16.1, 13.9, 15.1, 17.5, 14.9, 15.8, 16.3\n",
    "\n",
    "Testare l’ipotesi <br>$H0: \\mu = 15$ contro <br>$H1: \\mu \\ne 15$<br>attraverso il calcolo di un opportuno p-value"
   ]
  },
  {
   "cell_type": "code",
   "execution_count": 21,
   "id": "2ee72fec-e9ec-4d89-93ca-7fb9cf797748",
   "metadata": {},
   "outputs": [
    {
     "name": "stdout",
     "output_type": "stream",
     "text": [
      "P-value: 0.052\n",
      "Rigetto l'ipotesi nulla in favore dell'alternativa per qualue valore di alpha >= di 0.052\n"
     ]
    }
   ],
   "source": [
    "# Test bilatero\n",
    "\n",
    "x = np.array([16.1, 13.9, 15.1, 17.5, 14.9, 15.8, 16.3])\n",
    "mu = np.mean(x)\n",
    "mu0 = 15\n",
    "sig = np.sqrt(0.8)\n",
    "n = x.size\n",
    "\n",
    "Z0 = (mu-mu0)/sig*np.sqrt(n)\n",
    "phi = norm.cdf(np.abs(Z0))\n",
    "p_value = 2*(1-phi)\n",
    "print(f'P-value: {p_value:.3f}')\n",
    "\n",
    "print(f\"Rigetto l'ipotesi nulla in favore dell'alternativa per qualue valore di alpha >= di {p_value:.3f}\")"
   ]
  }
 ],
 "metadata": {
  "kernelspec": {
   "display_name": "Python 3 (ipykernel)",
   "language": "python",
   "name": "python3"
  },
  "language_info": {
   "codemirror_mode": {
    "name": "ipython",
    "version": 3
   },
   "file_extension": ".py",
   "mimetype": "text/x-python",
   "name": "python",
   "nbconvert_exporter": "python",
   "pygments_lexer": "ipython3",
   "version": "3.10.12"
  }
 },
 "nbformat": 4,
 "nbformat_minor": 5
}
