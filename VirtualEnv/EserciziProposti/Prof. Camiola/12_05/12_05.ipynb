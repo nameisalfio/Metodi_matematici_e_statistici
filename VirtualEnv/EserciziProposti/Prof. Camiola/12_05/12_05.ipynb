{
 "cells": [
  {
   "cell_type": "markdown",
   "id": "fda045a3-5a62-49ef-8fff-5bdd5bb162b0",
   "metadata": {},
   "source": [
    "## Esercizio 1\n",
    "\n",
    "I componenti prodotti da una certa ditta possono presentare due tipi di difetti con\n",
    "percentuali del 3% e 7% rispettivamente. I due tipi di difetti si possono produrre in\n",
    "momenti diversi della produzione per cui si può assumere che le presenze dell’uno o\n",
    "dell’altro siano indipendenti tra loro.\n",
    "\n",
    "A. Qual è la probabilità che un componente presenti entrambi i difetti?<br>\n",
    "B. Qual è la probabilità che un componente sia difettoso (cioè presenti almeno uno dei\n",
    "due difetti)?<br>\n",
    "C. Qual è la probabilità che un componente presenti il difetto 1, sapendo che esso è\n",
    "difettoso?<br>\n",
    "D. Qual è la probabilità che esso presenti uno solo dei due difetti sapendo che esso è\n",
    "difettoso?<br>"
   ]
  },
  {
   "cell_type": "code",
   "execution_count": 13,
   "id": "e9bb9880-045c-4257-8c94-881f960cd750",
   "metadata": {},
   "outputs": [
    {
     "name": "stdout",
     "output_type": "stream",
     "text": [
      "A: 0.002\n",
      "B: 0.100\n",
      "C: 0.300\n",
      "D: 0.979\n"
     ]
    }
   ],
   "source": [
    "p1 = 3/100\n",
    "p2 = 7/100\n",
    "\n",
    "A = p1*p2\n",
    "print(f\"A: {A:.3f}\")\n",
    "\n",
    "B = p1 + p2 \n",
    "print(f\"B: {B:.3f}\")\n",
    "\n",
    "# P(p1|B) = P(B|p1)*P(p1) / P(B)\n",
    "C = 1 * p1 / B\n",
    "print(f\"C: {C:.3f}\")\n",
    "\n",
    "# P(only_one|B) = P(B|only_one)*P(only_one) / P(B)\n",
    "only_one = B - p1*p2\n",
    "D = 1 * only_one / B\n",
    "print(f\"D: {D:.3f}\")"
   ]
  },
  {
   "cell_type": "markdown",
   "id": "99ccc1e4-902d-42b5-97e0-7490a46ace88",
   "metadata": {},
   "source": [
    "## Esercizio 2\n",
    "\n",
    "Una nota compagnia di bibite, che dichiara per le sue bottiglie un contenuto di 730 ml,\n",
    "dispone di macchine imbottigliatrici che forniscono un riempimento X aleatorio che segue\n",
    "una legge normale di media μ e di varianza σ 2 = 625 . <br>\n",
    "- Come deve essere fissata μ perché la probabilità che una bottiglia venga trovata con un contenuto insufficiente sia\n",
    "inferiore a 0.002?\n",
    "- Quanto dovrebbe valere μ se la compagnia disponesse invece di imbottigliatrici con varianza σ 2 = 400?"
   ]
  },
  {
   "cell_type": "code",
   "execution_count": 34,
   "id": "3f04666d-5eb6-4b69-bb48-364e7468c3c7",
   "metadata": {},
   "outputs": [
    {
     "name": "stdout",
     "output_type": "stream",
     "text": [
      "Media : 802\n"
     ]
    }
   ],
   "source": [
    "from scipy.stats import norm\n",
    "import numpy as np\n",
    "\n",
    "mu0 = 730\n",
    "sig2 = 625\n",
    "sig = int(np.sqrt(sig2))\n",
    "\n",
    "p = 0\n",
    "p_target = 0.002\n",
    "\n",
    "for mu in range(x-sig2, x+sig2):\n",
    "    p = norm.cdf(mu0, mu, sig) # probabilità che sia inferiore a mu0\n",
    "    if (p < p_target):\n",
    "        break\n",
    "    \n",
    "print(f'Media : {mu}')"
   ]
  },
  {
   "cell_type": "code",
   "execution_count": 35,
   "id": "2d7244c9-71c5-4a40-8612-203b18328893",
   "metadata": {},
   "outputs": [
    {
     "name": "stdout",
     "output_type": "stream",
     "text": [
      "Media : 788\n"
     ]
    }
   ],
   "source": [
    "mu0 = 730\n",
    "sig2 = 400\n",
    "sig = int(np.sqrt(sig2))\n",
    "\n",
    "p = 0\n",
    "p_target = 0.002\n",
    "\n",
    "for mu in range(x-sig2, x+sig2):\n",
    "    p = norm.cdf(mu0, mu, sig) # probabilità che sia inferiore a mu0\n",
    "    if (p < p_target):\n",
    "        break\n",
    "    \n",
    "print(f'Media : {mu}')"
   ]
  }
 ],
 "metadata": {
  "kernelspec": {
   "display_name": "Python 3 (ipykernel)",
   "language": "python",
   "name": "python3"
  },
  "language_info": {
   "codemirror_mode": {
    "name": "ipython",
    "version": 3
   },
   "file_extension": ".py",
   "mimetype": "text/x-python",
   "name": "python",
   "nbconvert_exporter": "python",
   "pygments_lexer": "ipython3",
   "version": "3.10.12"
  },
  "widgets": {
   "application/vnd.jupyter.widget-state+json": {
    "state": {},
    "version_major": 2,
    "version_minor": 0
   }
  }
 },
 "nbformat": 4,
 "nbformat_minor": 5
}
