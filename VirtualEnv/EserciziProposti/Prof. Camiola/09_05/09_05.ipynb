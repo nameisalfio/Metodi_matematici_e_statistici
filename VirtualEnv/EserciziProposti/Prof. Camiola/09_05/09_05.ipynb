{
 "cells": [
  {
   "cell_type": "markdown",
   "id": "e8f2a98d-e867-4078-8075-0ededfe9d566",
   "metadata": {},
   "source": [
    "## Esercizio 1"
   ]
  },
  {
   "cell_type": "code",
   "execution_count": 12,
   "id": "d41f0176-4ce0-465e-993a-789395c9a655",
   "metadata": {},
   "outputs": [
    {
     "name": "stdout",
     "output_type": "stream",
     "text": [
      "Valore di d: 0.329\n"
     ]
    }
   ],
   "source": [
    "import numpy as np\n",
    "from scipy.stats import norm\n",
    "\n",
    "mu = 1.50\n",
    "sig = 0.2\n",
    "q = 0.95\n",
    "\n",
    "# Sia x la v.a che conta la percentuale di componenti\n",
    "# che non rispetta le specifiche : voglio t tale che P (X < t) = 0.95\n",
    "\n",
    "below = norm.ppf(q, mu, sig) # al di sotto\n",
    "above = norm.ppf(1-q, mu, sig) # al di sopra\n",
    "d = (below-above)/2 # poichè below-above è 2d\n",
    "print(f'Valore di d: {d:.3f}')"
   ]
  },
  {
   "cell_type": "markdown",
   "id": "9e8a8ab3-0bdc-44a4-bd92-1b66e42e89e8",
   "metadata": {},
   "source": [
    "## Esercizio 2"
   ]
  },
  {
   "cell_type": "code",
   "execution_count": 6,
   "id": "3272c54a-3606-4a1b-bd0f-0cc0f2b4e1de",
   "metadata": {},
   "outputs": [
    {
     "name": "stdout",
     "output_type": "stream",
     "text": [
      "Non ho abbastanza elementi per rigettare\n"
     ]
    }
   ],
   "source": [
    "# Si imposta un test sulla media per coppie di popolazioni\n",
    "# H0: mu1 = mu2\n",
    "# H1: mu1 <> mu2\n",
    "\n",
    "A = np.array([87,92,94,89,90])\n",
    "B = np.array([88,85,93,96,90,91,89,93,95])\n",
    "\n",
    "n = A.size\n",
    "m = B.size\n",
    "mu1 = np.mean(A)\n",
    "mu2 = np.mean(B)\n",
    "sig2_1 = np.std(A, ddof=1)**2\n",
    "sig2_2 = np.std(B, ddof=1)**2\n",
    "\n",
    "alpha=0.05\n",
    "\n",
    "Z0 = (mu1-mu2)/np.sqrt((sig2_1/n)+(sig2_2/m))\n",
    "PHI = norm.ppf(1-alpha/2)\n",
    "\n",
    "cond = np.abs(Z0) > PHI\n",
    "print(\"Rigetto l'ipotesi nulla\" if cond else \"Non ho abbastanza elementi per rigettare\")"
   ]
  }
 ],
 "metadata": {
  "kernelspec": {
   "display_name": "Python 3 (ipykernel)",
   "language": "python",
   "name": "python3"
  },
  "language_info": {
   "codemirror_mode": {
    "name": "ipython",
    "version": 3
   },
   "file_extension": ".py",
   "mimetype": "text/x-python",
   "name": "python",
   "nbconvert_exporter": "python",
   "pygments_lexer": "ipython3",
   "version": "3.10.12"
  }
 },
 "nbformat": 4,
 "nbformat_minor": 5
}
