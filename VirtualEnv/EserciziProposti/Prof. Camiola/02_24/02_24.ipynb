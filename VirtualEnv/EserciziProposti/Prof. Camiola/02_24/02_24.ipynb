{
 "cells": [
  {
   "cell_type": "markdown",
   "id": "df88c17c-c06b-4b03-a8c8-986848b12d3c",
   "metadata": {},
   "source": [
    "## Esercizio 2\n",
    "Con riferimento alle misure di temperatura media mensile e ettuate nelle 30\n",
    "località delle regioni A e B nel mese di luglio (Tabelle 1 e 2), viene avanzata\n",
    "l’ipotesi che, nell’anno in cui è stato e ettuato il monitoraggio, la\n",
    "temperatura media della regione B sia maggiore di quella della regione A .\n",
    "Veri care l’ipotesi con un livello di signi catività α = 0.05."
   ]
  },
  {
   "cell_type": "code",
   "execution_count": 8,
   "id": "c497004d-201a-4b88-b199-12d9aaf1832a",
   "metadata": {},
   "outputs": [
    {
     "name": "stdout",
     "output_type": "stream",
     "text": [
      "Z0: 6.122\n",
      "PHI: -1.645\n",
      "Non ho abbastanza elementi per rigettare\n"
     ]
    }
   ],
   "source": [
    "import numpy as np\n",
    "from scipy.stats import norm\n",
    "\n",
    "A = np.array([22.3, 24.9, 25.7, 324.1, 922.6, 724.0, 122.9, 623.3, 25.1, 924.0,\n",
    "              320.9, 125.1, 23.8, 920.9, 125.7, 823.2, 320.9, 724.9, 224.6, 921.6, \n",
    "              923.2, 624.2, 923.2, 022.0, 222.7, 619.9, 322.7])\n",
    "\n",
    "B = np.array([23.8, 24.4, 22.9, 22.1, 24.4, 22.9, 24.1, 22.4, 22.0, 22.5, 22.7,\n",
    "              20.7, 24.1, 23.2, 23.4, 22.9, 24.1, 25.3, 24.5, 25.6, 24.6,\n",
    "              24.0, 24.9, 23.6, 23.5, 25.6, 23.6, 12.6, 12.4, 12.8, 24.2])\n",
    "\n",
    "n = A.size\n",
    "m = B.size\n",
    "alpha = 0.05\n",
    "\n",
    "# Si imposta un test per coppie di popolazioni\n",
    "# Test unilatero a sinistra\n",
    "# H0: mu1 = mu2\n",
    "# H1: mu1 < mu2\n",
    "\n",
    "mu1 = np.mean(A)\n",
    "mu2 = np.mean(B)\n",
    "sig1 = np.std(A, ddof=1)\n",
    "sig2 = np.std(B, ddof=1)\n",
    "sig2_1 = sig1**2\n",
    "sig2_2 = sig2**2\n",
    "\n",
    "Z0 = (mu1-mu2)/np.sqrt((sig2_1/n)+(sig2_2/m))\n",
    "print(f'Z0: {Z0:.3f}')\n",
    "PHI = norm.ppf(alpha)\n",
    "print(f'PHI: {PHI:.3f}')\n",
    "\n",
    "print(\"Rigetto l'ipotesi nulla\" if Z0 < PHI else \"Non ho abbastanza elementi per rigettare\")"
   ]
  }
 ],
 "metadata": {
  "kernelspec": {
   "display_name": "Python 3 (ipykernel)",
   "language": "python",
   "name": "python3"
  },
  "language_info": {
   "codemirror_mode": {
    "name": "ipython",
    "version": 3
   },
   "file_extension": ".py",
   "mimetype": "text/x-python",
   "name": "python",
   "nbconvert_exporter": "python",
   "pygments_lexer": "ipython3",
   "version": "3.10.12"
  },
  "widgets": {
   "application/vnd.jupyter.widget-state+json": {
    "state": {},
    "version_major": 2,
    "version_minor": 0
   }
  }
 },
 "nbformat": 4,
 "nbformat_minor": 5
}
