{
 "cells": [
  {
   "cell_type": "markdown",
   "id": "99271025-6a21-4dde-99bf-74521814b697",
   "metadata": {},
   "source": [
    "## Esercizio 1\n",
    "\n",
    "Su un’area di 1000 m^2 sono stati dispersi a caso 150 oggetti altamente\n",
    "radioattivi e quindi molto pericolosi anche per il tecnico impegnato nella loro\n",
    "ricerca (in ragione del suo tempo di esposizione). Supponendo che il numero\n",
    "di oggetti per unità di super cie è dato da 150/1000 m^2 e sapendo che il tecnico\n",
    "può ispezionare 100 m^2 per ora di lavoro, si formuli la probabilità che il\n",
    "tecnico in 8 ore trovi meno di 120 oggetti."
   ]
  },
  {
   "cell_type": "code",
   "execution_count": 25,
   "id": "3bd0aca5-3c3f-4b25-91de-0fc5489fe99c",
   "metadata": {},
   "outputs": [
    {
     "name": "stdout",
     "output_type": "stream",
     "text": [
      "Probabilità: 0.524\n",
      "Probabilità: 0.524\n"
     ]
    }
   ],
   "source": [
    "from scipy.stats import poisson, binom\n",
    "\n",
    "p = 150/1000\n",
    "n = 8*100\n",
    "k = 120\n",
    "lam = n*p\n",
    "\n",
    "p1 = poisson.cdf(k, lam)\n",
    "print(f'Probabilità: {p1:.3f}')\n",
    "\n",
    "# oppure\n",
    "\n",
    "p2 = binom.cdf(k, n, p)\n",
    "print(f'Probabilità: {p2:.3f}')"
   ]
  },
  {
   "cell_type": "markdown",
   "id": "ab521c59-07c4-41e2-bc61-fd4b526a9810",
   "metadata": {},
   "source": [
    "## Esercizio 2\n",
    "\n",
    "Dall’osservazione di un campione di soli 4 elementi sono state tratte le\n",
    "seguenti rispettive determinazioni:<br>\n",
    "642, 669, 829, 1217.<br>\n",
    "Fissato un livello di signi catività di 0.05, si può rigettare l’ipotesi che la\n",
    "popolazione da cui è stato estratto il campione abbia media pari a 900?"
   ]
  },
  {
   "cell_type": "code",
   "execution_count": 21,
   "id": "1ede6e38-007e-4111-bea3-287a71d8d2d6",
   "metadata": {},
   "outputs": [
    {
     "name": "stdout",
     "output_type": "stream",
     "text": [
      "Non ho abbastanza elementi per rigettare l'ipotesi nulla\n"
     ]
    }
   ],
   "source": [
    "import numpy as np\n",
    "from scipy.stats import t\n",
    "\n",
    "# Test bilatero\n",
    "# H0: mu = mu0\n",
    "# H1: mu <> mu0\n",
    "\n",
    "x = np.array([642, 669, 829, 1217])\n",
    "alpha = 0.05\n",
    "mu0 = 900\n",
    "n = x.size\n",
    "mu = np.mean(x)\n",
    "\n",
    "S = np.std(x, ddof=1)\n",
    "T = ((mu-mu0)/S)*np.sqrt(n)\n",
    "T1 = t.ppf(1-alpha/2, n-1)\n",
    "\n",
    "cond = np.abs(T)>T1\n",
    "print(\"Rigetto l'ipotesi nulla\" if cond else \"Non ho abbastanza elementi per rigettare l'ipotesi nulla\")"
   ]
  }
 ],
 "metadata": {
  "kernelspec": {
   "display_name": "Python 3 (ipykernel)",
   "language": "python",
   "name": "python3"
  },
  "language_info": {
   "codemirror_mode": {
    "name": "ipython",
    "version": 3
   },
   "file_extension": ".py",
   "mimetype": "text/x-python",
   "name": "python",
   "nbconvert_exporter": "python",
   "pygments_lexer": "ipython3",
   "version": "3.10.12"
  }
 },
 "nbformat": 4,
 "nbformat_minor": 5
}
