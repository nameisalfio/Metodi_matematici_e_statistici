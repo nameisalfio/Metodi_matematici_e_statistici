{
 "cells": [
  {
   "cell_type": "markdown",
   "id": "7a731522-a694-4420-8bdf-46fd44ff4fca",
   "metadata": {},
   "source": [
    "## Esercizio 1\n",
    "Si sa che, nel testare un determinato tipo di pneumatico per camion su un\n",
    "terreno accidentato, il 25% dei camion falliscono il test perché almeno un\n",
    "pneumatico si fora.\n",
    "Dati 15 camion sottoposti al test, calcolare la probabilità che il numero di\n",
    "camion che falliscono il test sia:\n",
    "1. compreso fra 3 e 6 (estremi inclusi);<br>\n",
    "2. minore di 4;<br>\n",
    "3. maggiore di 5."
   ]
  },
  {
   "cell_type": "code",
   "execution_count": 3,
   "id": "912f4bdc-71c4-4fd5-be4c-8b7dda589ffa",
   "metadata": {},
   "outputs": [
    {
     "name": "stdout",
     "output_type": "stream",
     "text": [
      "Punto 1: 0.707\n",
      "Punto 2: 0.461\n",
      "Punto 3: 0.148\n"
     ]
    }
   ],
   "source": [
    "from scipy.stats import binom\n",
    "\n",
    "n = 15\n",
    "p = 25/100\n",
    "\n",
    "P = binom.cdf(6, n, p)-binom.cdf(2, n, p)\n",
    "print(f'Punto 1: {P:.3f}')\n",
    "\n",
    "P = binom.cdf(3, n, p)\n",
    "print(f'Punto 2: {P:.3f}')\n",
    "binom.cdf(6, n, p)\n",
    "P = binom.sf(5, n, p)\n",
    "print(f'Punto 3: {P:.3f}')"
   ]
  },
  {
   "cell_type": "markdown",
   "id": "0a99ba93-16fa-42d1-9eb1-3073744aeeb4",
   "metadata": {},
   "source": [
    "## Esercizio 2\n",
    "L’esperienza passata indica che il tempo impiegato dagli studenti dell’ultimo\n",
    "anno di scuola superiore per completare con successo un test\n",
    "standardizzato è una variabile casuale normale con media 35 minuti.<br>\n",
    "Nell’ultimo anno si osserva, in un campione di 20 studenti, che la media per\n",
    "superare il test si abbassa a 33.1 minuti con una deviazione standard\n",
    "calcolata sul campione uguale a 4.3 minuti. \n",
    "\n",
    "- Si può a ermare con una significatività del 5% che vi sia un miglioramento nelle prestazioni degli studenti?"
   ]
  },
  {
   "cell_type": "code",
   "execution_count": 9,
   "id": "3a83e9a9-90ee-4943-8a2e-c9420640de2d",
   "metadata": {},
   "outputs": [
    {
     "name": "stdout",
     "output_type": "stream",
     "text": [
      "Rigetto l'ipotesi nulla\n"
     ]
    }
   ],
   "source": [
    "import numpy as np\n",
    "from scipy.stats import norm\n",
    "\n",
    "n = 20\n",
    "mu = 35\n",
    "mu0 = 33.1\n",
    "sig = 4.3\n",
    "alpha = 0.05\n",
    "\n",
    "# Si imposta un test t per dati accoppiati\n",
    "# Test unilatero a destra\n",
    "# H0: mu = mu0\n",
    "# H1: mu > mu0\n",
    "\n",
    "Z0 = (mu-mu0)/sig *np.sqrt(n)\n",
    "PHI = norm.ppf(1-alpha)\n",
    "\n",
    "print(\"Rigetto l'ipotesi nulla\" if Z0 > PHI else \"Non ho abbastanza elementi per rigettare\")"
   ]
  }
 ],
 "metadata": {
  "kernelspec": {
   "display_name": "Python 3 (ipykernel)",
   "language": "python",
   "name": "python3"
  },
  "language_info": {
   "codemirror_mode": {
    "name": "ipython",
    "version": 3
   },
   "file_extension": ".py",
   "mimetype": "text/x-python",
   "name": "python",
   "nbconvert_exporter": "python",
   "pygments_lexer": "ipython3",
   "version": "3.10.12"
  },
  "widgets": {
   "application/vnd.jupyter.widget-state+json": {
    "state": {},
    "version_major": 2,
    "version_minor": 0
   }
  }
 },
 "nbformat": 4,
 "nbformat_minor": 5
}
