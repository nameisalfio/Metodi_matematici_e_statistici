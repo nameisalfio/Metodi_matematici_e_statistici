{
 "cells": [
  {
   "cell_type": "markdown",
   "id": "19261d7e-203d-4dcd-a626-33d39d463fc9",
   "metadata": {},
   "source": [
    "# Esercizi sulle variabili aleatorie discrete"
   ]
  },
  {
   "cell_type": "markdown",
   "id": "7a5b3889-1582-4c91-9374-a53a4a746e07",
   "metadata": {},
   "source": [
    "Due centralini, tra di loro indipendenti, ricevono nell’unità di tempo un numero di telefonate X e Y\n",
    "aventi legge di Poisson di parametri rispettivamente λ e μ.\n",
    "- Qual è la probabilità che nell’unità di tempo i due centralini ricevano insieme non più di tre\n",
    "telefonate, supponendo λ = 2 e μ = 4?\n",
    "- Calcolare la legge condizionale di X dato X+Y=n. Si tratta di una densità nota? Quanto vale la\n",
    "media di questa legge condizionale?\n",
    "- Supponendo λ = 2 e μ = 4 e sapendo che nell’unità di tempo i due centralini hanno ricevuto\n",
    "complessivamente 8 telefonate, qual è la probabilità che il primo ne abbia ricevute 3?"
   ]
  },
  {
   "cell_type": "code",
   "execution_count": 1,
   "id": "8a5ba68c-6bd3-44c8-b5dd-f405ac4ba45c",
   "metadata": {},
   "outputs": [],
   "source": [
    "from scipy.stats import poisson"
   ]
  },
  {
   "cell_type": "code",
   "execution_count": 2,
   "id": "ebb5939f-1a10-43a8-8385-1e30800c274e",
   "metadata": {},
   "outputs": [
    {
     "data": {
      "text/plain": [
       "0.3715374095914353"
      ]
     },
     "execution_count": 2,
     "metadata": {},
     "output_type": "execute_result"
    }
   ],
   "source": [
    "lam = 2 # parametro di X\n",
    "mu = 4 # parametro di Y\n",
    "k = 3\n",
    "\n",
    "X = sum(poisson.pmf(k, lam) for k in range(0, k+1)) \n",
    "Y = sum(poisson.pmf(k, mu) for k in range(0, k+1)) \n",
    "\n",
    "p_es1 = X * Y\n",
    "\n",
    "p_es1"
   ]
  },
  {
   "cell_type": "markdown",
   "id": "c11a6693-9d90-4f1f-a3c9-8e2fb03400d6",
   "metadata": {},
   "source": [
    "#### Spiegazione\n",
    "La legge condizionale di X dato X + Y = n è una densità di probabilità condizionale. Può essere calcolata utilizzando la definizione di densità condizionale:\n",
    "\n",
    "        f X,X+Y = n​(x,n) / f X+Y = n​(n)\n",
    "dove \n",
    "\n",
    "- f X,X+Y = n​(x,n) -> la densità congiunta di X e X + Y\n",
    "- f X+Y = n​(n) -> la densità marginale di X + Y\n",
    "\n",
    "#### Densità congiunta\n",
    "Dobbiamo calcolare la densità congiunta di X e X + Y. Poiché X e Y sono indipendenti e seguono una legge di Poisson con parametri λ e μ rispettivamente, la densità congiunta sarà il prodotto delle loro densità di Poisson.\n",
    "\n",
    "#### Densità marginale\n",
    "Ora, dobbiamo calcolare la densità marginale di X + Y. La somma di due variabili di Poisson indipendenti è anche una variabile di Poisson con parametro uguale alla somma dei parametri delle variabili originali.\n",
    "\n",
    "#### Media\n",
    "La media di X dato X + Y = n sarà la somma ponderata di x * f_X|X+Y=n(x|n) su tutti i valori di x\n",
    "\n",
    "E[X|X+Y=n] = Σ(x * f_X|X+Y = n(x|n)) per tutti i valori di x."
   ]
  },
  {
   "cell_type": "code",
   "execution_count": 9,
   "id": "771191e6-411e-4789-912f-d2c85fcb5d41",
   "metadata": {},
   "outputs": [
    {
     "name": "stdout",
     "output_type": "stream",
     "text": [
      "Legge condizionale: [0.666666666666667, 0.3333333333333335]\n",
      "Media: 0.3333333333333335\n"
     ]
    }
   ],
   "source": [
    "# Densità condizionale di X dato X + Y = n\n",
    "def d_condizionale(n, x):\n",
    "    d_congiunta = poisson.pmf(x, lam) * poisson.pmf(n - x, mu)\n",
    "    d_marginale = poisson.pmf(n, lam + mu)\n",
    "    return d_congiunta / d_marginale\n",
    "\n",
    "# Media di X dato X + Y = n\n",
    "def valore_atteso(n):\n",
    "    return sum(x * d_condizionale(n, x) for x in range(n + 1))\n",
    "\n",
    "n = int(X+Y)\n",
    "densità = [d_condizionale(n, x) for x in range(n + 1)]\n",
    "media = valore_atteso(n)\n",
    "\n",
    "print(f'Legge condizionale: {densità}')\n",
    "print(f'Media: {media}')"
   ]
  },
  {
   "cell_type": "code",
   "execution_count": 10,
   "id": "d40dd74b-c12d-4785-9a31-76e2afd7b17c",
   "metadata": {},
   "outputs": [],
   "source": [
    "Bayes = lambda A,B : (A*B)/B\n",
    "\n"
   ]
  }
 ],
 "metadata": {
  "kernelspec": {
   "display_name": "Python 3 (ipykernel)",
   "language": "python",
   "name": "python3"
  },
  "language_info": {
   "codemirror_mode": {
    "name": "ipython",
    "version": 3
   },
   "file_extension": ".py",
   "mimetype": "text/x-python",
   "name": "python",
   "nbconvert_exporter": "python",
   "pygments_lexer": "ipython3",
   "version": "3.10.12"
  }
 },
 "nbformat": 4,
 "nbformat_minor": 5
}
