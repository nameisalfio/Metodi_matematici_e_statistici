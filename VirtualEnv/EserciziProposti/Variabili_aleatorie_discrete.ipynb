{
 "cells": [
  {
   "cell_type": "markdown",
   "id": "19261d7e-203d-4dcd-a626-33d39d463fc9",
   "metadata": {},
   "source": [
    "# Esercizi sulle variabili aleatorie discrete"
   ]
  },
  {
   "cell_type": "markdown",
   "id": "a42dead1-b93c-4de5-aaea-4d3820070fbd",
   "metadata": {},
   "source": [
    "### Librerie"
   ]
  },
  {
   "cell_type": "code",
   "execution_count": null,
   "id": "8a5ba68c-6bd3-44c8-b5dd-f405ac4ba45c",
   "metadata": {},
   "outputs": [],
   "source": [
    "from scipy.stats import poisson\n",
    "import matplotlib.pyplot as plt\n",
    "from scipy.stats import geom\n",
    "from scipy.stats import binom"
   ]
  },
  {
   "cell_type": "markdown",
   "id": "7a5b3889-1582-4c91-9374-a53a4a746e07",
   "metadata": {},
   "source": [
    "1. Due centralini, tra di loro indipendenti, ricevono nell’unità di tempo un numero di telefonate X e Y\n",
    "aventi legge di Poisson di parametri rispettivamente λ e μ.\n",
    "- Qual è la probabilità che nell’unità di tempo i due centralini ricevano insieme non più di tre\n",
    "telefonate, supponendo λ = 2 e μ = 4?\n",
    "- Calcolare la legge condizionale di X dato X+Y=n. Si tratta di una densità nota? Quanto vale la\n",
    "media di questa legge condizionale?\n",
    "- Supponendo λ = 2 e μ = 4 e sapendo che nell’unità di tempo i due centralini hanno ricevuto\n",
    "complessivamente 8 telefonate, qual è la probabilità che il primo ne abbia ricevute 3?"
   ]
  },
  {
   "cell_type": "code",
   "execution_count": 2,
   "id": "ebb5939f-1a10-43a8-8385-1e30800c274e",
   "metadata": {},
   "outputs": [
    {
     "data": {
      "text/plain": [
       "0.3715374095914353"
      ]
     },
     "execution_count": 2,
     "metadata": {},
     "output_type": "execute_result"
    }
   ],
   "source": [
    "lam = 2 # parametro di X\n",
    "mu = 4 # parametro di Y\n",
    "k = 3\n",
    "\n",
    "X = sum(poisson.pmf(k, lam) for k in range(0, k+1)) \n",
    "Y = sum(poisson.pmf(k, mu) for k in range(0, k+1)) \n",
    "\n",
    "p_es1 = X * Y\n",
    "\n",
    "p_es1"
   ]
  },
  {
   "cell_type": "markdown",
   "id": "25fa25b0-b2de-4125-b0d3-5f8aa580f874",
   "metadata": {},
   "source": [
    "#### Spiegazione\n",
    "La legge condizionale di X dato X + Y = n è una densità di probabilità condizionale. Può essere calcolata utilizzando la definizione di densità condizionale:\n",
    "\n",
    "        f X,X+Y = n​(x,n) / f X+Y = n​(n)\n",
    "dove \n",
    "\n",
    "- f X,X+Y = n​(x,n) -> la densità congiunta di X e X + Y\n",
    "- f X+Y = n​(n) -> la densità marginale di X + Y\n",
    "\n",
    "#### Densità congiunta\n",
    "Dobbiamo calcolare la densità congiunta di X e X + Y. Poiché X e Y sono indipendenti e seguono una legge di Poisson con parametri λ e μ rispettivamente, la densità congiunta sarà il prodotto delle loro densità di Poisson.\n",
    "\n",
    "#### Densità marginale\n",
    "Ora, dobbiamo calcolare la densità marginale di X + Y. La somma di due variabili di Poisson indipendenti è anche una variabile di Poisson con parametro uguale alla somma dei parametri delle variabili originali.\n",
    "\n",
    "#### Media\n",
    "La media di X dato X + Y = n sarà la somma ponderata di x * f_X|X+Y=n(x|n) su tutti i valori di x\n",
    "\n",
    "E[X|X+Y=n] = Σ(x * f_X|X+Y = n(x|n)) per tutti i valori di x."
   ]
  },
  {
   "cell_type": "code",
   "execution_count": 3,
   "id": "771191e6-411e-4789-912f-d2c85fcb5d41",
   "metadata": {},
   "outputs": [
    {
     "name": "stdout",
     "output_type": "stream",
     "text": [
      "Legge condizionale: [0.666666666666667, 0.3333333333333335]\n",
      "Media: 0.3333333333333335\n"
     ]
    }
   ],
   "source": [
    "# Densità condizionale di X dato X + Y = n\n",
    "def d_condizionale(n, x):\n",
    "    d_congiunta = poisson.pmf(x, lam) * poisson.pmf(n - x, mu)\n",
    "    d_marginale = poisson.pmf(n, lam + mu)\n",
    "    return d_congiunta / d_marginale\n",
    "\n",
    "# Media di X dato X + Y = n\n",
    "def valore_atteso(n):\n",
    "    return sum(x * d_condizionale(n, x) for x in range(n + 1))\n",
    "\n",
    "n = int(X+Y)\n",
    "densità = [d_condizionale(n, x) for x in range(n + 1)]\n",
    "media = valore_atteso(n)\n",
    "\n",
    "print(f'Legge condizionale: {densità}')\n",
    "print(f'Media: {media}')"
   ]
  },
  {
   "cell_type": "code",
   "execution_count": 4,
   "id": "d40dd74b-c12d-4785-9a31-76e2afd7b17c",
   "metadata": {},
   "outputs": [
    {
     "data": {
      "text/plain": [
       "0.18044704431548358"
      ]
     },
     "execution_count": 4,
     "metadata": {},
     "output_type": "execute_result"
    }
   ],
   "source": [
    "Bayes = lambda A,B : (A*B)/B\n",
    "\n",
    "k_tot = 8\n",
    "k1 = 3\n",
    "k2 = k_tot - 3\n",
    "lambda_mu = lam + mu\n",
    "\n",
    "p_es1 = Bayes(poisson.pmf(k1, lam), poisson.pmf(k_tot, lambda_mu))\n",
    "\n",
    "p_es1"
   ]
  },
  {
   "cell_type": "markdown",
   "id": "e19fc768-5678-4679-9ca4-a3777c36512c",
   "metadata": {},
   "source": [
    "2. Da una rilevazione risulta che il numero di incidenti stradali che avvengono ad un determinato\n",
    "incrocio in un mese segue una distribuzione di Poisson con valor medio 1.5.\n",
    "- Qual è la probabilità che in un mese non ci siano incidenti?\n",
    "- Qual è la probabilità che in un mese ci siano più di due incidenti?"
   ]
  },
  {
   "cell_type": "code",
   "execution_count": 5,
   "id": "fcddd872-1703-44ad-9908-9e80b5e183cd",
   "metadata": {},
   "outputs": [
    {
     "data": {
      "text/plain": [
       "0.22313016014842982"
      ]
     },
     "execution_count": 5,
     "metadata": {},
     "output_type": "execute_result"
    }
   ],
   "source": [
    "lam = 1.5\n",
    "k = 0\n",
    "p_es2 = poisson.pmf(k, lam)\n",
    "\n",
    "p_es2"
   ]
  },
  {
   "cell_type": "code",
   "execution_count": 6,
   "id": "14522121-4541-4a2d-8e19-faa0337af3a8",
   "metadata": {},
   "outputs": [
    {
     "data": {
      "text/plain": [
       "0.19115316946194194"
      ]
     },
     "execution_count": 6,
     "metadata": {},
     "output_type": "execute_result"
    }
   ],
   "source": [
    "p_es2 = 1-sum(poisson.pmf(k, lam) for k in range(2+1))\n",
    "\n",
    "p_es2 "
   ]
  },
  {
   "cell_type": "markdown",
   "id": "4b6cb429-39ae-49cc-96e3-70e1cf9ee7fa",
   "metadata": {},
   "source": [
    "3) La probabilità di contrarre una malattia rara è dello 0.03%.\n",
    "- Qual è la probabilità che in una città dove vivono 20.000 persone vi siano meno di 4 persone che contraggono la malattia?\n",
    "- Costruire il grafico della densità e della funzione di ripartizione della distribuzione in esame."
   ]
  },
  {
   "cell_type": "code",
   "execution_count": 7,
   "id": "6cddb26d-8f97-4615-a717-a29111640e21",
   "metadata": {},
   "outputs": [
    {
     "data": {
      "text/plain": [
       "1.4408034326399483e-251"
      ]
     },
     "execution_count": 7,
     "metadata": {},
     "output_type": "execute_result"
    }
   ],
   "source": [
    "p = 3/100\n",
    "n = 20000\n",
    "k = 4\n",
    "lam = n*p\n",
    "\n",
    "p_es3 = poisson.cdf(k, lam) # P(X <= 4)\n",
    "\n",
    "p_es3"
   ]
  },
  {
   "cell_type": "code",
   "execution_count": 8,
   "id": "5b9e5525-26ab-4c9e-9a9b-f72a2618018a",
   "metadata": {},
   "outputs": [
    {
     "data": {
      "image/png": "[encoded data removed]",
      "text/plain": [
       "<Figure size 1200x400 with 2 Axes>"
      ]
     },
     "metadata": {},
     "output_type": "display_data"
    }
   ],
   "source": [
    "x = range(0, n+1)\n",
    "y_pmf = poisson.pmf(x, lam)\n",
    "y_cdf = poisson.cdf(x, lam)\n",
    "\n",
    "plt.figure(figsize=(12, 4))\n",
    "\n",
    "# Grafico della densità\n",
    "plt.subplot(121)\n",
    "plt.plot(x, y_pmf)\n",
    "plt.title(\"Distribuzione malattia rara\")\n",
    "plt.xlabel(\"Persone\")\n",
    "plt.ylabel(\"Probabilità\")\n",
    "plt.grid()\n",
    "\n",
    "# Grafico della funzione di ripartizione\n",
    "plt.subplot(122)\n",
    "plt.plot(x, y_cdf)\n",
    "plt.title(\"Funzione di ripartizione malattia rara\")\n",
    "plt.xlabel(\"Persone\")\n",
    "plt.ylabel(\"Probabilità cumulativa\")\n",
    "plt.grid()\n",
    "\n",
    "plt.tight_layout()  # Ottimizza la disposizione dei subplot\n",
    "plt.show()"
   ]
  },
  {
   "cell_type": "markdown",
   "id": "c11ad8f6-2ad2-43ce-b5ea-e786e3593fc0",
   "metadata": {},
   "source": [
    "4) Si lancia un dado equilibrato finché non esca un numero dispari.\n",
    "- Qual è la probabilità che ciò avvenga al quarto tentativo?\n",
    "- Quanti tentativi sono necessari affinché si abbia una probabilità maggiore del 95% che esca un\n",
    "numero dispari esattamente al tentativo successivo?\n",
    "- Sapendo che nei primi 4 lanci non si è avuto un numero dispari, qual è la probabilità che si\n",
    "abbia un numero dispari per la prima volta al settimo tentativo?"
   ]
  },
  {
   "cell_type": "code",
   "execution_count": 9,
   "id": "eaacf70c-0448-49bc-9b2a-7a6dc14fa741",
   "metadata": {},
   "outputs": [
    {
     "data": {
      "text/plain": [
       "0.0625"
      ]
     },
     "execution_count": 9,
     "metadata": {},
     "output_type": "execute_result"
    }
   ],
   "source": [
    "p = 1/2\n",
    "t = 4 # tempo di primo successo\n",
    "\n",
    "p_es4 = geom.pmf(t, p)\n",
    "p_es4"
   ]
  },
  {
   "cell_type": "code",
   "execution_count": null,
   "id": "0bf843a4-8e9c-4cb6-a109-8c7422303725",
   "metadata": {},
   "outputs": [],
   "source": [
    "p_target = 95/100\n",
    "\n",
    "n = 1\n",
    "while True:\n",
    "    pn = geom.pmf(n, p) # probabilità di ottenere un successo dopo n tentativi\n",
    "    if pn >= p_target:\n",
    "        break\n",
    "    n += 1\n",
    "n"
   ]
  },
  {
   "cell_type": "code",
   "execution_count": 11,
   "id": "0f53f47f-00e4-42f2-9464-647ee8b952cb",
   "metadata": {},
   "outputs": [
    {
     "data": {
      "text/plain": [
       "0.125"
      ]
     },
     "execution_count": 11,
     "metadata": {},
     "output_type": "execute_result"
    }
   ],
   "source": [
    "# P(T = 7 | T > 4) -> P (T = 3)\n",
    "\n",
    "t = 3\n",
    "p_es4 = geom.pmf(t, p)\n",
    "p_es4"
   ]
  },
  {
   "cell_type": "markdown",
   "id": "b51d53b6-1e0d-4d85-b04e-caa89a6a473c",
   "metadata": {},
   "source": [
    "5) Si supponga che tre negozi della stessa tipologia attraggano rispettivamente il 20% della clientela, il\n",
    "45% e il 35%. \n",
    "- Scegliendo a caso 6 clienti, qual è la probabilità che 2 vadano nel primo negozio, 1 nel\n",
    "secondo e 3 nel terzo? \n",
    "- Qual è la probabilità che nessun cliente vada nel primo negozio?"
   ]
  },
  {
   "cell_type": "code",
   "execution_count": 12,
   "id": "fc9e22c8-c7a8-46ad-bbfe-dbea4287e06e",
   "metadata": {},
   "outputs": [
    {
     "data": {
      "text/plain": [
       "0.007864345930240796"
      ]
     },
     "execution_count": 12,
     "metadata": {},
     "output_type": "execute_result"
    }
   ],
   "source": [
    "p1, k1 = 20/100, 2\n",
    "p2, k2 = 45/100, 1\n",
    "p3, k3 = 35/100, 3\n",
    "n = 6\n",
    "\n",
    "pn1 = binom.pmf(k1, n, p1)\n",
    "pn2 = binom.pmf(k2, n, p2)\n",
    "pn3 = binom.pmf(k3, n, p3)\n",
    "\n",
    "p_es5 = pn1 * pn2 * pn3\n",
    "p_es5"
   ]
  },
  {
   "cell_type": "code",
   "execution_count": 13,
   "id": "ceedf0e5-8797-4b91-97e4-104884f77d1e",
   "metadata": {},
   "outputs": [
    {
     "data": {
      "text/plain": [
       "0.2621440000000001"
      ]
     },
     "execution_count": 13,
     "metadata": {},
     "output_type": "execute_result"
    }
   ],
   "source": [
    "k = 0\n",
    "p_es5 = binom.pmf(k, n, p1)\n",
    "\n",
    "p_es5"
   ]
  }
 ],
 "metadata": {
  "kernelspec": {
   "display_name": "Python 3 (ipykernel)",
   "language": "python",
   "name": "python3"
  },
  "language_info": {
   "codemirror_mode": {
    "name": "ipython",
    "version": 3
   },
   "file_extension": ".py",
   "mimetype": "text/x-python",
   "name": "python",
   "nbconvert_exporter": "python",
   "pygments_lexer": "ipython3",
   "version": "3.10.12"
  }
 },
 "nbformat": 4,
 "nbformat_minor": 5
}
