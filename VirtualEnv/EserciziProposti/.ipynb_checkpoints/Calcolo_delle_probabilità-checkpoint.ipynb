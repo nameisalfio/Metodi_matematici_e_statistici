{
 "cells": [
  {
   "cell_type": "markdown",
   "id": "76e0ba27-4750-4592-9e60-b674804e39d8",
   "metadata": {},
   "source": [
    "# Esercizi proposti di calcolo delle probabilità"
   ]
  },
  {
   "cell_type": "markdown",
   "id": "679a1746-eece-441b-832d-9045b36d8df6",
   "metadata": {},
   "source": [
    "### Esercizio 1\n",
    "Da un’urna contenente 4 palline bianche e 3 nere si eseguono due estrazioni con rimpiazzo (cioè lapallina estratta viene subito rimessa nell’urna).\n",
    "- Calcolare la probabilità che le due palline estratte siano del medesimo colore.\n",
    "- Calcolare la probabilità che almeno una delle due palline estratte sia nera."
   ]
  },
  {
   "cell_type": "code",
   "execution_count": 1,
   "id": "6d4fdf87-79dc-4a5f-87bc-adb74f486b82",
   "metadata": {},
   "outputs": [
    {
     "data": {
      "text/plain": [
       "0.510204081632653"
      ]
     },
     "execution_count": 1,
     "metadata": {},
     "output_type": "execute_result"
    }
   ],
   "source": [
    "prob_b = 4/7\n",
    "prob_n = 3/7\n",
    "\n",
    "doppio_bianco = prob_b * prob_b\n",
    "doppio_nero = prob_n  * prob_n \n",
    "p_doppio = doppio_bianco + doppio_nero\n",
    "\n",
    "p_doppio"
   ]
  },
  {
   "cell_type": "code",
   "execution_count": 2,
   "id": "9a51cabf-939d-4252-9d12-ea5b409d9cb8",
   "metadata": {},
   "outputs": [
    {
     "data": {
      "text/plain": [
       "0.4897959183673471"
      ]
     },
     "execution_count": 2,
     "metadata": {},
     "output_type": "execute_result"
    }
   ],
   "source": [
    "from scipy.stats import binom\n",
    "\n",
    "n = 2\n",
    "p = prob_n \n",
    "k = 1\n",
    "\n",
    "p_nero = binom.pmf(k, n, p)\n",
    "\n",
    "p_nero"
   ]
  },
  {
   "cell_type": "markdown",
   "id": "dba846c3-9386-4bb9-b587-68f210f38ed6",
   "metadata": {},
   "source": [
    "### Esercizio 2\n",
    "I componenti prodotto da una certa ditta possono presentare due tipo di difetti, con percentuali\n",
    "del 3% e del 7% rispettivamente. I due tipo di difettosità si possono produrre in momenti diversi\n",
    "della produzione per cui si può assumere che le presenze dell’uno o dell’altro siano indipendenti tra\n",
    "loro.\n",
    "- Qual è la probabilità che un componente presenti entrambi i difetti?\n",
    "- Qual è la probabilità che un componente sia difettoso (cioè che presenti almeno uno dei due\n",
    "difetti)?\n",
    "- Qual è la probabilità che il componente presenti il difetto 1, sapendo che esso è difettoso?\n",
    "- Qual è la probabilità che esso presenti uno solo dei due difetti sapendo che esso è difettoso?"
   ]
  },
  {
   "cell_type": "code",
   "execution_count": 3,
   "id": "d9c66e92-2b0d-4783-a8e4-8ddb3b04c29d",
   "metadata": {},
   "outputs": [
    {
     "data": {
      "text/plain": [
       "0.0021000000000000003"
      ]
     },
     "execution_count": 3,
     "metadata": {},
     "output_type": "execute_result"
    }
   ],
   "source": [
    "dif_1 = 3/100\n",
    "dif_2 = 7/100\n",
    "\n",
    "p_entrambi = dif_1 * dif_2\n",
    "\n",
    "p_entrambi"
   ]
  },
  {
   "cell_type": "code",
   "execution_count": 4,
   "id": "165d26be-4deb-4eec-b981-d6ee729c91d5",
   "metadata": {},
   "outputs": [
    {
     "data": {
      "text/plain": [
       "0.1"
      ]
     },
     "execution_count": 4,
     "metadata": {},
     "output_type": "execute_result"
    }
   ],
   "source": [
    "p_dif = dif_1 + dif_2\n",
    "\n",
    "p_dif"
   ]
  },
  {
   "cell_type": "code",
   "execution_count": 5,
   "id": "e1bf3e75-bfc2-44f8-9335-8489cb5d2799",
   "metadata": {},
   "outputs": [
    {
     "data": {
      "text/plain": [
       "0.03"
      ]
     },
     "execution_count": 5,
     "metadata": {},
     "output_type": "execute_result"
    }
   ],
   "source": [
    "Bayes = lambda A, B : (A * B) / B \n",
    "\n",
    "p1_cond = Bayes(dif_1, p_dif)\n",
    "\n",
    "p1_cond"
   ]
  },
  {
   "cell_type": "code",
   "execution_count": 6,
   "id": "12b59494-fe9e-4c4f-acd3-82ce2267c465",
   "metadata": {},
   "outputs": [
    {
     "data": {
      "text/plain": [
       "0.1"
      ]
     },
     "execution_count": 6,
     "metadata": {},
     "output_type": "execute_result"
    }
   ],
   "source": [
    "p_dif1 = Bayes(dif_1, p_dif)\n",
    "p_dif2 = Bayes(dif_2, p_dif)\n",
    "\n",
    "p_unico_difetto = p_dif1 + p_dif2\n",
    "\n",
    "p_unico_difetto"
   ]
  },
  {
   "cell_type": "markdown",
   "id": "13cdbab4-734e-48ae-a7b6-63657788c182",
   "metadata": {},
   "source": [
    "### Esercizio3\n",
    "Un dado viene lanciato 3 volte.\n",
    "- Qual è la probabilità di ottenere 6 almeno una volta?\n",
    "- Quante volte deve essere lanciato il dado perché, la probabilità di ottenere 6 almeno una volta, sia maggiore o uguale al 90%?"
   ]
  },
  {
   "cell_type": "code",
   "execution_count": 7,
   "id": "6d9a44bb-787d-4d7b-9835-97f9616e1611",
   "metadata": {},
   "outputs": [
    {
     "data": {
      "text/plain": [
       "0.42129629629629617"
      ]
     },
     "execution_count": 7,
     "metadata": {},
     "output_type": "execute_result"
    }
   ],
   "source": [
    "n = 3\n",
    "p = 1/6\n",
    "k = 0\n",
    "\n",
    "p6 = 1 - binom.pmf(k, n, p)   # P( X >= 1) = 1 - P(X = 0)\n",
    "\n",
    "p6"
   ]
  },
  {
   "cell_type": "code",
   "execution_count": 8,
   "id": "094a3615-7b3f-401a-98a1-45fda7e19253",
   "metadata": {
    "scrolled": true
   },
   "outputs": [
    {
     "data": {
      "text/plain": [
       "14"
      ]
     },
     "execution_count": 8,
     "metadata": {},
     "output_type": "execute_result"
    }
   ],
   "source": [
    "n = 1\n",
    "k = 0\n",
    "pn = 0\n",
    "p_target = 90/100\n",
    "\n",
    "# probabilità di ottenere esattamente 0 successi in n lanci con una probabilità di successo p \n",
    "while pn < p_target:\n",
    "    pn = 1 - binom.pmf(0, n, p) # esattamente 0 successi\n",
    "    n += 1\n",
    "    \n",
    "n"
   ]
  },
  {
   "cell_type": "markdown",
   "id": "404f02f1-1332-45a5-8259-8c01ae2d28ae",
   "metadata": {},
   "source": [
    "### Esercizio 4\n",
    "Un giocatore di poker riceve all’inizio del gioco cinque carte da un normale mazzo di 52.\n",
    "- Qual è la probabilità che riceva almeno 2 assi?\n",
    "- Qual è la probabilità che riceva cinque carte dello stesso seme?\n",
    "- Qual è la probabilità che riceva un poker servito?"
   ]
  },
  {
   "cell_type": "code",
   "execution_count": 9,
   "id": "9946ac4c-8b99-4238-ac86-d36025fc5b0b",
   "metadata": {},
   "outputs": [
    {
     "data": {
      "text/plain": [
       "0.041684366054113964"
      ]
     },
     "execution_count": 9,
     "metadata": {},
     "output_type": "execute_result"
    }
   ],
   "source": [
    "from scipy.stats import hypergeom\n",
    "\n",
    "n = 5\n",
    "b = 4\n",
    "r = 48\n",
    "\n",
    "p_assi = 1 - (hypergeom.pmf(0, b+r, b, n) + hypergeom.pmf(1, b+r, b, n))\n",
    "\n",
    "p_assi"
   ]
  },
  {
   "cell_type": "code",
   "execution_count": 10,
   "id": "78d90f42-3d65-4b69-ab96-9b77010ad850",
   "metadata": {},
   "outputs": [
    {
     "data": {
      "text/plain": [
       "0.0004951980792316927"
      ]
     },
     "execution_count": 10,
     "metadata": {},
     "output_type": "execute_result"
    }
   ],
   "source": [
    "b = 13\n",
    "r = 39\n",
    "k = 5\n",
    "\n",
    "p_seme = 4 * hypergeom.pmf(k, b+r, b, n)\n",
    "\n",
    "p_seme"
   ]
  },
  {
   "cell_type": "code",
   "execution_count": 11,
   "id": "7703703b-029a-4578-938a-71d187abcd53",
   "metadata": {},
   "outputs": [
    {
     "data": {
      "text/plain": [
       "1.846892603195124e-05"
      ]
     },
     "execution_count": 11,
     "metadata": {},
     "output_type": "execute_result"
    }
   ],
   "source": [
    "n = 5\n",
    "b = 4\n",
    "r = 48\n",
    "k = 4\n",
    "\n",
    "p_asso_servito = hypergeom.pmf(k, b+r, b, n)\n",
    "\n",
    "p_asso_servito"
   ]
  },
  {
   "cell_type": "markdown",
   "id": "464f67ea-7fa3-4d85-b67c-eed3d13fcc1c",
   "metadata": {},
   "source": [
    "### Esercizio 5"
   ]
  },
  {
   "cell_type": "markdown",
   "id": "f77925c4-1538-4043-8bef-9a24ba49c2f2",
   "metadata": {},
   "source": [
    "Si stima che il 30% degli adulti negli Stati Uniti siano obesi, che il 3% siano diabetici e che il 2% siano\n",
    "sia obesi che diabetici. Determina la probabilità che un individuo scelto casualmente\n",
    "- sia diabetico se è obeso;\n",
    "- sia obeso se è diabetico."
   ]
  },
  {
   "cell_type": "code",
   "execution_count": 12,
   "id": "317d68b0-cf71-4e68-88a9-f3a12bd309a8",
   "metadata": {},
   "outputs": [
    {
     "data": {
      "text/plain": [
       "0.03"
      ]
     },
     "execution_count": 12,
     "metadata": {},
     "output_type": "execute_result"
    }
   ],
   "source": [
    "po = 30/100\n",
    "pd = 3/100\n",
    "p_entrambi = 2/100\n",
    "\n",
    "p_diabetico_cond = Bayes(pd, po)\n",
    "\n",
    "p_diabetico_cond"
   ]
  },
  {
   "cell_type": "code",
   "execution_count": 13,
   "id": "89c215ac-333f-4d9f-808b-af2197095664",
   "metadata": {},
   "outputs": [
    {
     "data": {
      "text/plain": [
       "0.3"
      ]
     },
     "execution_count": 13,
     "metadata": {},
     "output_type": "execute_result"
    }
   ],
   "source": [
    "p_obeso_cond = Bayes(po, pd)\n",
    "\n",
    "p_obeso_cond"
   ]
  },
  {
   "cell_type": "markdown",
   "id": "b2416943-a859-4576-b47d-f4e63ff1101c",
   "metadata": {},
   "source": [
    "### Esercizio 6\n",
    "Su un tavolo ci sono 2 monete. Quando vengono lanciate, una moneta dà testa con probabilità 0.5\n",
    "mentre l’altra dà testa con probabilità 0.6. Una moneta viene scelta a caso e lanciata.\n",
    "- Qual è la probabilità che esca testa?\n",
    "- Se esce croce, qual è la probabilità che fosse la moneta equilibrata?"
   ]
  },
  {
   "cell_type": "code",
   "execution_count": 14,
   "id": "b108efd7-6e13-47e1-b3bb-994091c4bd2b",
   "metadata": {},
   "outputs": [
    {
     "data": {
      "text/plain": [
       "0.55"
      ]
     },
     "execution_count": 14,
     "metadata": {},
     "output_type": "execute_result"
    }
   ],
   "source": [
    "t1 = 0.5\n",
    "t2 = 0.6\n",
    "t = 1/2\n",
    "\n",
    "pt = Bayes(t, t1) * t1 + Bayes(t, t2) * t2 # TEOREMA DELLE PROB. TOTALI\n",
    "\n",
    "pt"
   ]
  },
  {
   "cell_type": "code",
   "execution_count": 15,
   "id": "89289461-8871-4184-8903-ba3bcff5ff17",
   "metadata": {},
   "outputs": [
    {
     "data": {
      "text/plain": [
       "0.5"
      ]
     },
     "execution_count": 15,
     "metadata": {},
     "output_type": "execute_result"
    }
   ],
   "source": [
    "c1 = 1 - t1\n",
    "c2 = 1 - t2\n",
    "c = 1/2\n",
    "\n",
    "pc = Bayes(c, c)\n",
    "\n",
    "pc"
   ]
  }
 ],
 "metadata": {
  "kernelspec": {
   "display_name": "Python 3 (ipykernel)",
   "language": "python",
   "name": "python3"
  },
  "language_info": {
   "codemirror_mode": {
    "name": "ipython",
    "version": 3
   },
   "file_extension": ".py",
   "mimetype": "text/x-python",
   "name": "python",
   "nbconvert_exporter": "python",
   "pygments_lexer": "ipython3",
   "version": "3.10.12"
  }
 },
 "nbformat": 4,
 "nbformat_minor": 5
}
