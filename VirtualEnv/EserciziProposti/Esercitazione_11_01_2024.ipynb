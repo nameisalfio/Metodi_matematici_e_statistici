{
 "cells": [
  {
   "cell_type": "markdown",
   "id": "d54a0aae-388a-4113-ab8d-a949607886d5",
   "metadata": {},
   "source": [
    "### Esercizio 1\n",
    "\n",
    "Un'urna contiene n palline tutte rosse. Un'urna B contiene n palline di cui r rosse (1 $\\le$ r < n) e le rimanenti n-r nere. Si sceglie a caso una delle due urne e da essa si effettua una successione di estrazioni con rimpiazzo.\n",
    "\n",
    "a) Qual'è la probabilità che la prima pallina estratta sia rossa?<br>\n",
    "b) Qual'è la probabilità che le prime due palline estratte abbiano colori diversi?<br>\n",
    "c) Quante estrazioni sono necessarie in media per vedere comparire per la prima volta una pallina rossa?<br>\n",
    "d) Sapendo che le prime k palline estratte sono rosse, qual'è la probabilità che l'urna dalla quale esse sono state estratte sia l'urna A? Supponiamo n=12, r=4; <br> Quanto grande dovrà essere k perchè si possa concludere che l'urna da cui le palline sono state estratte sia l'urna A con una probabilità del 99%?"
   ]
  },
  {
   "cell_type": "markdown",
   "id": "5e0f59c7-0213-40ed-a7fc-8aee992121d7",
   "metadata": {},
   "source": [
    "a) Consideriamo i seguenti: \n",
    "\n",
    "r = numero di palline rosse nell'urna B<br>\n",
    "n = numero di palline totali nell'urna B<br>\n",
    "P(RA) = 1 probabilità di estrarre una pallina rossa dall'urna A<br>\n",
    "P(A) = $ \\frac{1}{2}$ probabilità di scegliere l'urna A<br>\n",
    "P(RB) = r/n probabilità di estrarre una pallina rossa dall'urna B<br>\n",
    "P(B) = $ \\frac{1}{2}$ probabilità di scegliere l'urna B<br>\n",
    "$P(R) = P(RA) \\cdot P(A) + P(RB) \\cdot P(B)$<br>"
   ]
  },
  {
   "cell_type": "markdown",
   "id": "b52e2eca-e24b-4fa5-ab62-7d346e9f2977",
   "metadata": {},
   "source": [
    "b) Siano:\n",
    "\n",
    "n = 2 numero di tentativi<br>\n",
    "k = 1 numero di successi<br>\n",
    "P(RB)= n!/(k! \\cdot (n-k)!) \\cdot P(R) \\cdot (1-P(R))"
   ]
  },
  {
   "cell_type": "markdown",
   "id": "944dbe48-b916-448f-877f-50867eeec289",
   "metadata": {},
   "source": [
    "c) Siano:\n",
    "\n",
    "Il tempo di primo successo segue una distribuzione geometrica di parametro p = P(R)<br>\n",
    "Il numero di estrazioni in media per veder comparire per la prima volta una pallina rossa è:<br>\n",
    "Per l'urna A, NA = (1-P(RA))/P(RA)+1<br>\n",
    "Per l'urna B, NB = (1-P(RB))/P(RB)+1<br>\n",
    "Per ottenere il numero di estrazioni medio totale occorre fare una media tra NA e NB:<br>\n",
    "Numero di estrazioni necessarie in media per veder comparire per la prima volta una pallina rossa = $\\frac {(NA + NB)}{2}$"
   ]
  },
  {
   "cell_type": "markdown",
   "id": "1256b22c-c3c9-43a7-a18d-571983d967b1",
   "metadata": {},
   "source": [
    "d) Consideriamo i seguenti eventi:\n",
    "\n",
    "- A: estrarre una pallina da A\n",
    "- B: estrarre una pallina da B\n",
    "- EK: estrazione di K palline rosse\n",
    "\n",
    "Per il **teorema delle probabilità totali** si ha che<br>\n",
    "$P(EK) = P(EK_A) \\cdot P(A) + P(EK_B) \\cdot P(B) = 1 \\cdot \\frac{1}{2} + D_{\\frac{r}{n}, k} \\cdot \\frac{1}{2}$ <br>\n",
    "poiché si hanno Disposizioni con ripetizione.\n",
    "\n",
    "$P(A|EK) = \\frac{P(EK|A) \\cdot P(A)}{P(EK)} = \\frac{1 \\cdot \\frac{1}{2}}{1 + D_{\\frac{r}{n}, k}}$"
   ]
  },
  {
   "cell_type": "code",
   "execution_count": 1,
   "id": "58dde80c-6c4f-4c41-8943-f9604e507e3a",
   "metadata": {},
   "outputs": [
    {
     "name": "stdout",
     "output_type": "stream",
     "text": [
      "Valore di k: 5\n"
     ]
    }
   ],
   "source": [
    "n = 12\n",
    "r = 4\n",
    "p_target = 0.99\n",
    "k = 1 #almeno un'estrazione\n",
    "\n",
    "pa = pb = 1/2\n",
    "num = 1 * pa\n",
    "\n",
    "while ((1*pa)/(1*pa + pow(r/n,k)*pb)) <= p_target:\n",
    "    k += 1\n",
    "    \n",
    "print(f'Valore di k: {k}')"
   ]
  },
  {
   "cell_type": "markdown",
   "id": "5106d3c1-c6ee-4ed7-be35-1ef5cb542c69",
   "metadata": {},
   "source": [
    "### Esercizio 2"
   ]
  },
  {
   "cell_type": "markdown",
   "id": "dea62634-9eb7-4497-a4d4-dff7aacd9943",
   "metadata": {},
   "source": [
    "Nella tabella che segue si riporta il peso (in mg) del principio attivo misurato in un campione di 10 compresse estratto da un lotto di produzione di un nota marca farmaceutica.\n",
    "\n",
    "[4.65, 4.7, 4.75, 4.77, 4.8, 4.95, 5, 4.75, 4.54, 4.66]\n",
    "\n",
    "Supponendo che questo campione sia estratto da un lotto avente popolazione distribuita secondo una normale di parametri incogniti si svolgano i seguenti quesiti.\n",
    "\n",
    "a) Si calcoli la media campionaria, la deviazione standard e l'intervallo di confidenza con livello di fiducia 0.01.<br>\n",
    "b) Si rappresentino i dati mediante box-plot e si commenti il grafico.<br>\n",
    "c) Se il principio attivo presente nella compressa deve essere pari a 4.7mg, possiamo dire con un livello di fiducia 0.05 che il lotto di produzione rientra in questa specifica."
   ]
  },
  {
   "cell_type": "code",
   "execution_count": 2,
   "id": "1427f30d-148f-4671-9708-2542b1170c62",
   "metadata": {},
   "outputs": [
    {
     "name": "stdout",
     "output_type": "stream",
     "text": [
      "Media campionaria: 4.757\n",
      "Deviazione standard campionaria: 0.137\n",
      "Intervalli di confidenza per la media: ]4.616, 4.898[\n"
     ]
    }
   ],
   "source": [
    "import numpy as np\n",
    "from scipy.stats import t\n",
    "\n",
    "x = np.array([4.65, 4.7, 4.75, 4.77, 4.8, 4.95, 5, 4.75, 4.54, 4.66])\n",
    "n = x.size\n",
    "\n",
    "mu = np.mean(x)\n",
    "print(f'Media campionaria: {mu:.3f}')\n",
    "\n",
    "s = np.std(x, ddof=1)\n",
    "print(f'Deviazione standard campionaria: {s:.3f}')\n",
    "\n",
    "alpha = 0.01\n",
    "T = t.ppf(1-alpha/2, n-1)\n",
    "\n",
    "A = mu-(s/np.sqrt(n)*T)\n",
    "B = mu+(s/np.sqrt(n)*T)\n",
    "print(f'Intervalli di confidenza per la media: ]{A:.3f}, {B:.3f}[')"
   ]
  },
  {
   "cell_type": "code",
   "execution_count": 3,
   "id": "c796c9e0-0a5f-4e47-ae6b-e6869519752f",
   "metadata": {},
   "outputs": [
    {
     "data": {
      "image/png": "[encoded data removed]",
      "text/plain": [
       "<Figure size 640x480 with 1 Axes>"
      ]
     },
     "metadata": {},
     "output_type": "display_data"
    }
   ],
   "source": [
    "import matplotlib.pyplot as plt\n",
    "\n",
    "plt.boxplot(x)\n",
    "plt.show()"
   ]
  },
  {
   "cell_type": "code",
   "execution_count": 4,
   "id": "3544c28f-e3a7-426a-948c-33cece797590",
   "metadata": {},
   "outputs": [
    {
     "name": "stdout",
     "output_type": "stream",
     "text": [
      "Non ho abbastanza elementi per rigettare\n"
     ]
    }
   ],
   "source": [
    "# Imposto un test bilatero sulla media a varianza ignota\n",
    "# H0: mu = mu0\n",
    "# H1: mu <> mu0\n",
    "\n",
    "mu0 = 4.7\n",
    "alpha = 0.05\n",
    "T0 = (mu-mu0)/s*np.sqrt(n)\n",
    "\n",
    "cond = np.abs(T0) > T\n",
    "print(\"Rigetto l'ipotesi nulla in favore dell'alternativa\" if cond else \"Non ho abbastanza elementi per rigettare\")"
   ]
  },
  {
   "cell_type": "markdown",
   "id": "83b184e8-eb08-470e-a7b2-a8ceec7427ae",
   "metadata": {},
   "source": [
    "### Esercizio 3\n",
    "\n",
    "La seguente tabella raccoglie i dati relativi alle temperature medie invernali registrate negli ultimi 10 anni in una città italiana.\n",
    "\n",
    "- Anno: 2010, 2011, 2012, 2013, 2014, 2015, 2016, 2017<br>\n",
    "- Temperatura: 10, 11, 10.5, 12, 10, 12, 11, 13<br>\n",
    "\n",
    "Si svolgano i seguenti quesiti.\n",
    "\n",
    "a) Si determinano i coefficienti della retta di regressione e i loro intervalli di confidenza al 95%.<br>\n",
    "b) Si rappresentino i dati e la retta di regressione in uno stesso grafico.<br>\n",
    "c) Si determini il coefficiente di Pearson.<br>\n",
    "d) Si determini il valore della temperatura previsto per l'anno 2022 e il suo intervallo di confidenza al 95%.<br>"
   ]
  },
  {
   "cell_type": "code",
   "execution_count": 5,
   "id": "439fa9ae-31d8-4bd4-b7e5-6a7475739c5c",
   "metadata": {},
   "outputs": [
    {
     "name": "stdout",
     "output_type": "stream",
     "text": [
      "Intervalli di confidenza per b0 (-552.113): ]-1145.289, 41.063[\n",
      "Intervalli di confidenza per b1 (0.280): ]-0.015, 0.574[\n"
     ]
    }
   ],
   "source": [
    "x = np.array([2010, 2011, 2012, 2013, 2014, 2015, 2016, 2017])\n",
    "y = np.array([10, 11, 10.5, 12, 10, 12, 11, 13])\n",
    "\n",
    "n = x.size\n",
    "k = 2\n",
    "alpha = 0.05\n",
    "\n",
    "x1 = np.ones(n)\n",
    "x2 = x\n",
    "X = np.ones((n, k))\n",
    "X[:,0] = x1\n",
    "X[:,1] = x2\n",
    "\n",
    "XX = np.linalg.pinv(X)\n",
    "b = XX@y\n",
    "y_hat = X@b\n",
    "r = y-y_hat\n",
    "s = np.sum(r**2)/(n-k)\n",
    "T = t.ppf(1-alpha/2, n-k)\n",
    "\n",
    "M = np.linalg.inv(X.T @ X)\n",
    "\n",
    "A = b[0] - s*np.sqrt(M[0][0])*T\n",
    "B = b[0] + s*np.sqrt(M[0][0])*T\n",
    "print(f'Intervalli di confidenza per b0 ({b[0]:.3f}): ]{A:.3f}, {B:.3f}[')\n",
    "\n",
    "A = b[1] - s*np.sqrt(M[1][1])*T\n",
    "B = b[1] + s*np.sqrt(M[1][1])*T\n",
    "print(f'Intervalli di confidenza per b1 ({b[1]:.3f}): ]{A:.3f}, {B:.3f}[')"
   ]
  },
  {
   "cell_type": "code",
   "execution_count": 6,
   "id": "73f3c758-5e51-45bc-86b5-a72b3341a982",
   "metadata": {},
   "outputs": [
    {
     "data": {
      "text/plain": [
       "[]"
      ]
     },
     "execution_count": 6,
     "metadata": {},
     "output_type": "execute_result"
    },
    {
     "data": {
      "image/png": "[encoded data removed]",
      "text/plain": [
       "<Figure size 640x480 with 1 Axes>"
      ]
     },
     "metadata": {},
     "output_type": "display_data"
    }
   ],
   "source": [
    "Y = b[0] + b[1]*x\n",
    "plt.plot(x, y, 'o')\n",
    "plt.plot(x, Y)\n",
    "plt.plot()"
   ]
  },
  {
   "cell_type": "code",
   "execution_count": 7,
   "id": "db604280-d629-4c52-a19d-60c91da7c715",
   "metadata": {},
   "outputs": [
    {
     "name": "stdout",
     "output_type": "stream",
     "text": [
      "Coefficiente di Pearson: 0.642\n"
     ]
    }
   ],
   "source": [
    "y_bar = np.mean(y)\n",
    "R2 = np.sum((y_hat-y_bar)**2)/np.sum((y-y_bar)**2)\n",
    "R = np.sqrt(R2)\n",
    "print(f'Coefficiente di Pearson: {R:.3f}')"
   ]
  },
  {
   "cell_type": "code",
   "execution_count": 8,
   "id": "e12830f4-cd21-4b34-8d92-b094d3524c7e",
   "metadata": {},
   "outputs": [
    {
     "name": "stdout",
     "output_type": "stream",
     "text": [
      "Predizione di temperature medie invernali per il 2022: 13.565\n",
      "Intervallo di confidenza per la predizione: (13.565): ]9.438, 17.693[\n"
     ]
    }
   ],
   "source": [
    "x_star = 2022\n",
    "Y = b[0] + b[1]*x_star\n",
    "print(f'Predizione di temperature medie invernali per il {x_star}: {Y:.3f}')\n",
    "\n",
    "alpha = 0.05\n",
    "x_bar = np.mean(x)\n",
    "sig2_x = np.sum((x-x_bar)**2)/n\n",
    "\n",
    "A = b[0]+b[1]*x_star-np.sqrt(1 + 1/n + ((x_star-x_bar)**2)/(n*sig2_x))*T\n",
    "B = b[0]+b[1]*x_star+np.sqrt(1 + 1/n + ((x_star-x_bar)**2)/(n*sig2_x))*T\n",
    "print(f'Intervallo di confidenza per la predizione: ({Y:.3f}): ]{A:.3f}, {B:.3f}[')"
   ]
  }
 ],
 "metadata": {
  "kernelspec": {
   "display_name": "Python 3 (ipykernel)",
   "language": "python",
   "name": "python3"
  },
  "language_info": {
   "codemirror_mode": {
    "name": "ipython",
    "version": 3
   },
   "file_extension": ".py",
   "mimetype": "text/x-python",
   "name": "python",
   "nbconvert_exporter": "python",
   "pygments_lexer": "ipython3",
   "version": "3.10.12"
  }
 },
 "nbformat": 4,
 "nbformat_minor": 5
}
