{
 "cells": [
  {
   "cell_type": "markdown",
   "id": "6b3fa03f-c62d-43cc-a1a8-916756d02064",
   "metadata": {},
   "source": [
    "# Test di ipotesi a varianza nota"
   ]
  },
  {
   "cell_type": "markdown",
   "id": "24f3e6c5-50e2-411c-83d8-c0b08e84b584",
   "metadata": {},
   "source": [
    "Le specifiche tecniche per la velocità di combustione di un propellente richiedono che deve essere di 50 cm/s. Sappiamo che la deviazione standard è di 2 cm/s. Si effettuano 24 misurazioni\n",
    "51, 50.2, 49.5, 48.7, 50.2, 50.5, 49.6, 51.1, 50.6, 49.1, 53.1, 50.4, 49.3, 48.9, 50.3, 51.8, 51.3, 48.5, 49.3, 55.1, 53.1, 52.5, 55.1, 50.6\n",
    "- Si può rigettare l’ipotesi nulla con un livello di significatività del 5%?\n",
    "- E se invece si richiedesse l’1%?\n",
    "- Calcolare infine il p-value.\n",
    "\n",
    "Supponiamo che lo sperimentatore voglia impostare il test in modo che la reale velocità di combustione media differisca da 50 cm/s per al più 1 cm/s.<br> Si vuole inoltre che il test affermerà questo fatto (cioè rigetterà H0 : μ = 50) con una probabilità del 90% e un livello di significatività del 5%.\n",
    "- Determinare la dimensione campionaria."
   ]
  },
  {
   "cell_type": "code",
   "execution_count": 1,
   "id": "1f3d59d6-ea18-4ce1-96a3-32ecd4ec5d64",
   "metadata": {},
   "outputs": [],
   "source": [
    "import numpy as np\n",
    "from scipy.stats import norm, t, chi2, binom"
   ]
  },
  {
   "cell_type": "code",
   "execution_count": 2,
   "id": "6aab8386-2b81-4aa1-9da3-493d2b35dda7",
   "metadata": {},
   "outputs": [
    {
     "name": "stdout",
     "output_type": "stream",
     "text": [
      "Media campionaria: 50.824999999999996\n",
      "Z0: 2.020829037796111\n",
      "Phi: 1.959963984540054\n",
      "Rigetto l'ipotesi nulla\n"
     ]
    }
   ],
   "source": [
    "# Test bilatero\n",
    "# H0 -> mu = mu_0\n",
    "# H1 -> mu != mu_0\n",
    "\n",
    "x = np.array([51, 50.2, 49.5, 48.7, 50.2, 50.5, 49.6, 51.1, 50.6, 49.1, 53.1, 50.4, \n",
    "              49.3, 48.9, 50.3, 51.8, 51.3, 48.5,49.3, 55.1, 53.1, 52.5, 55.1, 50.6])\n",
    "sig = 2\n",
    "mu_0 = 50\n",
    "alpha = 0.05\n",
    "\n",
    "n = x.size\n",
    "mu = np.mean(x)\n",
    "print(f'Media campionaria: {mu}')\n",
    "\n",
    "# PAG 12\n",
    "Z0 = (mu-mu_0)/sig * np.sqrt(n)\n",
    "print(f'Z0: {Z0}')\n",
    "\n",
    "# Test con livello di significativià al 5%\n",
    "PHI = norm.ppf(1-alpha/2)\n",
    "print(f'Phi: {PHI}')\n",
    "\n",
    "cond = np.abs(Z0) > PHI\n",
    "print(\"Rigetto l'ipotesi nulla\" if cond else \"Non ho elementi sufficienti per rigettare l'ipotesi nulla\")\n",
    "\n",
    "# poichè|Z0| > phi si rigetta l'ipotesi nulla\n",
    "# quindi si afferma che il propellente non rispetta le specifiche con una significatività del 5%"
   ]
  },
  {
   "cell_type": "code",
   "execution_count": 3,
   "id": "67de8738-7774-49f1-b689-692e3eb78620",
   "metadata": {},
   "outputs": [
    {
     "name": "stdout",
     "output_type": "stream",
     "text": [
      "Z0: 2.020829037796111\n",
      "Phi: 2.5758293035489004\n",
      "Non ho elementi sufficienti per rigettare l'ipotesi nulla\n"
     ]
    }
   ],
   "source": [
    "# Test con livello di significativià al 1%\n",
    "print(f'Z0: {Z0}')\n",
    "\n",
    "alpha = 0.01\n",
    "PHI = norm.ppf(1-alpha/2)\n",
    "print(f'Phi: {PHI}')\n",
    "\n",
    "cond = np.abs(Z0) > PHI\n",
    "print(\"Rigetto l'ipotesi nulla\" if cond else \"Non ho elementi sufficienti per rigettare l'ipotesi nulla\")\n",
    "\n",
    "# poichè |Z0| < PHI non abbiamo sufficienti elementi per rigettare l'ipotesi nulla"
   ]
  },
  {
   "cell_type": "code",
   "execution_count": 4,
   "id": "39be85a2-db62-43c0-a08e-59b1116e1ead",
   "metadata": {},
   "outputs": [
    {
     "name": "stdout",
     "output_type": "stream",
     "text": [
      "P-value: 0.04\n",
      "\n"
     ]
    }
   ],
   "source": [
    "# p-value : il più piccolo valore di alpha per il quale è possibile rigettare l'ipotesi\n",
    "\n",
    "# Pag 14\n",
    "p = 2 * (1 - norm.cdf(np.abs(Z0)))\n",
    "print(f'P-value: {round(p, 2)}\\n')"
   ]
  },
  {
   "cell_type": "code",
   "execution_count": 5,
   "id": "1d6eaa91-b563-4fa8-9000-308a3f9b9180",
   "metadata": {},
   "outputs": [
    {
     "name": "stdout",
     "output_type": "stream",
     "text": [
      "Phi: 1.959963984540054\n",
      "Vale -4.409453727323232 <= -3, quindi la distribuzione approssima una normale\n",
      "Dimensione del campione: 42\n"
     ]
    }
   ],
   "source": [
    "# Calcoliamo la dimensione campionaria tramite errore di secondo tipo\n",
    "\n",
    "alpha = 0.05\n",
    "beta = 1 - 90/100 # probabilità di non rifiutare H0 quando è falsa\n",
    "delta = 1 # quanto ci stacchiamo dalla media vera\n",
    "\n",
    "PHI_alpha = norm.ppf(1-alpha/2)\n",
    "print(f'Phi: {PHI_alpha}')\n",
    "\n",
    "# Pag 16\n",
    "check = -PHI_alpha-delta*np.sqrt(n)/sig # se <= -3 approssima una normale\n",
    "print(f'Vale {check} <= -3, quindi la distribuzione approssima una normale') \n",
    "\n",
    "PHI_beta = norm.ppf(1-beta)\n",
    "dim_camp = (PHI_alpha+PHI_beta)**2 * (sig**2/delta**2)\n",
    "print(f\"Dimensione del campione: {int(dim_camp)}\")"
   ]
  },
  {
   "cell_type": "markdown",
   "id": "cca94d28-e0b4-42e7-92fa-2400aba8b9a4",
   "metadata": {},
   "source": [
    "# Test sulla media con varianza ignota"
   ]
  },
  {
   "cell_type": "markdown",
   "id": "10cac8e1-aeb2-471f-bef9-45ce976d44fd",
   "metadata": {},
   "source": [
    "Si vuole testare ad un livello di significatività α = 0.05 se il carico di rottura di un materiale supera 10 MPa, tenendo presente che 22 prove hanno fornito i seguenti risultati\n",
    "19.8 18.5 17.6 16.7 15.8 15.4 14.1 13.6 11.9 11.4 11.4 8.8 7.5 15.4 15.4 19.5 14.9 12.7 11.9 11.4 10.1 7.9\n",
    "- Calcolare inoltre il p-value."
   ]
  },
  {
   "cell_type": "code",
   "execution_count": 6,
   "id": "22ad5a3f-9543-499a-a87f-04c81eb09b73",
   "metadata": {},
   "outputs": [
    {
     "name": "stdout",
     "output_type": "stream",
     "text": [
      "Media campionaria: 13.713636363636363\n",
      "Deviazione standard campionaria: 3.5535757249424744\n",
      "T0: 4.901682101212391\n",
      "t: 1.7207429028118775\n",
      "Rigetto l'ipotesi nulla\n",
      "P-value: 3.781272593450513e-05\n"
     ]
    }
   ],
   "source": [
    "# Test unilatero a destra\n",
    "# Ipotesi nulla         H_0 : mu = mu_0\n",
    "# Ipotesi alternativa   H_1 : mu > mu_0\n",
    "\n",
    "x = np.array([19.8, 18.5, 17.6, 16.7, 15.8, 15.4, 14.1, 13.6, 11.9, 11.4, 11.4,\n",
    "              8.8, 7.5, 15.4, 15.4, 19.5, 14.9, 12.7, 11.9, 11.4, 10.1, 7.9,])\n",
    "\n",
    "alpha = 0.05\n",
    "mu_0 = 10\n",
    "\n",
    "n = x.size\n",
    "mu = np.mean(x)\n",
    "print(f'Media campionaria: {mu}')\n",
    "S = np.std(x, ddof=1)\n",
    "print(f'Deviazione standard campionaria: {S}')\n",
    "\n",
    "# Pag 19\n",
    "T0 = (mu-mu_0)/S * np.sqrt(n)\n",
    "print(f'T0: {T0}')\n",
    "\n",
    "# Test unilatero a destra\n",
    "T = t.ppf(1-alpha, n-1)\n",
    "print(f't: {T}')\n",
    "\n",
    "cond = T0 > T\n",
    "print(\"Rigetto l'ipotesi nulla\" if cond else \"Non ho elementi sufficienti per rigettare l'ipotesi nulla\")\n",
    "    \n",
    "# T0 è maggiore di t pertanto si rigetta l'ipotesi nulla in favore dell'ipotesi alternativa\n",
    "# affermando che il carico di rottura supera significativamente il valore di 10\n",
    "\n",
    "Ft = t.cdf(T0, n-1)\n",
    "p = 1-Ft\n",
    "print(f'P-value: {p}')"
   ]
  },
  {
   "cell_type": "markdown",
   "id": "0b4f49b5-285f-4488-9006-5d7da2aec257",
   "metadata": {},
   "source": [
    "# Test sulla varianza\n",
    "\n",
    "Un macchinario riempie automaticamente delle bottiglie. Da un campione di 20 misurazioni si ottengono i seguenti valori (in litri)\n",
    "2.05, 2.04, 1.98, 1.96, 2.03, 2.01, 1.97, 1.99, 2.01, 2.05 1.96, 1.95, 2.04, 2.01, 1.97, 1.96, 2.02, 2.04, 1.98, 1.94\n",
    "Se la deviazione standard fosse superiore a 0.05 litri, la proporzione di bottiglie sotto o sovrariempite sarebbe non accettabile.\n",
    "\n",
    "- I dati del campione contengono prove che suggeriscono che il produttore abbia un problema con le bottiglie riempite troppo o troppo poco?<br>Utilizzare α = 0.05 e assumere che il volume di riempimento abbia una distribuzione normale."
   ]
  },
  {
   "cell_type": "code",
   "execution_count": 7,
   "id": "fa796914-bda9-4b7b-bbf2-53060cf59166",
   "metadata": {},
   "outputs": [
    {
     "name": "stdout",
     "output_type": "stream",
     "text": [
      "Deviazione standard campionaria: 0.03621572790057408\n",
      "W0: 9.967999999999988\n",
      "CHI: 10.117013063859044\n",
      "Rigetto l'ipotesi nulla\n"
     ]
    }
   ],
   "source": [
    "# Test unilatero a sinistra\n",
    "# HP0: sig^2 = sig0^2\n",
    "# HP1: sig^2 < sig0^2 perchè voglio testare che sia accettabile (se fosse superiore non sarebbe accettabile)\n",
    "\n",
    "x = np.array([2.05, 2.04, 1.98, 1.96, 2.03, 2.01, 1.97, 1.99, 2.01, 2.05, 1.96, 1.95, 2.04, 2.01, 1.97, 1.96, 2.02, 2.04, 1.98, 1.94])\n",
    "n = x.size\n",
    "sig0 = 0.05\n",
    "alpha = 0.05\n",
    "\n",
    "S = np.std(x, ddof=1)\n",
    "print(f'Deviazione standard campionaria: {S}')\n",
    "\n",
    "# Pag 24\n",
    "W0 = S**2 / sig0**2 * (n-1)\n",
    "print(f'W0: {W0}')\n",
    "\n",
    "CHI = chi2.ppf(alpha, n-1)\n",
    "print(f'CHI: {CHI}')\n",
    "\n",
    "cond = W0 < CHI \n",
    "print(\"Rigetto l'ipotesi nulla\" if cond else \"Non ho elementi sufficienti per rigettare l'ipotesi nulla\")\n",
    "# Dato che W0 < CHI posso rigettare l'ipotesti nulla a favore dell'ipotesti alternativa, quindi la produzione sta andando bene"
   ]
  },
  {
   "cell_type": "markdown",
   "id": "4fd01d84-3ebd-44ba-8b40-f1f0b308422a",
   "metadata": {},
   "source": [
    "# Test sulla proporzione\n",
    "In una catena di produzione si vuole mantenere il numero di pezzi difettosi al di sotto del 5%. Si analizza un campione di 200 pezzi e si trovano 4 pezzi difettosi.\n",
    "- Si può asserire ad un livello di significativita α = 0.05 che la produzione rispetta le aspettative?\n",
    "- Supponendo che il valore vero sia p∗ = 0.03 e supponendo che il costruttore voglia accettare un valore dell’errore di secondo tipo β = 0.1, quale ampiezza dovrebbe avere il campione?"
   ]
  },
  {
   "cell_type": "code",
   "execution_count": 8,
   "id": "61f3b4f9-130a-4087-90fb-b310086bb58e",
   "metadata": {},
   "outputs": [
    {
     "name": "stdout",
     "output_type": "stream",
     "text": [
      "Media campionaria: 0.02\n",
      "Z0: -1.946657053569151\n",
      "PHI: -1.6448536269514729\n",
      "Rigetto l'ipotesi nulla\n"
     ]
    }
   ],
   "source": [
    "# Test unilatero a sinistra\n",
    "# HP0 = p = p0\n",
    "# HP1 = p < p0\n",
    "\n",
    "p0 = 5/100\n",
    "n = 200\n",
    "k = 4   # numero di successi --> numero di pezzi difettosi\n",
    "alpha = 0.05\n",
    "\n",
    "# Pag 26\n",
    "p = k/n  # media campionaria\n",
    "print(f'Media campionaria: {p}')\n",
    "\n",
    "Z0 = (p-p0) / (np.sqrt( p0*(1-p0) )) * np.sqrt(n)\n",
    "print(f'Z0: {Z0}')\n",
    "\n",
    "PHI_alpha = norm.ppf(alpha)\n",
    "print(f'PHI: {PHI_alpha}')\n",
    "\n",
    "cond = Z0 < PHI_alpha\n",
    "print(\"Rigetto l'ipotesi nulla\" if cond else \"Non ho abbastanza elementi per rigettare l'ipotesi nulla\")\n",
    "# dato che Z0 < PHI si rigetta l'ipotesi nulla e si avalla l'ipotesi alternativa quindi le aspettative di produzione sono rispettate"
   ]
  },
  {
   "cell_type": "code",
   "execution_count": 9,
   "id": "32616a1d-5733-4a0f-b68a-4224cd3c91d5",
   "metadata": {},
   "outputs": [
    {
     "name": "stdout",
     "output_type": "stream",
     "text": [
      "PHI_beta: -1.2815515655446004\n",
      "Dimensione campionaria: 329\n"
     ]
    }
   ],
   "source": [
    "p_star = 0.03\n",
    "beta = 0.1\n",
    "\n",
    "PHI_beta = norm.ppf(beta)\n",
    "print(f'PHI_beta: {PHI_beta}')\n",
    "\n",
    "dim_campionaria = ((PHI_beta * np.sqrt(p_star*(1-p_star))) + (PHI_alpha * np.sqrt(p0*(1-p0))) / (p0-p_star) )**2\n",
    "print(f'Dimensione campionaria: {int(dim_campionaria)}')"
   ]
  },
  {
   "cell_type": "markdown",
   "id": "7b68a7bf-0b7b-4b92-b76e-1537fbd4463f",
   "metadata": {},
   "source": [
    "# Test sulla media per coppie di popolazioni\n",
    "\n",
    "Si vogliono confrontare due tipi di preparati per pittura. Ci si aspetta un diverso tempo di essiccamento. Si può supporre che la deviazione standard del tempo di essiccamento per ciascun tipo di essiccamento sia 8 minuti. 10 pareti vengono tinteggiate con il trattamento 1 e altrettamente pareti con il trattamento 2. <br>Si rilevano le medie campionare X_ = 121 minuti e Y_ = 112 minuti. \n",
    "- Si può trarre la clusione che il tempo di essiccamento del campione 1 sia maggiore di quello del campione 2 assumendo α = 0.05?\n",
    "- Calcolare l’intervallo di confidenza per la differenza dei tempi medi di essiccamento."
   ]
  },
  {
   "cell_type": "code",
   "execution_count": 18,
   "id": "5b744fca-94b5-41ee-8549-b645c7dc9725",
   "metadata": {},
   "outputs": [
    {
     "name": "stdout",
     "output_type": "stream",
     "text": [
      "Z0: 2.5155764746872635\n",
      "PHI: 1.6448536269514722\n",
      "\n",
      "Rigetto l'ipotesi nulla\n",
      "Si può trarre la clusione che il tempo di essiccamento del campione 1 sia maggiore di quello del campione 2 assumendo α = 0.05\n",
      "\n",
      "P-value: 0.00594189462107364\n",
      "\n",
      "Intervallo di confidenza: ]-inf, 3.12[\n",
      "Vale a dire che il tempo di essiccamento del primo preparato per pittura è di almeno 3.12 minuti\n",
      "maggiore di quello del secondo preparato per pittura con una significatività del 95%.\n"
     ]
    }
   ],
   "source": [
    "# Test unilatero a destra\n",
    "# H0: mu1 = mu2 \n",
    "# H1: mu1 > mu2 \n",
    "\n",
    "sig1 = sig2 = 8   # Deviazione standard comune per entrambi i trattamenti\n",
    "n = m = 10     \n",
    "\n",
    "mu1 = 121  \n",
    "mu2 = 112 \n",
    "\n",
    "alpha = 0.05 \n",
    "\n",
    "# Pag 31\n",
    "sig2_1 = sig2_2 = sig1**2\n",
    "Z0 = (mu1-mu2)/np.sqrt((sig2_1/n) + (sig2_2/m))\n",
    "print(f'Z0: {Z0}')\n",
    "\n",
    "PHI = norm.ppf(1-alpha)\n",
    "print(f'PHI: {PHI}')\n",
    "\n",
    "cond = Z0 > PHI\n",
    "msg = \"Si può trarre la clusione che il tempo di essiccamento del campione 1 sia maggiore di quello del campione 2 assumendo α = 0.05\\n\"\n",
    "print(f\"\\nRigetto l'ipotesi nulla\\n{msg}\" if cond else \"\\nNon ho abbastanza elementi per rigettare l'ipotesi nulla\\n\")\n",
    "\n",
    "# Se si vuole calolare il p-value\n",
    "p_value = 1 - norm.cdf(Z0)\n",
    "print(f'P-value: {p_value}')\n",
    "\n",
    "# Calcolo dell'intervallo di confidenza per la differenza delle medie\n",
    "A = \"-inf\"\n",
    "B = mu1-mu2-PHI*np.sqrt((sig2_1/n) + (sig2_2/m))\n",
    "\n",
    "msg = f'''Vale a dire che il tempo di essiccamento del primo preparato per pittura è di almeno {round(B, 2)} minuti\n",
    "maggiore di quello del secondo preparato per pittura con una significatività del 95%.'''\n",
    "print(f'\\nIntervallo di confidenza: ]{A}, {round(B,2)}[\\n{msg}')"
   ]
  },
  {
   "cell_type": "code",
   "execution_count": null,
   "id": "717f661c-8961-4adb-a4a1-6ac0e5943f13",
   "metadata": {},
   "outputs": [],
   "source": []
  }
 ],
 "metadata": {
  "kernelspec": {
   "display_name": "Python 3 (ipykernel)",
   "language": "python",
   "name": "python3"
  },
  "language_info": {
   "codemirror_mode": {
    "name": "ipython",
    "version": 3
   },
   "file_extension": ".py",
   "mimetype": "text/x-python",
   "name": "python",
   "nbconvert_exporter": "python",
   "pygments_lexer": "ipython3",
   "version": "3.10.12"
  }
 },
 "nbformat": 4,
 "nbformat_minor": 5
}
