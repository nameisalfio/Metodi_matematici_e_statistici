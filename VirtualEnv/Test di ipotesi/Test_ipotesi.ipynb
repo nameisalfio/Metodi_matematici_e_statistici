{
 "cells": [
  {
   "cell_type": "markdown",
   "id": "6b3fa03f-c62d-43cc-a1a8-916756d02064",
   "metadata": {},
   "source": [
    "# 1. Test di ipotesi a varianza nota"
   ]
  },
  {
   "cell_type": "markdown",
   "id": "24f3e6c5-50e2-411c-83d8-c0b08e84b584",
   "metadata": {},
   "source": [
    "Le specifiche tecniche per la velocità di combustione di un propellente richiedono che deve essere di 50 cm/s. Sappiamo che la deviazione standard è di 2 cm/s. Si effettuano 24 misurazioni\n",
    "51, 50.2, 49.5, 48.7, 50.2, 50.5, 49.6, 51.1, 50.6, 49.1, 53.1, 50.4, 49.3, 48.9, 50.3, 51.8, 51.3, 48.5, 49.3, 55.1, 53.1, 52.5, 55.1, 50.6\n",
    "- Si può rigettare l’ipotesi nulla con un livello di significatività del 5%?\n",
    "- E se invece si richiedesse l’1%?\n",
    "- Calcolare infine il p-value.\n",
    "\n",
    "Supponiamo che lo sperimentatore voglia impostare il test in modo che la reale velocità di combustione media differisca da 50 cm/s per al più 1 cm/s.<br> Si vuole inoltre che il test affermerà questo fatto (cioè rigetterà H0 : μ = 50) con una probabilità del 90% e un livello di significatività del 5%.\n",
    "- Determinare la dimensione campionaria."
   ]
  },
  {
   "cell_type": "code",
   "execution_count": 1,
   "id": "1f3d59d6-ea18-4ce1-96a3-32ecd4ec5d64",
   "metadata": {},
   "outputs": [],
   "source": [
    "import numpy as np\n",
    "from scipy.stats import norm, t, chi2, binom, poisson, rankdata"
   ]
  },
  {
   "cell_type": "code",
   "execution_count": 2,
   "id": "6aab8386-2b81-4aa1-9da3-493d2b35dda7",
   "metadata": {},
   "outputs": [
    {
     "name": "stdout",
     "output_type": "stream",
     "text": [
      "Media campionaria: 50.825\n",
      "Z0: 2.021\n",
      "Phi: 1.960\n",
      "Rigetto l'ipotesi nulla\n"
     ]
    }
   ],
   "source": [
    "# Test bilatero\n",
    "# H0 -> mu = mu_0\n",
    "# H1 -> mu != mu_0\n",
    "\n",
    "x = np.array([51, 50.2, 49.5, 48.7, 50.2, 50.5, 49.6, 51.1, 50.6, 49.1, 53.1, 50.4, \n",
    "              49.3, 48.9, 50.3, 51.8, 51.3, 48.5,49.3, 55.1, 53.1, 52.5, 55.1, 50.6])\n",
    "sig = 2\n",
    "mu_0 = 50\n",
    "alpha = 0.05\n",
    "\n",
    "n = x.size\n",
    "mu = np.mean(x)\n",
    "print(f'Media campionaria: {mu:.3f}')\n",
    "\n",
    "# PAG 12\n",
    "Z0 = (mu-mu_0)/sig * np.sqrt(n)\n",
    "print(f'Z0: {Z0:.3f}')\n",
    "\n",
    "# Test con livello di significativià al 5%\n",
    "PHI = norm.ppf(1-alpha/2)\n",
    "print(f'Phi: {PHI:.3f}')\n",
    "\n",
    "cond = np.abs(Z0) > PHI\n",
    "print(\"Rigetto l'ipotesi nulla\" if cond else \"Non ho elementi sufficienti per rigettare l'ipotesi nulla\")\n",
    "\n",
    "# poichè|Z0| > phi si rigetta l'ipotesi nulla\n",
    "# quindi si afferma che il propellente non rispetta le specifiche con una significatività del 5%"
   ]
  },
  {
   "cell_type": "code",
   "execution_count": 3,
   "id": "67de8738-7774-49f1-b689-692e3eb78620",
   "metadata": {},
   "outputs": [
    {
     "name": "stdout",
     "output_type": "stream",
     "text": [
      "Z0: 2.021\n",
      "Phi: 2.576\n",
      "Non ho elementi sufficienti per rigettare l'ipotesi nulla\n"
     ]
    }
   ],
   "source": [
    "# Test con livello di significativià al 1%\n",
    "print(f'Z0: {Z0:.3f}')\n",
    "\n",
    "alpha = 0.01\n",
    "PHI = norm.ppf(1-alpha/2)\n",
    "print(f'Phi: {PHI:.3f}')\n",
    "\n",
    "cond = np.abs(Z0) > PHI\n",
    "print(\"Rigetto l'ipotesi nulla\" if cond else \"Non ho elementi sufficienti per rigettare l'ipotesi nulla\")\n",
    "\n",
    "# poichè |Z0| < PHI non abbiamo sufficienti elementi per rigettare l'ipotesi nulla"
   ]
  },
  {
   "cell_type": "code",
   "execution_count": 4,
   "id": "39be85a2-db62-43c0-a08e-59b1116e1ead",
   "metadata": {},
   "outputs": [
    {
     "name": "stdout",
     "output_type": "stream",
     "text": [
      "P-value: 0.043\n",
      "\n"
     ]
    }
   ],
   "source": [
    "# p-value : il più piccolo valore di alpha per il quale è possibile rigettare l'ipotesi\n",
    "\n",
    "# Pag 14\n",
    "p = 2 * (1 - norm.cdf(np.abs(Z0)))\n",
    "print(f'P-value: {p:.3f}\\n')"
   ]
  },
  {
   "cell_type": "code",
   "execution_count": 5,
   "id": "1d6eaa91-b563-4fa8-9000-308a3f9b9180",
   "metadata": {},
   "outputs": [
    {
     "name": "stdout",
     "output_type": "stream",
     "text": [
      "Phi: 1.960\n",
      "Vale -4.409 <= -3, quindi la distribuzione approssima una normale\n",
      "Dimensione del campione: 42\n"
     ]
    }
   ],
   "source": [
    "# Calcoliamo la dimensione campionaria tramite errore di secondo tipo\n",
    "\n",
    "alpha = 0.05\n",
    "beta = 1 - 90/100 # probabilità di non rifiutare H0 quando è falsa\n",
    "delta = 1 # quanto ci stacchiamo dalla media vera\n",
    "\n",
    "PHI_alpha = norm.ppf(1-alpha/2)\n",
    "print(f'Phi: {PHI_alpha:.3f}')\n",
    "\n",
    "# Pag 16\n",
    "check = -PHI_alpha-delta*np.sqrt(n)/sig # se <= -3 approssima una normale\n",
    "print(f'Vale {check:.3f} <= -3, quindi la distribuzione approssima una normale') \n",
    "\n",
    "PHI_beta = norm.ppf(1-beta)\n",
    "dim_camp = (PHI_alpha+PHI_beta)**2 * (sig**2/delta**2)\n",
    "print(f\"Dimensione del campione: {int(dim_camp)}\")"
   ]
  },
  {
   "cell_type": "markdown",
   "id": "cca94d28-e0b4-42e7-92fa-2400aba8b9a4",
   "metadata": {},
   "source": [
    "# 2. Test sulla media con varianza ignota"
   ]
  },
  {
   "cell_type": "markdown",
   "id": "10cac8e1-aeb2-471f-bef9-45ce976d44fd",
   "metadata": {},
   "source": [
    "Si vuole testare ad un livello di significatività α = 0.05 se il carico di rottura di un materiale supera 10 MPa, tenendo presente che 22 prove hanno fornito i seguenti risultati\n",
    "19.8 18.5 17.6 16.7 15.8 15.4 14.1 13.6 11.9 11.4 11.4 8.8 7.5 15.4 15.4 19.5 14.9 12.7 11.9 11.4 10.1 7.9\n",
    "- Calcolare inoltre il p-value."
   ]
  },
  {
   "cell_type": "code",
   "execution_count": 6,
   "id": "22ad5a3f-9543-499a-a87f-04c81eb09b73",
   "metadata": {},
   "outputs": [
    {
     "name": "stdout",
     "output_type": "stream",
     "text": [
      "Media campionaria: 13.714\n",
      "Deviazione standard campionaria: 3.554\n",
      "T0: 4.902\n",
      "t: 1.721\n",
      "Rigetto l'ipotesi nulla\n",
      "P-value: 3.781272593450513e-05\n"
     ]
    }
   ],
   "source": [
    "# Test unilatero a destra\n",
    "# Ipotesi nulla         H_0 : mu = mu_0\n",
    "# Ipotesi alternativa   H_1 : mu > mu_0\n",
    "\n",
    "x = np.array([19.8, 18.5, 17.6, 16.7, 15.8, 15.4, 14.1, 13.6, 11.9, 11.4, 11.4,\n",
    "              8.8, 7.5, 15.4, 15.4, 19.5, 14.9, 12.7, 11.9, 11.4, 10.1, 7.9,])\n",
    "\n",
    "alpha = 0.05\n",
    "mu_0 = 10\n",
    "\n",
    "n = x.size\n",
    "mu = np.mean(x)\n",
    "print(f'Media campionaria: {mu:.3f}')\n",
    "S = np.std(x, ddof=1)\n",
    "print(f'Deviazione standard campionaria: {S:.3f}')\n",
    "\n",
    "# Pag 19\n",
    "T0 = (mu-mu_0)/S * np.sqrt(n)\n",
    "print(f'T0: {T0:.3f}')\n",
    "\n",
    "# Test unilatero a destra\n",
    "T = t.ppf(1-alpha, n-1)\n",
    "print(f't: {T:.3f}')\n",
    "\n",
    "cond = T0 > T\n",
    "print(\"Rigetto l'ipotesi nulla\" if cond else \"Non ho elementi sufficienti per rigettare l'ipotesi nulla\")\n",
    "    \n",
    "# T0 è maggiore di t pertanto si rigetta l'ipotesi nulla in favore dell'ipotesi alternativa\n",
    "# affermando che il carico di rottura supera significativamente il valore di 10\n",
    "\n",
    "Ft = t.cdf(T0, n-1)\n",
    "p = 1-Ft\n",
    "print(f'P-value: {p}')"
   ]
  },
  {
   "cell_type": "markdown",
   "id": "0b4f49b5-285f-4488-9006-5d7da2aec257",
   "metadata": {},
   "source": [
    "# 3. Test sulla varianza\n",
    "\n",
    "Un macchinario riempie automaticamente delle bottiglie. Da un campione di 20 misurazioni si ottengono i seguenti valori (in litri)\n",
    "2.05, 2.04, 1.98, 1.96, 2.03, 2.01, 1.97, 1.99, 2.01, 2.05 1.96, 1.95, 2.04, 2.01, 1.97, 1.96, 2.02, 2.04, 1.98, 1.94\n",
    "Se la deviazione standard fosse superiore a 0.05 litri, la proporzione di bottiglie sotto o sovrariempite sarebbe non accettabile.\n",
    "\n",
    "- I dati del campione contengono prove che suggeriscono che il produttore abbia un problema con le bottiglie riempite troppo o troppo poco?<br>Utilizzare α = 0.05 e assumere che il volume di riempimento abbia una distribuzione normale."
   ]
  },
  {
   "cell_type": "code",
   "execution_count": 7,
   "id": "fa796914-bda9-4b7b-bbf2-53060cf59166",
   "metadata": {},
   "outputs": [
    {
     "name": "stdout",
     "output_type": "stream",
     "text": [
      "Deviazione standard campionaria: 0.036\n",
      "Varianza campionaria: 0.001\n",
      "W0: 9.968\n",
      "CHI: 10.117\n",
      "Rigetto l'ipotesi nulla\n"
     ]
    }
   ],
   "source": [
    "# Test unilatero a sinistra\n",
    "# HP0: sig^2 = sig0^2\n",
    "# HP1: sig^2 < sig0^2 perchè voglio testare che sia accettabile (se fosse superiore non sarebbe accettabile)\n",
    "\n",
    "x = np.array([2.05, 2.04, 1.98, 1.96, 2.03, 2.01, 1.97, 1.99, 2.01, 2.05, 1.96, 1.95, 2.04, 2.01, 1.97, 1.96, 2.02, 2.04, 1.98, 1.94])\n",
    "n = x.size\n",
    "sig0 = 0.05\n",
    "alpha = 0.05\n",
    "\n",
    "S = np.std(x, ddof=1)\n",
    "S2 = S**2\n",
    "\n",
    "print(f'Deviazione standard campionaria: {S:.3f}')\n",
    "print(f'Varianza campionaria: {S2:.3f}')\n",
    "\n",
    "# Pag 24\n",
    "W0 = S2 / sig0**2 * (n-1)\n",
    "print(f'W0: {W0:.3f}')\n",
    "\n",
    "CHI = chi2.ppf(alpha, n-1)\n",
    "print(f'CHI: {CHI:.3f}')\n",
    "\n",
    "cond = W0 < CHI \n",
    "print(\"Rigetto l'ipotesi nulla\" if cond else \"Non ho elementi sufficienti per rigettare l'ipotesi nulla\")\n",
    "# Dato che W0 < CHI posso rigettare l'ipotesti nulla a favore dell'ipotesti alternativa, quindi la produzione sta andando bene"
   ]
  },
  {
   "cell_type": "markdown",
   "id": "4fd01d84-3ebd-44ba-8b40-f1f0b308422a",
   "metadata": {},
   "source": [
    "# 4. Test sulla proporzione (campione di leggi di Bernoulli)\n",
    "In una catena di produzione si vuole mantenere il numero di pezzi difettosi al di sotto del 5%. Si analizza un campione di 200 pezzi e si trovano 4 pezzi difettosi.\n",
    "- Si può asserire ad un livello di significativita α = 0.05 che la produzione rispetta le aspettative?\n",
    "- Supponendo che il valore vero sia p∗ = 0.03 e supponendo che il costruttore voglia accettare un valore dell’errore di secondo tipo β = 0.1, quale ampiezza dovrebbe avere il campione?"
   ]
  },
  {
   "cell_type": "code",
   "execution_count": 8,
   "id": "61f3b4f9-130a-4087-90fb-b310086bb58e",
   "metadata": {},
   "outputs": [
    {
     "name": "stdout",
     "output_type": "stream",
     "text": [
      "Media campionaria: 0.02\n",
      "Z0: -1.947\n",
      "PHI: -1.645\n",
      "Rigetto l'ipotesi nulla\n"
     ]
    }
   ],
   "source": [
    "# Test unilatero a sinistra\n",
    "# H0 : p = p0\n",
    "# H1 : p < p0\n",
    "\n",
    "p0 = 5/100\n",
    "n = 200\n",
    "k = 4   # numero di successi --> numero di pezzi difettosi\n",
    "alpha = 0.05\n",
    "\n",
    "# Pag 26\n",
    "p = k/n  # media campionaria\n",
    "print(f'Media campionaria: {p}')\n",
    "\n",
    "Z0 = (p-p0) / (np.sqrt( p0*(1-p0) )) * np.sqrt(n)\n",
    "print(f'Z0: {Z0:.3f}')\n",
    "\n",
    "PHI_alpha = norm.ppf(alpha)\n",
    "print(f'PHI: {PHI_alpha:.3f}')\n",
    "\n",
    "cond = Z0 < PHI_alpha\n",
    "print(\"Rigetto l'ipotesi nulla\" if cond else \"Non ho abbastanza elementi per rigettare l'ipotesi nulla\")\n",
    "# dato che Z0 < PHI si rigetta l'ipotesi nulla e si avalla l'ipotesi alternativa quindi le aspettative di produzione sono rispettate"
   ]
  },
  {
   "cell_type": "code",
   "execution_count": 9,
   "id": "32616a1d-5733-4a0f-b68a-4224cd3c91d5",
   "metadata": {},
   "outputs": [
    {
     "name": "stdout",
     "output_type": "stream",
     "text": [
      "PHI_beta: -1.282\n",
      "Dimensione campionaria: 329\n"
     ]
    }
   ],
   "source": [
    "p_star = 0.03 # p0 + delta\n",
    "beta = 0.1\n",
    "\n",
    "PHI_beta = norm.ppf(beta)\n",
    "print(f'PHI_beta: {PHI_beta:.3f}')\n",
    "\n",
    "dim_campionaria = ((PHI_beta * np.sqrt(p_star*(1-p_star))) + (PHI_alpha * np.sqrt(p0*(1-p0))) / (p0-p_star) )**2\n",
    "print(f'Dimensione campionaria: {int(dim_campionaria)}')"
   ]
  },
  {
   "cell_type": "markdown",
   "id": "7b68a7bf-0b7b-4b92-b76e-1537fbd4463f",
   "metadata": {},
   "source": [
    "# 5. Test sulla media per coppie di popolazioni\n",
    "\n",
    "Si vogliono confrontare due tipi di preparati per pittura. Ci si aspetta un diverso tempo di essiccamento. Si può supporre che la deviazione standard del tempo di essiccamento per ciascun tipo di essiccamento sia 8 minuti. 10 pareti vengono tinteggiate con il trattamento 1 e altrettamente pareti con il trattamento 2. <br>Si rilevano le medie campionare X_bar = 121 minuti e Y_bar = 112 minuti. \n",
    "- Si può trarre la clusione che il tempo di essiccamento del campione 1 sia maggiore di quello del campione 2 assumendo α = 0.05?\n",
    "- Calcolare l’intervallo di confidenza per la differenza dei tempi medi di essiccamento."
   ]
  },
  {
   "cell_type": "code",
   "execution_count": 10,
   "id": "1fced30a-1838-4027-93b6-5b0b165362c5",
   "metadata": {},
   "outputs": [
    {
     "name": "stdout",
     "output_type": "stream",
     "text": [
      "Z0: 2.516\n",
      "PHI: 1.645\n",
      "\n",
      "Rigetto l'ipotesi nulla\n",
      "Si può trarre la clusione che il tempo di essiccamento del campione 1 sia maggiore di quello del campione 2 assumendo α = 0.05\n",
      "\n",
      "P-value: 0.006\n",
      "\n",
      "Intervallo di confidenza: ] 3.12, + inf [\n",
      "\n",
      "Vale a dire che il tempo di essiccamento del primo preparato per pittura è di almeno 3.12 minuti\n",
      "maggiore di quello del secondo preparato per pittura con una significatività del 95%.\n"
     ]
    }
   ],
   "source": [
    "# Test unilatero a destra\n",
    "# H0: mu1 = mu2 \n",
    "# H1: mu1 > mu2 \n",
    "\n",
    "sig_1 = sig_2 = 8   # Deviazione standard comune per entrambi i trattamenti\n",
    "n = m = 10     \n",
    "\n",
    "mu_1 = 121  \n",
    "mu_2 = 112 \n",
    "\n",
    "alpha = 0.05 \n",
    "\n",
    "# Pag 31\n",
    "sig2_1 = sig2_2 = sig_1**2\n",
    "Z0 = (mu_1-mu_2)/np.sqrt((sig2_1/n) + (sig2_2/m))\n",
    "print(f'Z0: {Z0:.3f}')\n",
    "\n",
    "PHI = norm.ppf(1-alpha)\n",
    "print(f'PHI: {PHI:.3f}')\n",
    "\n",
    "cond = Z0 > PHI\n",
    "msg = \"Si può trarre la clusione che il tempo di essiccamento del campione 1 sia maggiore di quello del campione 2 assumendo α = 0.05\\n\"\n",
    "print(f\"\\nRigetto l'ipotesi nulla\\n{msg}\" if cond else \"\\nNon ho abbastanza elementi per rigettare l'ipotesi nulla\\n\")\n",
    "\n",
    "# Se si vuole calolare il p-value\n",
    "p_value = 1 - norm.cdf(Z0)\n",
    "print(f'P-value: {p_value:.3f}')\n",
    "\n",
    "# Calcolo dell'intervallo di confidenza per la differenza delle medie\n",
    "A = mu_1-mu_2-PHI*np.sqrt((sig2_1/n) + (sig2_2/m))\n",
    "B = \"+ inf\"\n",
    "\n",
    "msg = f'''\\nVale a dire che il tempo di essiccamento del primo preparato per pittura è di almeno {round(A, 2)} minuti\n",
    "maggiore di quello del secondo preparato per pittura con una significatività del 95%.'''\n",
    "\n",
    "print(f'\\nIntervallo di confidenza: ] {round(A,2)}, {B} [\\n{msg}')"
   ]
  },
  {
   "cell_type": "markdown",
   "id": "95647c59-fe5d-423f-8e28-9fa3d65bfb17",
   "metadata": {},
   "source": [
    "# 6. Test t per coppie di dati"
   ]
  },
  {
   "cell_type": "markdown",
   "id": "87756779-fc02-4773-a05b-96c558653b08",
   "metadata": {},
   "source": [
    "Quindici adulti di età compresa tra 35 e 50 anni parecipano ad uno studio per valutare gli effetti di dieta alimentare ed esercizio fisico sul livello di colesterolo nel sangue. In ogni individuo il livello di colesterolo è stato misurato inizialmente e tre mesi dopo la dieta e l’allenamento. \n",
    "- Con un livello di significatività α = 0.05, è possibile avallare l’ipotesi che dieta ed esercizio fisico portino a ridurre il livello medio di colesterolo?"
   ]
  },
  {
   "cell_type": "code",
   "execution_count": 11,
   "id": "190d3a7f-dc81-406f-b6cc-3676582f5799",
   "metadata": {},
   "outputs": [
    {
     "name": "stdout",
     "output_type": "stream",
     "text": [
      "D: [36  9 31 55 13 13 53 58 13 40 37 22 19 -1 14]\n",
      "D_bar: 27.47\n",
      "S: 18.396\n",
      "T0: 5.783\n",
      "T: 1.761\n",
      "Rigetto l'ipotesi nulla\n"
     ]
    }
   ],
   "source": [
    "# Test unilatero a destra\n",
    "# H0 -> mu_D = 0\n",
    "# H1 -> mu_D > 0\n",
    "\n",
    "x_before = np.array([265, 240, 258, 295, 251, 254, 287, 314, 260, 279, 283, 240, 238, 225, 247])\n",
    "x_after = np.array([229, 231, 227, 240, 238, 241, 234, 256, 247, 239, 246, 218, 219, 226, 233])\n",
    "alpha = 0.05\n",
    "\n",
    "D = x_before - x_after\n",
    "n = D.size\n",
    "print(f'D: {D}')\n",
    "\n",
    "D_bar = np.mean(D)\n",
    "print(f'D_bar: {D_bar:.2f}')\n",
    "\n",
    "S = np.std(D, ddof=1)\n",
    "print(f'S: {S:.3f}')\n",
    "\n",
    "T0 = D_bar/S * np.sqrt(n)\n",
    "print(f'T0: {T0:.3f}')\n",
    "\n",
    "T = t.ppf(1-alpha, n-1)\n",
    "print(f'T: {T:.3f}')\n",
    "\n",
    "cond = T0 > T\n",
    "print(\"Rigetto l'ipotesi nulla\" if cond else \"Non ho abbastanza elementi per rigettare l'ipotesi nulla\")\n",
    "# Rigetto l'ipotesi nulla in favore della prova alternativa, quindi il trattamento da risultati significativi"
   ]
  },
  {
   "cell_type": "markdown",
   "id": "97ca5345-4640-4bc9-82af-38e6d02f472b",
   "metadata": {},
   "source": [
    "# 7. Test del chi-quadro (campione di leggi Multinomiali)"
   ]
  },
  {
   "cell_type": "markdown",
   "id": "355f5ef9-d454-4cfd-a892-8cfd8f945957",
   "metadata": {},
   "source": [
    "Si vuole testare se un dado sia equilibrato o meno ad un livello di significatività α = 0.05. Si effettuano 100 lanci, registrando i risultati riportati nella seguente tabella.\n",
    "\n",
    "20, 7, 12, 18, 20, 23\n",
    "\n",
    "Dopo aver aumentato la dimensione campionaria, si registrano i risultati riportati nella seguente tabella. \n",
    "- Si ripeta il test di cui sopra con i nuovi dati.\n",
    "\n",
    "388, 322, 314, 316, 344, 316\n",
    "\n",
    "- Si ripeta quest’ultimo test con α = 0.01."
   ]
  },
  {
   "cell_type": "code",
   "execution_count": 12,
   "id": "0a3df348-6b78-4725-9e4b-09d6c516dbc3",
   "metadata": {},
   "outputs": [
    {
     "name": "stdout",
     "output_type": "stream",
     "text": [
      "Frequenze assolute teoriche: [16.667 16.667 16.667 16.667 16.667 16.667]\n",
      "Tn: 10.760\n",
      "CHI: 11.070\n",
      "Non ho abbastanza elementi per rigettare l'ipotesi nulla\n"
     ]
    }
   ],
   "source": [
    "# H0 -> Dado equilibrato\n",
    "# H1 -> Dado non equilibrato\n",
    "\n",
    "x = np.array([20, 7, 12, 18, 20, 23])\n",
    "m = x.size\n",
    "n = sum(x) # 100\n",
    "\n",
    "p = 1/6\n",
    "\n",
    "# Pag 40\n",
    "E = np.ones(m) * n * p # array di m elementi n*p\n",
    "print(f'Frequenze assolute teoriche: {np.round(E, 3)}')\n",
    "\n",
    "Tn = sum((x-E)**2 / E) # frequenze assolute\n",
    "print(f'Tn: {Tn:.3f}')\n",
    "\n",
    "alpha = 0.05\n",
    "CHI = chi2.ppf(1-alpha, m-1)\n",
    "print(f'CHI: {CHI:.3f}')\n",
    "\n",
    "cond = Tn > CHI\n",
    "print(\"Rigetto l'ipotesi nulla\" if cond else \"Non ho abbastanza elementi per rigettare l'ipotesi nulla\")"
   ]
  },
  {
   "cell_type": "code",
   "execution_count": 13,
   "id": "83383feb-14b2-4596-9a32-df0aa94e7a72",
   "metadata": {},
   "outputs": [
    {
     "name": "stdout",
     "output_type": "stream",
     "text": [
      "Frequenze assolute attese: [333.333 333.333 333.333 333.333 333.333 333.333]\n",
      "Tn: 12.616\n",
      "Se n = 2000 allora rigetto l'ipotesi nulla\n"
     ]
    }
   ],
   "source": [
    "x = np.array([388, 322, 314, 316, 344, 316])\n",
    "n = np.sum(x) # 2000\n",
    "\n",
    "E = np.ones(m) *p *n # array di 6 elementi n*p\n",
    "print(f'Frequenze assolute attese: {np.round(E,3)}')\n",
    "\n",
    "Tn = sum((x-E)**2 / E)\n",
    "print(f'Tn: {Tn:.3f}')\n",
    "\n",
    "cond = Tn > CHI\n",
    "print(f\"Se n = {n} allora\", end=\" \")\n",
    "print(\"rigetto l'ipotesi nulla\" if cond else \"non ho abbastanza elementi per rigettare l'ipotesi nulla\")\n",
    "# Dado non equilibrato"
   ]
  },
  {
   "cell_type": "code",
   "execution_count": 14,
   "id": "1348a670-2cf6-4e40-b177-fd343623cc01",
   "metadata": {},
   "outputs": [
    {
     "name": "stdout",
     "output_type": "stream",
     "text": [
      "CHI: 15.086\n",
      "Se alpha = 0.01 allora non ho abbastanza elementi per rigettare l'ipotesi nulla\n"
     ]
    }
   ],
   "source": [
    "alpha = 0.01\n",
    "CHI = chi2.ppf(1-alpha, m-1)\n",
    "print(f'CHI: {CHI:.3f}')\n",
    "\n",
    "cond = Tn > CHI\n",
    "print(f\"Se alpha = {alpha} allora\", end=\" \")\n",
    "print(\"rigetto l'ipotesi nulla\" if cond else \"non ho abbastanza elementi per rigettare l'ipotesi nulla\")"
   ]
  },
  {
   "cell_type": "markdown",
   "id": "65abcc27-a5ae-42b0-a799-de16fcda661a",
   "metadata": {},
   "source": [
    "# 8. Test di adattamento (ricondotto al chi-quadro)"
   ]
  },
  {
   "cell_type": "markdown",
   "id": "789458c3-62b3-4b94-8cce-2c26dfe530a6",
   "metadata": {},
   "source": [
    "Si può adattare una distibuzione di Poisson ai dati della seguente tabella ? 584, 398, 165, 35, 15"
   ]
  },
  {
   "cell_type": "code",
   "execution_count": 15,
   "id": "97de9b7b-2512-4010-be9d-694d41f6072c",
   "metadata": {},
   "outputs": [
    {
     "name": "stdout",
     "output_type": "stream",
     "text": [
      "Frequenze relative empiriche: [0.48788638 0.33249791 0.13784461 0.02923977 0.01253133]\n",
      "Lambda: 0.746\n",
      "Frequenze relative teoriche: [0.47424475 0.35380164 0.13197363 0.03281884 0.00716115]\n",
      "Tn: 7.605\n",
      "CHI: 7.815\n",
      "Non ho abbastanza elementi per rigettare l'ipotesi nulla\n"
     ]
    }
   ],
   "source": [
    "# H0 -> I dati seguono una distribuzione di Poisson\n",
    "# H1 -> I dati NON seguono una distribuzione di Poisson\n",
    "\n",
    "x = np.array([584, 398, 165, 35, 15])\n",
    "m = x.size\n",
    "n = np.sum(x)\n",
    "\n",
    "pk_bar = x/n \n",
    "print(f'Frequenze relative empiriche: {pk_bar}')\n",
    "\n",
    "# Stimo lambda con la media campionaria\n",
    "Lambda = np.sum(x * np.array([0, 1, 2, 3, 4]))/n\n",
    "print(f'Lambda: {Lambda:.3f}')\n",
    "\n",
    "pk = np.zeros(m)\n",
    "for i in range(m-1):\n",
    "    pk[i] = poisson.pmf(i, Lambda)   # i -> numero di successi\n",
    "pk[m-1] = 1-np.sum(pk)\n",
    "print(f'Frequenze relative teoriche: {pk}')\n",
    "\n",
    "# Teorema di Pearson Pag 38\n",
    "Tn = n*np.sum((pk_bar-pk)**2 / pk) # frequenze relative\n",
    "print(f'Tn: {Tn:.3f}')\n",
    "\n",
    "alpha = 0.05\n",
    "r = 1 # numero di parametri stimati -> Lambda\n",
    "CHI = chi2.ppf(1-alpha, m-r-1)\n",
    "print(f'CHI: {CHI:.3f}')\n",
    "\n",
    "cond = Tn > CHI\n",
    "print(\"Rigetto l'ipotesi nulla\" if cond else \"Non ho abbastanza elementi per rigettare l'ipotesi nulla\")"
   ]
  },
  {
   "cell_type": "markdown",
   "id": "bb526ea6-d4ce-45b5-9513-79881b1f9636",
   "metadata": {},
   "source": [
    "# 9. Test del chi-quadro di indipendenza"
   ]
  },
  {
   "cell_type": "markdown",
   "id": "da56bb50-2a3c-43a2-a45c-4d98044ca154",
   "metadata": {},
   "source": [
    "Si vuole testare se un antibiotico è efficace. Si considerano 170 pazienti. I dati ottenuti sono stati raccolti nella tabella seguente, detta tabella di contingenza:\n",
    "\n",
    "- I due effetti, trattamento e guarigione, sono indipendenti ?"
   ]
  },
  {
   "cell_type": "code",
   "execution_count": 16,
   "id": "77f02b25-d31b-4b54-8646-b7f18b9792b2",
   "metadata": {},
   "outputs": [
    {
     "name": "stdout",
     "output_type": "stream",
     "text": [
      "Frequenze relative relative di trattamento: [0.31764706 0.68235294]\n",
      "Frequenze relative relative di guarigione: [0.73529412 0.26470588]\n",
      "Probabilità congiunte empiriche: \n",
      "[[0.25882353 0.05882353]\n",
      " [0.47647059 0.20588235]]\n",
      "\n",
      "Tn: 3.018\n",
      "CHI: 3.841\n",
      "Non ho abbastanza elementi per rigettare l'ipotesi nulla\n"
     ]
    }
   ],
   "source": [
    "x = np.array([[44, 10], [81, 35]])\n",
    "n = 170\n",
    "m = r = 2 # possibili esiti per X e per Y\n",
    "alpha = 0.05\n",
    "\n",
    "# pag 48\n",
    "# Frequenze relative empiriche di trattamento\n",
    "p_bar = np.array([54, 116])/n\n",
    "print(f'Frequenze relative relative di trattamento: {p_bar}')\n",
    "\n",
    "# Frequenze relative empiriche di guarigione\n",
    "q_bar = np.array([125, 45])/n\n",
    "print(f'Frequenze relative relative di guarigione: {q_bar}')\n",
    "\n",
    "# Probabilità congiunte empiriche\n",
    "pi_greco = x/n\n",
    "print(f'Probabilità congiunte empiriche: \\n{pi_greco}\\n')\n",
    "\n",
    "Tn = 0 \n",
    "for h in range(m):\n",
    "    for k in range(r):\n",
    "        Tn += n* ((p_bar[h]*q_bar[k] - pi_greco[h][k])**2 / pi_greco[h][k])\n",
    "print(f'Tn: {Tn:.3f}')\n",
    "\n",
    "CHI = chi2.ppf(1-alpha, (m-1)*(r-1))\n",
    "print(f'CHI: {CHI:.3f}')\n",
    "\n",
    "cond = Tn > CHI\n",
    "print(\"Rigetto l'ipotesi nulla\" if cond else \"Non ho abbastanza elementi per rigettare l'ipotesi nulla\")"
   ]
  },
  {
   "cell_type": "markdown",
   "id": "c976577d-a644-4e08-bf1e-d3bafc700ed5",
   "metadata": {},
   "source": [
    "# **Test non parametrici**"
   ]
  },
  {
   "cell_type": "markdown",
   "id": "33795633-c847-4649-baa7-c319a90cba85",
   "metadata": {},
   "source": [
    "# 10. Test della mediana"
   ]
  },
  {
   "cell_type": "markdown",
   "id": "3d356369-3082-4002-a372-4901a841cbaf",
   "metadata": {},
   "source": [
    "Un motore a reazione è formato legando insieme un propellente di accensione e un propellente di sostegno all’interno di un alloggiamento metallico. <br>La resistenza al taglio del legame tra i due tipi di propellente è una caratteristica importante.\n",
    "- Vogliamo testare l’ipotesi che la mediana della resistenza al taglio sia 2000 psi con una significatività α = 0.05.\n",
    "\n",
    "I dati sono riportati nel file Dataset motore.dat."
   ]
  },
  {
   "cell_type": "code",
   "execution_count": 21,
   "id": "9e39b222-6b61-465c-bbbc-b9bf2bbb3d9e",
   "metadata": {},
   "outputs": [
    {
     "name": "stdout",
     "output_type": "stream",
     "text": [
      "Numero di diff. positive: 14\n",
      "P-value: 0.115\n",
      "Non ho abbastanza elementi per rigettare l'ipotesi nulla\n"
     ]
    }
   ],
   "source": [
    "# Test bilatero\n",
    "# H0 -> mu = 2000\n",
    "# H1 -> mu != 2000\n",
    "\n",
    "x = np.loadtxt(\"Dataset_motore.dat\")\n",
    "n = x.size\n",
    "mu = 2000\n",
    "p = 1/2\n",
    "alpha = 0.05\n",
    "\n",
    "D = x - mu\n",
    "# print(f'Differenze: {D}')\n",
    "\n",
    "r = sum((D>0))\n",
    "print(f'Numero di diff. positive: {r}')\n",
    "# poichè r > n/2  si ha che p_value = 2P(R >= r)\n",
    "\n",
    "p_value = 2 * sum(binom.pmf(k, n, p) for k in range(r, n+1)) # numeri da r a n\n",
    "print(f'P-value: {p_value:.3f}')\n",
    "\n",
    "cond = p_value <= alpha\n",
    "print(\"Rigetto l'ipotesi nulla\" if cond else \"Non ho abbastanza elementi per rigettare l'ipotesi nulla\")"
   ]
  },
  {
   "cell_type": "markdown",
   "id": "8ddd691b-bd59-46d8-9c4e-5eaf37e93db4",
   "metadata": {},
   "source": [
    "# 11. Test di Kruskal-Wallis"
   ]
  },
  {
   "cell_type": "markdown",
   "id": "34b78215-9a86-4f9e-bcce-bf84ca862c70",
   "metadata": {},
   "source": [
    "In un esperimento si confrontano quattro diverse tecniche di mescolamento per il cemento e si misura la resistenza alla trazione. \n",
    "- Si può affermare che la tecnica di mescolamento influisca sulla resistenza alla trazione? Si usi α = 0.05."
   ]
  },
  {
   "cell_type": "code",
   "execution_count": 18,
   "id": "f4617096-5b8f-4c19-bd6a-1fb0befd1780",
   "metadata": {},
   "outputs": [
    {
     "name": "stdout",
     "output_type": "stream",
     "text": [
      "Numero totale di osservazioni: 16\n",
      "Ranghi: [14.  11.5  6.   7.  16.  11.5  9.  15.   5.   8.  10.  13.   1.5  3.\n",
      "  1.5  4. ]\n",
      "S2: 22.6\n",
      "RR: [38.5 51.5 36.  10. ]\n",
      "H: 10.027654867256636\n",
      "CHI: 0.35184631774927144\n",
      "Rigetto l'ipotesi nulla\n"
     ]
    }
   ],
   "source": [
    "# H0 -> Tutte le mediane sono uguali, ovvero che la tecnica non influisce sulla trazione\n",
    "# H1 -> La tecnica di mescolamento influisce sulla resistenza alla trazione\n",
    "\n",
    "x1 = np.array([3129, 3000, 2865, 2890])\n",
    "x2 = np.array([3200, 3000, 2975, 3150])\n",
    "x3 = np.array([2800, 2900, 2985, 3050])\n",
    "x4 = np.array([2600, 2700, 2600, 2765])\n",
    "\n",
    "m = 4 # no. campioni\n",
    "n = np.array([x1.size, x2.size, x3.size, x4.size]) \n",
    "N = np.sum(n)\n",
    "print(f'Numero totale di osservazioni: {N}') \n",
    "alpha = 0.05\n",
    "\n",
    "x = np.concatenate([x1, x2, x3, x4])\n",
    "R = rankdata(x) # ranghi da 1 ad N\n",
    "print(f'Ranghi: {R}')\n",
    "\n",
    "# Siamo in presenza di dati ripetuti (Pag 62)\n",
    "S2 = (np.sum(R**2) - (N*(N+1)**2) / 4) / (N-1)\n",
    "print(f'S2: {S2}')\n",
    "\n",
    "# Somma dei ranghi per ogni campione\n",
    "RR = np.zeros(m)\n",
    "for i in range(m):\n",
    "    RR[i] = np.sum(R[m*i:m*(i+1)])\n",
    "print(f'RR: {RR}')\n",
    "\n",
    "H = (np.sum(RR**2/n) - N*(N+1)**2 /4)/S2\n",
    "print(f'H: {H}')\n",
    "\n",
    "CHI = chi2.ppf(alpha, m-1)\n",
    "print(f'CHI: {CHI}')\n",
    "\n",
    "cond = H >= CHI\n",
    "print(\"Rigetto l'ipotesi nulla\" if cond else \"Non ho abbastanza elementi per rigettare l'ipotesi nulla\")"
   ]
  }
 ],
 "metadata": {
  "kernelspec": {
   "display_name": "Python 3 (ipykernel)",
   "language": "python",
   "name": "python3"
  },
  "language_info": {
   "codemirror_mode": {
    "name": "ipython",
    "version": 3
   },
   "file_extension": ".py",
   "mimetype": "text/x-python",
   "name": "python",
   "nbconvert_exporter": "python",
   "pygments_lexer": "ipython3",
   "version": "3.10.12"
  }
 },
 "nbformat": 4,
 "nbformat_minor": 5
}
